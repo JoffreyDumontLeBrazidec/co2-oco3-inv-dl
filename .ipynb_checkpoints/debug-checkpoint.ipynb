{
 "cells": [
  {
   "cell_type": "code",
   "execution_count": 1,
   "id": "d53ecf53-fa78-49b0-bfb4-1d22c80dff2d",
   "metadata": {},
   "outputs": [
    {
     "name": "stderr",
     "output_type": "stream",
     "text": [
      "2023-02-28 19:02:37.205853: I tensorflow/core/platform/cpu_feature_guard.cc:193] This TensorFlow binary is optimized with oneAPI Deep Neural Network Library (oneDNN) to use the following CPU instructions in performance-critical operations:  SSE4.1 SSE4.2 AVX AVX2 AVX512F FMA\n",
      "To enable them in other operations, rebuild TensorFlow with the appropriate compiler flags.\n"
     ]
    },
    {
     "data": {
      "text/plain": [
       "<Figure size 1920x1440 with 0 Axes>"
      ]
     },
     "metadata": {},
     "output_type": "display_data"
    }
   ],
   "source": [
    "import os\n",
    "\n",
    "os.chdir(\"/cerea_raid/users/dumontj/dev/coco2/dl\")\n",
    "import numpy as np\n",
    "import sys\n",
    "import pandas as pd\n",
    "import xarray as xr\n",
    "import tensorflow as tf\n",
    "from sklearn import preprocessing\n",
    "import matplotlib.pyplot as plt\n",
    "import seaborn as sns\n",
    "\n",
    "import matplotlib_functions\n",
    "\n",
    "matplotlib_functions.setMatplotlibParam()\n",
    "plt.viridis()\n",
    "import joblib\n",
    "import pickle\n",
    "from include.generators import Generator\n",
    "from saver import Saver\n",
    "from include.callbacks import get_modelcheckpoint, ExtraValidation\n",
    "\n",
    "import model_eval\n",
    "from Data import Data_train, Data_eval\n",
    "import wandb\n",
    "from wandb.keras import WandbCallback, WandbMetricsLogger\n",
    "import models.reg as rm"
   ]
  },
  {
   "cell_type": "code",
   "execution_count": 2,
   "id": "5307af57-bade-41b7-9f3c-407c9cb54aaa",
   "metadata": {},
   "outputs": [],
   "source": [
    "general_save_dir = \"/cerea_raid/users/dumontj/dev/coco2/dl/nb_train/sim/\"\n",
    "project_name = \"test_to_delete\""
   ]
  },
  {
   "cell_type": "code",
   "execution_count": 3,
   "id": "b6e2509e-d07c-44ac-ad28-d4fa7b2d8ae6",
   "metadata": {},
   "outputs": [],
   "source": [
    "path_train_nc = \"/libre/dumontj/coco2/dl-input/2km_forBox/train_dataset.nc\"\n",
    "path_valid_nc = \"/libre/dumontj/coco2/dl-input/2km_forBox/valid_dataset.nc\"\n",
    "path_extra_valid_nc = \"/libre/dumontj/coco2/dl-input/2km_Box/valid_dataset.nc\"\n",
    "\n",
    "save_dir = os.path.join(general_save_dir, \"box\")"
   ]
  },
  {
   "cell_type": "code",
   "execution_count": 4,
   "id": "264d8d04-9eb3-4524-a647-f0cd8f57c171",
   "metadata": {},
   "outputs": [
    {
     "name": "stderr",
     "output_type": "stream",
     "text": [
      "2023-02-28 19:02:43.624966: I tensorflow/core/platform/cpu_feature_guard.cc:193] This TensorFlow binary is optimized with oneAPI Deep Neural Network Library (oneDNN) to use the following CPU instructions in performance-critical operations:  SSE4.1 SSE4.2 AVX AVX2 AVX512F FMA\n",
      "To enable them in other operations, rebuild TensorFlow with the appropriate compiler flags.\n",
      "2023-02-28 19:02:44.147437: I tensorflow/core/common_runtime/gpu/gpu_device.cc:1613] Created device /job:localhost/replica:0/task:0/device:GPU:0 with 14482 MB memory:  -> device: 0, name: Quadro RTX 5000, pci bus id: 0000:65:00.0, compute capability: 7.5\n"
     ]
    },
    {
     "name": "stdout",
     "output_type": "stream",
     "text": [
      "data.x.train.shape (47160, 64, 64, 1)\n"
     ]
    }
   ],
   "source": [
    "data = Data_train(path_train_nc, path_valid_nc, path_extra_valid_nc)\n",
    "data.prepare_input(\"xco2\")\n",
    "data.prepare_output_inversion()"
   ]
  },
  {
   "cell_type": "code",
   "execution_count": 5,
   "id": "79a4c59e-f843-4e0f-8e36-5042b4a6ec03",
   "metadata": {},
   "outputs": [
    {
     "name": "stderr",
     "output_type": "stream",
     "text": [
      "Failed to detect the name of this notebook, you can set it manually with the WANDB_NOTEBOOK_NAME environment variable to enable code saving.\n",
      "\u001b[34m\u001b[1mwandb\u001b[0m: Currently logged in as: \u001b[33mjoffreydumont\u001b[0m (\u001b[33mcerea-daml\u001b[0m). Use \u001b[1m`wandb login --relogin`\u001b[0m to force relogin\n"
     ]
    },
    {
     "data": {
      "text/html": [
       "wandb version 0.13.10 is available!  To upgrade, please run:\n",
       " $ pip install wandb --upgrade"
      ],
      "text/plain": [
       "<IPython.core.display.HTML object>"
      ]
     },
     "metadata": {},
     "output_type": "display_data"
    },
    {
     "data": {
      "text/html": [
       "Tracking run with wandb version 0.13.7"
      ],
      "text/plain": [
       "<IPython.core.display.HTML object>"
      ]
     },
     "metadata": {},
     "output_type": "display_data"
    },
    {
     "data": {
      "text/html": [
       "Run data is saved locally in <code>/cerea_raid/users/dumontj/dev/coco2/dl/wandb/run-20230228_190250-2iec8sn2</code>"
      ],
      "text/plain": [
       "<IPython.core.display.HTML object>"
      ]
     },
     "metadata": {},
     "output_type": "display_data"
    },
    {
     "data": {
      "text/html": [
       "Syncing run <strong><a href=\"https://wandb.ai/cerea-daml/test_to_delete/runs/2iec8sn2\" target=\"_blank\">xco2_prec_winds_noisy_boolperfseg_modelX</a></strong> to <a href=\"https://wandb.ai/cerea-daml/test_to_delete\" target=\"_blank\">Weights & Biases</a> (<a href=\"https://wandb.me/run\" target=\"_blank\">docs</a>)<br/>"
      ],
      "text/plain": [
       "<IPython.core.display.HTML object>"
      ]
     },
     "metadata": {},
     "output_type": "display_data"
    },
    {
     "data": {
      "text/html": [
       "<button onClick=\"this.nextSibling.style.display='block';this.style.display='none';\">Display W&B run</button><iframe src=\"https://wandb.ai/cerea-daml/test_to_delete/runs/2iec8sn2?jupyter=true\" style=\"border:none;width:100%;height:420px;display:none;\"></iframe>"
      ],
      "text/plain": [
       "<wandb.sdk.wandb_run.Run at 0x7fe020349610>"
      ]
     },
     "execution_count": 5,
     "metadata": {},
     "output_type": "execute_result"
    }
   ],
   "source": [
    "exp_name = \"xco2_prec_winds_noisy_boolperfseg_modelX\"\n",
    "wandb.init(project=project_name, name=exp_name)"
   ]
  },
  {
   "cell_type": "code",
   "execution_count": 6,
   "id": "d51aee84-1ff9-48aa-9a07-dcc36ec32209",
   "metadata": {},
   "outputs": [],
   "source": [
    "cbs = get_modelcheckpoint(True, [], os.path.join(save_dir, exp_name, \"w_best.h5\"))\n",
    "history = ExtraValidation((data.x.extra_valid, data.y.extra_valid))\n",
    "cbs.append(WandbMetricsLogger())\n",
    "cbs.append(history)"
   ]
  },
  {
   "cell_type": "code",
   "execution_count": 7,
   "id": "eeebc65c-fbd5-475f-9865-c5e9f4f3665e",
   "metadata": {},
   "outputs": [],
   "source": [
    "reg_builder = rm.Reg_model_builder(\n",
    "    \"essential\",\n",
    "    data.x.fields_input_shape,\n",
    "    data.y.classes,\n",
    "    data.x.n_layer,\n",
    "    data.x.xco2_noisy_chans,\n",
    ")\n",
    "model = reg_builder.get_model()\n",
    "model.compile(\"adam\", \"MeanAbsoluteError\", metrics=tf.keras.losses.MeanAbsolutePercentageError())"
   ]
  },
  {
   "cell_type": "code",
   "execution_count": null,
   "id": "ff7e5a93-14a4-4bdf-98e2-75d53f05e574",
   "metadata": {},
   "outputs": [
    {
     "name": "stdout",
     "output_type": "stream",
     "text": [
      "Epoch 1/2\n"
     ]
    },
    {
     "name": "stderr",
     "output_type": "stream",
     "text": [
      "2023-02-28 19:02:53.616846: E tensorflow/core/grappler/optimizers/meta_optimizer.cc:954] layout failed: INVALID_ARGUMENT: Size of values 0 does not match size of permutation 4 @ fanin shape inmodel_1/model/dropout/dropout/SelectV2-2-TransposeNHWCToNCHW-LayoutOptimizer\n",
      "2023-02-28 19:02:54.353034: I tensorflow/compiler/xla/stream_executor/cuda/cuda_dnn.cc:428] Loaded cuDNN version 8401\n",
      "2023-02-28 19:02:54.912926: I tensorflow/tsl/platform/default/subprocess.cc:304] Start cannot spawn child process: No such file or directory\n",
      "2023-02-28 19:02:55.263559: I tensorflow/compiler/xla/service/service.cc:173] XLA service 0x7fd9a25c8060 initialized for platform CUDA (this does not guarantee that XLA will be used). Devices:\n",
      "2023-02-28 19:02:55.263588: I tensorflow/compiler/xla/service/service.cc:181]   StreamExecutor device (0): Quadro RTX 5000, Compute Capability 7.5\n",
      "2023-02-28 19:02:55.267023: I tensorflow/compiler/mlir/tensorflow/utils/dump_mlir_util.cc:268] disabling MLIR crash reproducer, set env var `MLIR_CRASH_REPRODUCER_DIRECTORY` to enable.\n",
      "2023-02-28 19:02:55.320261: I tensorflow/tsl/platform/default/subprocess.cc:304] Start cannot spawn child process: No such file or directory\n",
      "2023-02-28 19:02:55.367769: I tensorflow/compiler/jit/xla_compilation_cache.cc:477] Compiled cluster using XLA!  This line is logged at most once for the lifetime of the process.\n"
     ]
    },
    {
     "name": "stdout",
     "output_type": "stream",
     "text": [
      "1474/1474 [==============================] - ETA: 0s - loss: 8.3482\n",
      "Epoch 1: val_loss improved from inf to 7.79196, saving model to /cerea_raid/users/dumontj/dev/coco2/dl/nb_train/sim/box/xco2_prec_winds_noisy_boolperfseg_modelX/w_best.h5\n",
      "extra_val_loss: 6.049952030181885\n",
      "1474/1474 [==============================] - 26s 14ms/step - loss: 8.3482 - val_loss: 7.7920\n",
      "Epoch 2/2\n",
      "1148/1474 [======================>.......] - ETA: 4s - loss: 7.6356"
     ]
    }
   ],
   "source": [
    "model.fit(\n",
    "    data.x.train,\n",
    "    data.y.train,\n",
    "    epochs=2,\n",
    "    callbacks=cbs,\n",
    "    validation_data=(data.x.valid, data.y.valid),\n",
    "    verbose=1,\n",
    ")"
   ]
  },
  {
   "cell_type": "code",
   "execution_count": null,
   "id": "1065cdad-49d3-47d9-addc-558334d5b917",
   "metadata": {},
   "outputs": [],
   "source": []
  }
 ],
 "metadata": {
  "kernelspec": {
   "display_name": "Python 3 (ipykernel)",
   "language": "python",
   "name": "python3"
  },
  "language_info": {
   "codemirror_mode": {
    "name": "ipython",
    "version": 3
   },
   "file_extension": ".py",
   "mimetype": "text/x-python",
   "name": "python",
   "nbconvert_exporter": "python",
   "pygments_lexer": "ipython3",
   "version": "3.9.15"
  },
  "vscode": {
   "interpreter": {
    "hash": "3413748b5e49ce5f16477647b547d9baa535cdc90ddd5f67f19155b053a6b1b4"
   }
  }
 },
 "nbformat": 4,
 "nbformat_minor": 5
}
