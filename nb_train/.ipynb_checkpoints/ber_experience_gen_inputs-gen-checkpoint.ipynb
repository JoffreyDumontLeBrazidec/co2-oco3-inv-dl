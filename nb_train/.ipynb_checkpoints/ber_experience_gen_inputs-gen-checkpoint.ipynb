{
 "cells": [
  {
   "cell_type": "markdown",
   "id": "223fb8ae-abc6-4565-a95a-fd5a35a8e5eb",
   "metadata": {
    "tags": []
   },
   "source": [
    "### Import lib"
   ]
  },
  {
   "cell_type": "code",
   "execution_count": 1,
   "id": "be41bdd8-65a3-4491-a8b7-b8369481548e",
   "metadata": {},
   "outputs": [],
   "source": [
    "%load_ext lab_black"
   ]
  },
  {
   "cell_type": "code",
   "execution_count": 2,
   "id": "feb2ab78-1f9d-44a9-b82e-7dfe09aa80cf",
   "metadata": {},
   "outputs": [
    {
     "name": "stderr",
     "output_type": "stream",
     "text": [
      "2023-02-10 18:56:31.411564: I tensorflow/core/platform/cpu_feature_guard.cc:193] This TensorFlow binary is optimized with oneAPI Deep Neural Network Library (oneDNN) to use the following CPU instructions in performance-critical operations:  SSE4.1 SSE4.2 AVX AVX2 AVX512F FMA\n",
      "To enable them in other operations, rebuild TensorFlow with the appropriate compiler flags.\n"
     ]
    },
    {
     "data": {
      "text/plain": [
       "<Figure size 1920x1440 with 0 Axes>"
      ]
     },
     "metadata": {},
     "output_type": "display_data"
    }
   ],
   "source": [
    "import os\n",
    "\n",
    "os.chdir(\"/cerea_raid/users/dumontj/dev/coco2/dl\")\n",
    "import numpy as np\n",
    "import sys\n",
    "import pandas as pd\n",
    "import xarray as xr\n",
    "import tensorflow as tf\n",
    "from sklearn import preprocessing\n",
    "import matplotlib.pyplot as plt\n",
    "import seaborn as sns\n",
    "\n",
    "import matplotlib_functions\n",
    "\n",
    "matplotlib_functions.setMatplotlibParam()\n",
    "plt.viridis()\n",
    "import joblib\n",
    "import pickle\n",
    "from include.generators import Generator\n",
    "from saver import Saver\n",
    "from include.callbacks import get_modelcheckpoint, ExtraValidation\n",
    "\n",
    "import model_eval\n",
    "from Data import Data_train, Data_eval\n",
    "import wandb\n",
    "from wandb.keras import WandbCallback, WandbMetricsLogger\n",
    "import models.reg as rm\n",
    "from include.loss import rmae\n",
    "from include.loss import rmae"
   ]
  },
  {
   "cell_type": "code",
   "execution_count": 3,
   "id": "51f8c383-2877-4b43-a0dd-a50749d81033",
   "metadata": {},
   "outputs": [],
   "source": [
    "generator = tf.keras.preprocessing.image.ImageDataGenerator(\n",
    "    rotation_range=180,\n",
    "    width_shift_range=0.2,\n",
    "    height_shift_range=0.2,\n",
    "    horizontal_flip=True,\n",
    "    vertical_flip=True,\n",
    "    shear_range=45,\n",
    "    zoom_range=0.2,\n",
    ")"
   ]
  },
  {
   "cell_type": "code",
   "execution_count": 4,
   "id": "ddfe802b-7340-4193-abfa-fcab5d594dc8",
   "metadata": {},
   "outputs": [],
   "source": [
    "general_save_dir = \"/cerea_raid/users/dumontj/dev/coco2/dl/nb_train/sim/\"\n",
    "project_name = \"exp_inputs_pat\""
   ]
  },
  {
   "cell_type": "markdown",
   "id": "be5621e3-ae5f-4360-9f26-dc407f5a506d",
   "metadata": {
    "tags": []
   },
   "source": [
    "### Data download"
   ]
  },
  {
   "cell_type": "code",
   "execution_count": 5,
   "id": "f93ca800-a7c0-4da8-9705-c45183701de9",
   "metadata": {},
   "outputs": [],
   "source": [
    "path_train_nc = \"/libre/dumontj/coco2/dl-input/2km_forPat_2/train_dataset.nc\"\n",
    "path_valid_nc = \"/libre/dumontj/coco2/dl-input/2km_forPat_2/valid_dataset.nc\"\n",
    "path_extra_valid_nc = \"/libre/dumontj/coco2/dl-input/2km_Pat/valid_dataset.nc\"\n",
    "\n",
    "save_dir = os.path.join(general_save_dir, \"pat\")"
   ]
  },
  {
   "cell_type": "markdown",
   "id": "c7970210-a013-43c7-9f47-0b0f499346f8",
   "metadata": {
    "tags": []
   },
   "source": [
    "# PLUME"
   ]
  },
  {
   "cell_type": "code",
   "execution_count": 6,
   "id": "119b4986-03e0-4f43-a5cf-6d447e81fd79",
   "metadata": {},
   "outputs": [
    {
     "name": "stdout",
     "output_type": "stream",
     "text": [
      "data.x.train.shape (12576, 64, 64, 1)\n"
     ]
    }
   ],
   "source": [
    "data = Data_train(path_train_nc, path_valid_nc, path_extra_valid_nc)\n",
    "data.prepare_input(\"plume\")\n",
    "data.prepare_output_inversion()"
   ]
  },
  {
   "cell_type": "markdown",
   "id": "3080f54c-da6e-4a6f-81c3-8e4bb7485af2",
   "metadata": {
    "tags": []
   },
   "source": [
    "## EfficientNetB0 - no gen"
   ]
  },
  {
   "cell_type": "code",
   "execution_count": 7,
   "id": "5af0222b-f790-4f2b-8b49-08be0cceb92e",
   "metadata": {},
   "outputs": [
    {
     "name": "stderr",
     "output_type": "stream",
     "text": [
      "Failed to detect the name of this notebook, you can set it manually with the WANDB_NOTEBOOK_NAME environment variable to enable code saving.\n",
      "\u001b[34m\u001b[1mwandb\u001b[0m: Currently logged in as: \u001b[33mjoffreydumont\u001b[0m (\u001b[33mcerea-daml\u001b[0m). Use \u001b[1m`wandb login --relogin`\u001b[0m to force relogin\n"
     ]
    },
    {
     "data": {
      "text/html": [
       "wandb version 0.13.10 is available!  To upgrade, please run:\n",
       " $ pip install wandb --upgrade"
      ],
      "text/plain": [
       "<IPython.core.display.HTML object>"
      ]
     },
     "metadata": {},
     "output_type": "display_data"
    },
    {
     "data": {
      "text/html": [
       "Tracking run with wandb version 0.13.7"
      ],
      "text/plain": [
       "<IPython.core.display.HTML object>"
      ]
     },
     "metadata": {},
     "output_type": "display_data"
    },
    {
     "data": {
      "text/html": [
       "Run data is saved locally in <code>/cerea_raid/users/dumontj/dev/coco2/dl/wandb/run-20230210_185641-2wt080ez</code>"
      ],
      "text/plain": [
       "<IPython.core.display.HTML object>"
      ]
     },
     "metadata": {},
     "output_type": "display_data"
    },
    {
     "data": {
      "text/html": [
       "Syncing run <strong><a href=\"https://wandb.ai/cerea-daml/exp_inputs_pat/runs/2wt080ez\" target=\"_blank\">plume_Eff_nogen</a></strong> to <a href=\"https://wandb.ai/cerea-daml/exp_inputs_pat\" target=\"_blank\">Weights & Biases</a> (<a href=\"https://wandb.me/run\" target=\"_blank\">docs</a>)<br/>"
      ],
      "text/plain": [
       "<IPython.core.display.HTML object>"
      ]
     },
     "metadata": {},
     "output_type": "display_data"
    },
    {
     "data": {
      "text/html": [
       "<button onClick=\"this.nextSibling.style.display='block';this.style.display='none';\">Display W&B run</button><iframe src=\"https://wandb.ai/cerea-daml/exp_inputs_pat/runs/2wt080ez?jupyter=true\" style=\"border:none;width:100%;height:420px;display:none;\"></iframe>"
      ],
      "text/plain": [
       "<wandb.sdk.wandb_run.Run at 0x7f7b13c42fa0>"
      ]
     },
     "execution_count": 7,
     "metadata": {},
     "output_type": "execute_result"
    }
   ],
   "source": [
    "exp_name = \"plume_Eff_nogen\"\n",
    "wandb.init(project=project_name, name=exp_name)"
   ]
  },
  {
   "cell_type": "code",
   "execution_count": 8,
   "id": "10e2ab9d-10d1-4dca-8bb0-ca43037fd23e",
   "metadata": {},
   "outputs": [],
   "source": [
    "cbs = get_modelcheckpoint(True, [], os.path.join(save_dir, exp_name, \"w_best.h5\"))\n",
    "history = ExtraValidation((data.x.extra_valid, data.y.extra_valid))\n",
    "cbs.append(WandbMetricsLogger())\n",
    "cbs.append(history)"
   ]
  },
  {
   "cell_type": "code",
   "execution_count": 9,
   "id": "b83feedf-cb5f-47fe-9a1d-8533e17c3355",
   "metadata": {},
   "outputs": [
    {
     "name": "stderr",
     "output_type": "stream",
     "text": [
      "2023-02-10 18:56:42.157107: I tensorflow/core/platform/cpu_feature_guard.cc:193] This TensorFlow binary is optimized with oneAPI Deep Neural Network Library (oneDNN) to use the following CPU instructions in performance-critical operations:  SSE4.1 SSE4.2 AVX AVX2 AVX512F FMA\n",
      "To enable them in other operations, rebuild TensorFlow with the appropriate compiler flags.\n",
      "2023-02-10 18:56:42.708312: I tensorflow/core/common_runtime/gpu/gpu_device.cc:1613] Created device /job:localhost/replica:0/task:0/device:GPU:0 with 14490 MB memory:  -> device: 0, name: Quadro RTX 5000, pci bus id: 0000:65:00.0, compute capability: 7.5\n"
     ]
    }
   ],
   "source": [
    "model_builder = rm.Keras_reg_model_builder(\"EfficientNetB0\", data.x.train.shape[1:], 1)\n",
    "model = model_builder.get_model()\n",
    "model.compile(\"adam\", loss=tf.keras.losses.MeanAbsoluteError())"
   ]
  },
  {
   "cell_type": "markdown",
   "id": "678c084f-2814-4bf3-869e-d02456759346",
   "metadata": {
    "tags": []
   },
   "source": [
    "### Train "
   ]
  },
  {
   "cell_type": "code",
   "execution_count": null,
   "id": "f177c6b8-7db2-44b2-9a44-df693d6d1f04",
   "metadata": {},
   "outputs": [
    {
     "name": "stdout",
     "output_type": "stream",
     "text": [
      "Epoch 1/500\n"
     ]
    },
    {
     "name": "stderr",
     "output_type": "stream",
     "text": [
      "2023-02-10 18:56:54.236640: E tensorflow/core/grappler/optimizers/meta_optimizer.cc:954] layout failed: INVALID_ARGUMENT: Size of values 0 does not match size of permutation 4 @ fanin shape inmodel/efficientnetb0/block2b_drop/dropout/SelectV2-2-TransposeNHWCToNCHW-LayoutOptimizer\n",
      "2023-02-10 18:56:56.389435: I tensorflow/compiler/xla/stream_executor/cuda/cuda_dnn.cc:428] Loaded cuDNN version 8401\n",
      "2023-02-10 18:56:56.967418: I tensorflow/tsl/platform/default/subprocess.cc:304] Start cannot spawn child process: No such file or directory\n",
      "2023-02-10 18:56:57.112761: I tensorflow/compiler/xla/service/service.cc:173] XLA service 0x7f74573e2e00 initialized for platform CUDA (this does not guarantee that XLA will be used). Devices:\n",
      "2023-02-10 18:56:57.112789: I tensorflow/compiler/xla/service/service.cc:181]   StreamExecutor device (0): Quadro RTX 5000, Compute Capability 7.5\n",
      "2023-02-10 18:56:57.116590: I tensorflow/compiler/mlir/tensorflow/utils/dump_mlir_util.cc:268] disabling MLIR crash reproducer, set env var `MLIR_CRASH_REPRODUCER_DIRECTORY` to enable.\n",
      "2023-02-10 18:56:57.178997: I tensorflow/tsl/platform/default/subprocess.cc:304] Start cannot spawn child process: No such file or directory\n",
      "2023-02-10 18:56:57.214369: I tensorflow/compiler/jit/xla_compilation_cache.cc:477] Compiled cluster using XLA!  This line is logged at most once for the lifetime of the process.\n"
     ]
    },
    {
     "name": "stdout",
     "output_type": "stream",
     "text": [
      "393/393 [==============================] - ETA: 0s - loss: 3.9264\n",
      "Epoch 1: val_loss improved from inf to 4.90069, saving model to /cerea_raid/users/dumontj/dev/coco2/dl/nb_train/sim/pat/plume_Eff_nogen/w_best.h5\n",
      "extra_val_loss: 2.068368673324585\n",
      "393/393 [==============================] - 47s 48ms/step - loss: 3.9264 - val_loss: 4.9007\n",
      "Epoch 2/500\n",
      "392/393 [============================>.] - ETA: 0s - loss: 2.7712\n",
      "Epoch 2: val_loss improved from 4.90069 to 3.35674, saving model to /cerea_raid/users/dumontj/dev/coco2/dl/nb_train/sim/pat/plume_Eff_nogen/w_best.h5\n",
      "extra_val_loss: 2.1210343837738037\n",
      "393/393 [==============================] - 17s 43ms/step - loss: 2.7710 - val_loss: 3.3567\n",
      "Epoch 3/500\n",
      "392/393 [============================>.] - ETA: 0s - loss: 2.5352\n",
      "Epoch 3: val_loss did not improve from 3.35674\n",
      "extra_val_loss: 5.6589226722717285\n",
      "393/393 [==============================] - 16s 40ms/step - loss: 2.5358 - val_loss: 3.6253\n",
      "Epoch 4/500\n",
      "392/393 [============================>.] - ETA: 0s - loss: 2.4647\n",
      "Epoch 4: val_loss improved from 3.35674 to 3.34029, saving model to /cerea_raid/users/dumontj/dev/coco2/dl/nb_train/sim/pat/plume_Eff_nogen/w_best.h5\n",
      "extra_val_loss: 2.269087553024292\n",
      "393/393 [==============================] - 17s 43ms/step - loss: 2.4660 - val_loss: 3.3403\n",
      "Epoch 5/500\n",
      "393/393 [==============================] - ETA: 0s - loss: 2.3917\n",
      "Epoch 5: val_loss did not improve from 3.34029\n",
      "extra_val_loss: 6.086987018585205\n",
      "393/393 [==============================] - 16s 40ms/step - loss: 2.3917 - val_loss: 3.8309\n",
      "Epoch 6/500\n",
      "393/393 [==============================] - ETA: 0s - loss: 2.3501\n",
      "Epoch 6: val_loss improved from 3.34029 to 2.60357, saving model to /cerea_raid/users/dumontj/dev/coco2/dl/nb_train/sim/pat/plume_Eff_nogen/w_best.h5\n",
      "extra_val_loss: 2.876849889755249\n",
      "393/393 [==============================] - 17s 43ms/step - loss: 2.3501 - val_loss: 2.6036\n",
      "Epoch 7/500\n",
      "392/393 [============================>.] - ETA: 0s - loss: 2.1977\n",
      "Epoch 7: val_loss improved from 2.60357 to 2.41846, saving model to /cerea_raid/users/dumontj/dev/coco2/dl/nb_train/sim/pat/plume_Eff_nogen/w_best.h5\n",
      "extra_val_loss: 3.720211982727051\n",
      "393/393 [==============================] - 17s 43ms/step - loss: 2.1966 - val_loss: 2.4185\n",
      "Epoch 8/500\n",
      "347/393 [=========================>....] - ETA: 1s - loss: 2.1493"
     ]
    }
   ],
   "source": [
    "model.fit(\n",
    "    data.x.train, data.y.train,\n",
    "    epochs=500,\n",
    "    callbacks=cbs,\n",
    "    validation_data=(data.x.valid, data.y.valid),\n",
    "    verbose=1\n",
    ")"
   ]
  },
  {
   "cell_type": "markdown",
   "id": "7a1a1278-d7e4-41a8-9b0f-085eb108fb35",
   "metadata": {},
   "source": [
    "### save"
   ]
  },
  {
   "cell_type": "code",
   "execution_count": null,
   "id": "a27200b3-1217-4944-b518-ee16b1ca8d22",
   "metadata": {},
   "outputs": [],
   "source": [
    "model.save(os.path.join(save_dir, exp_name, \"w_last.h5\"))\n",
    "joblib.dump(scaler, os.path.join(save_dir, exp_name, \"scaler.save\"))"
   ]
  },
  {
   "cell_type": "markdown",
   "id": "ec2c3411-8283-4bc4-bded-e2f570c2ca3b",
   "metadata": {
    "tags": []
   },
   "source": [
    "## EfficientNetB0 - with gen"
   ]
  },
  {
   "cell_type": "code",
   "execution_count": null,
   "id": "33ec0fde-d2b7-4dba-9d27-5ee5c9b3fb2b",
   "metadata": {},
   "outputs": [],
   "source": [
    "exp_name = \"plume_Eff_gen\"\n",
    "wandb.init(project=project_name, name=exp_name)"
   ]
  },
  {
   "cell_type": "code",
   "execution_count": null,
   "id": "03e909e5-0709-4cc5-bd95-f59ff5799ba1",
   "metadata": {},
   "outputs": [],
   "source": [
    "cbs = get_modelcheckpoint(True, [], os.path.join(save_dir, exp_name, \"w_best.h5\"))\n",
    "history = ExtraValidation((data.x.extra_valid, data.y.extra_valid))\n",
    "cbs.append(WandbMetricsLogger())\n",
    "cbs.append(history)"
   ]
  },
  {
   "cell_type": "code",
   "execution_count": null,
   "id": "59f57793-8738-4bf9-b4b7-4da51b32c589",
   "metadata": {},
   "outputs": [],
   "source": [
    "model_builder = rm.Keras_reg_model_builder(\"EfficientNetB0\", data.x.train.shape[1:], 1)\n",
    "model = model_builder.get_model()\n",
    "model.compile(\"adam\", loss=tf.keras.losses.MeanAbsoluteError())"
   ]
  },
  {
   "cell_type": "markdown",
   "id": "91c65430-94b4-4f51-b38f-6bdbea8899c6",
   "metadata": {
    "tags": []
   },
   "source": [
    "### Train "
   ]
  },
  {
   "cell_type": "code",
   "execution_count": null,
   "id": "61dd4a3d-2ce7-4284-8ecb-87da00eb69e7",
   "metadata": {},
   "outputs": [],
   "source": [
    "model.fit(\n",
    "    generator.flow(data.x.train, data.y.train),\n",
    "    epochs=1000,\n",
    "    callbacks=cbs,\n",
    "    validation_data=(data.x.valid, data.y.valid),\n",
    "    verbose=1\n",
    ")"
   ]
  },
  {
   "cell_type": "markdown",
   "id": "e52075e3-d21c-4746-9766-f648ecf80675",
   "metadata": {
    "tags": []
   },
   "source": [
    "### save"
   ]
  },
  {
   "cell_type": "code",
   "execution_count": null,
   "id": "7acd336e-0530-4475-b056-5d4b96ed668f",
   "metadata": {},
   "outputs": [],
   "source": [
    "model.save(os.path.join(save_dir, exp_name, \"w_last.h5\"))\n",
    "joblib.dump(scaler, os.path.join(save_dir, exp_name, \"scaler.save\"))"
   ]
  },
  {
   "cell_type": "markdown",
   "id": "9a512b69-3aac-48f6-b1a1-716f8390910f",
   "metadata": {
    "tags": []
   },
   "source": [
    "## Linear baseline"
   ]
  },
  {
   "cell_type": "code",
   "execution_count": null,
   "id": "eda48b96-b791-498a-8c8b-3332077d687c",
   "metadata": {},
   "outputs": [],
   "source": [
    "exp_name = \"plume_linear\"\n",
    "wandb.init(project=project_name, name=exp_name)"
   ]
  },
  {
   "cell_type": "code",
   "execution_count": null,
   "id": "e5d771f7-17de-4196-bf20-79cdc2cd8e08",
   "metadata": {},
   "outputs": [],
   "source": [
    "cbs = get_modelcheckpoint(True, [], os.path.join(save_dir, exp_name, \"w_best.h5\"))\n",
    "history = ExtraValidation((data.x.extra_valid, data.y.extra_valid))\n",
    "cbs.append(WandbMetricsLogger())\n",
    "cbs.append(history)"
   ]
  },
  {
   "cell_type": "code",
   "execution_count": null,
   "id": "98308856-b509-44c2-afa7-d3abccd829df",
   "metadata": {},
   "outputs": [],
   "source": [
    "model = tf.keras.models.Sequential()\n",
    "model.add(tf.keras.layers.Conv2D(16, (3, 3), input_shape=data.x.fields_input_shape))\n",
    "model.add(tf.keras.layers.MaxPooling2D((2, 2)))\n",
    "model.add(tf.keras.layers.Conv2D(16, (3, 3)))\n",
    "model.add(tf.keras.layers.MaxPooling2D((2, 2)))\n",
    "model.add(tf.keras.layers.Conv2D(16, (3, 3)))\n",
    "model.add(tf.keras.layers.Flatten())\n",
    "model.add(tf.keras.layers.Dense(16))\n",
    "model.add(tf.keras.layers.Dense(1))\n",
    "\n",
    "model.compile(\"adam\", loss=\"MeanAbsoluteError\")"
   ]
  },
  {
   "cell_type": "markdown",
   "id": "6cca2143-aa1c-4d3a-a85a-79ea72c92423",
   "metadata": {
    "tags": []
   },
   "source": [
    "### Train "
   ]
  },
  {
   "cell_type": "code",
   "execution_count": null,
   "id": "9c41d4db-ba81-4449-950d-b7774876e5f9",
   "metadata": {},
   "outputs": [],
   "source": [
    "model.fit(\n",
    "    data.x.train,\n",
    "    data.y.train,\n",
    "    epochs=200,\n",
    "    callbacks=cbs,\n",
    "    validation_data=(data.x.valid, data.y.valid),\n",
    "    verbose=1,\n",
    ")"
   ]
  },
  {
   "cell_type": "markdown",
   "id": "42f226ba-2431-42dd-b63a-d0e99f6f8049",
   "metadata": {
    "tags": []
   },
   "source": [
    "### save"
   ]
  },
  {
   "cell_type": "code",
   "execution_count": null,
   "id": "3ade7866-21a3-4a98-b0f4-70521bb7bd0c",
   "metadata": {},
   "outputs": [],
   "source": [
    "model.save(os.path.join(save_dir, exp_name, \"w_last.h5\"))\n",
    "joblib.dump(scaler, os.path.join(save_dir, exp_name, \"scaler.save\"))"
   ]
  },
  {
   "cell_type": "markdown",
   "id": "ef6b24ad-f817-41a9-8bc3-47f0e7d7a2d6",
   "metadata": {
    "tags": []
   },
   "source": [
    "## Research of a new model"
   ]
  },
  {
   "cell_type": "code",
   "execution_count": null,
   "id": "4eecc467-12a7-4ee0-b9b0-f581ab3a59c1",
   "metadata": {},
   "outputs": [],
   "source": [
    "exp_name = \"plume_modelX\"\n",
    "wandb.init(project=project_name, name=exp_name)"
   ]
  },
  {
   "cell_type": "code",
   "execution_count": null,
   "id": "c0ebd9b4-2e32-448b-86e1-d5bd43b251fd",
   "metadata": {},
   "outputs": [],
   "source": [
    "cbs = get_modelcheckpoint(True, [], os.path.join(save_dir, exp_name, \"w_best.h5\"))\n",
    "history = ExtraValidation((data.x.extra_valid, data.y.extra_valid))\n",
    "cbs.append(WandbMetricsLogger())\n",
    "cbs.append(history)"
   ]
  },
  {
   "cell_type": "code",
   "execution_count": null,
   "id": "86077f70-9069-47c7-9cb6-2c3d8e9f45b2",
   "metadata": {},
   "outputs": [],
   "source": [
    "inputs = tf.keras.layers.Input((64, 64, 1))\n",
    "\n",
    "x = tf.keras.layers.Conv2D(32, kernel_size=(3, 3), activation=\"elu\", strides=1)(inputs)\n",
    "x = tf.keras.layers.Dropout(0.1)(x)\n",
    "x = tf.keras.layers.Conv2D(32, kernel_size=(3, 3), activation=\"elu\", strides=1)(x)\n",
    "x = tf.keras.layers.MaxPooling2D(pool_size=(2, 2), padding=\"valid\", strides=2)(x)\n",
    "x = tf.keras.layers.BatchNormalization()(x)\n",
    "\n",
    "x = tf.keras.layers.Conv2D(32, kernel_size=(3, 3), activation=\"elu\", strides=1)(x)\n",
    "x = tf.keras.layers.Dropout(0.2)(x)\n",
    "x = tf.keras.layers.Conv2D(64, kernel_size=(3, 3), activation=\"elu\", strides=1)(x)\n",
    "x = tf.keras.layers.BatchNormalization()(x)\n",
    "\n",
    "x = tf.keras.layers.Conv2D(64, kernel_size=(3, 3), activation=\"elu\", strides=1)(x)\n",
    "x = tf.keras.layers.Dropout(0.2)(x)\n",
    "x = tf.keras.layers.Conv2D(64, kernel_size=(3, 3), activation=\"elu\", strides=1)(x)\n",
    "x = tf.keras.layers.MaxPooling2D(pool_size=(2, 2), padding=\"valid\", strides=2)(x)\n",
    "\n",
    "x = tf.keras.layers.Flatten()(x)\n",
    "x = tf.keras.layers.Dense(1)(x)\n",
    "outputs = tf.keras.layers.LeakyReLU(alpha=0.3)(x)\n",
    "\n",
    "model = tf.keras.Model([inputs], outputs)\n",
    "\n",
    "model.compile(\"adam\", loss=\"MeanAbsoluteError\")"
   ]
  },
  {
   "cell_type": "markdown",
   "id": "f069740c-1e4a-4f09-94a6-46fd9f285f57",
   "metadata": {
    "tags": []
   },
   "source": [
    "### Train "
   ]
  },
  {
   "cell_type": "code",
   "execution_count": null,
   "id": "bbadee98-1cee-425c-b658-efe949a17a41",
   "metadata": {},
   "outputs": [],
   "source": [
    "model.fit(\n",
    "    data.x.train,\n",
    "    data.y.train,\n",
    "    epochs=500,\n",
    "    callbacks=cbs,\n",
    "    validation_data=(data.x.valid, data.y.valid),\n",
    "    verbose=1,\n",
    ")"
   ]
  },
  {
   "cell_type": "markdown",
   "id": "169cea20-7a8f-4b93-9b04-ff27f07e6bff",
   "metadata": {
    "tags": []
   },
   "source": [
    "### save"
   ]
  },
  {
   "cell_type": "code",
   "execution_count": null,
   "id": "b2a5e23f-ce66-47ef-bc37-00ab520067fb",
   "metadata": {},
   "outputs": [],
   "source": [
    "model.save(os.path.join(save_dir, exp_name, \"w_last.h5\"))\n",
    "joblib.dump(scaler, os.path.join(save_dir, exp_name, \"scaler.save\"))"
   ]
  },
  {
   "cell_type": "markdown",
   "id": "6ef2e76c-edae-4d97-a456-2f4cd927e060",
   "metadata": {
    "tags": []
   },
   "source": [
    "# PLUME + PLUME PREC"
   ]
  },
  {
   "cell_type": "code",
   "execution_count": null,
   "id": "6fc89265-8920-41cf-b029-c541e2d83233",
   "metadata": {},
   "outputs": [],
   "source": [
    "wandb.finish()"
   ]
  },
  {
   "cell_type": "code",
   "execution_count": null,
   "id": "9903032e-c388-4def-964e-ea2e31f8002f",
   "metadata": {},
   "outputs": [],
   "source": [
    "data = Data_train(path_train_nc, path_valid_nc, path_extra_valid_nc)\n",
    "data.prepare_input(\"plume\", \"plume_prec\")\n",
    "data.prepare_output_inversion()"
   ]
  },
  {
   "cell_type": "markdown",
   "id": "ad676a62-b690-4df9-bd48-afeff0c32889",
   "metadata": {
    "tags": []
   },
   "source": [
    "## EfficientNetB0 - no gen"
   ]
  },
  {
   "cell_type": "code",
   "execution_count": null,
   "id": "106eda18-08a1-4324-80be-0d5d6b260b07",
   "metadata": {},
   "outputs": [],
   "source": [
    "exp_name = \"plume_plumeprec_Eff_nogen\"\n",
    "wandb.init(project=project_name, name=exp_name)"
   ]
  },
  {
   "cell_type": "code",
   "execution_count": null,
   "id": "db599260-0e78-4c6d-bed5-65f62b72f5e8",
   "metadata": {},
   "outputs": [],
   "source": [
    "cbs = get_modelcheckpoint(True, [], os.path.join(save_dir, exp_name, \"w_best.h5\"))\n",
    "history = ExtraValidation((data.x.extra_valid, data.y.extra_valid))\n",
    "cbs.append(WandbMetricsLogger())\n",
    "cbs.append(history)"
   ]
  },
  {
   "cell_type": "code",
   "execution_count": null,
   "id": "b4beb438-ad47-417d-9bd5-3d5f81556a53",
   "metadata": {},
   "outputs": [],
   "source": [
    "model_builder = rm.Keras_reg_model_builder(\"EfficientNetB0\", data.x.train.shape[1:], 1)\n",
    "model = model_builder.get_model()\n",
    "model.compile(\"adam\", loss=tf.keras.losses.MeanAbsoluteError())"
   ]
  },
  {
   "cell_type": "markdown",
   "id": "ea859a27-5c44-483f-9c2e-bb7fcfa50bf1",
   "metadata": {
    "tags": []
   },
   "source": [
    "### Train "
   ]
  },
  {
   "cell_type": "code",
   "execution_count": null,
   "id": "a256dbbf-6d8d-48e8-be1d-ee75affe5ff1",
   "metadata": {},
   "outputs": [],
   "source": [
    "model.fit(\n",
    "    data.x.train, data.y.train,\n",
    "    epochs=500,\n",
    "    callbacks=cbs,\n",
    "    validation_data=(data.x.valid, data.y.valid),\n",
    "    verbose=1\n",
    ")"
   ]
  },
  {
   "cell_type": "markdown",
   "id": "a92ee91a-0809-49f4-8149-bac8cd504b26",
   "metadata": {},
   "source": [
    "### save"
   ]
  },
  {
   "cell_type": "code",
   "execution_count": null,
   "id": "b29c1731-9a7c-432e-9258-bbb188d7f209",
   "metadata": {},
   "outputs": [],
   "source": [
    "model.save(os.path.join(save_dir, exp_name, \"w_last.h5\"))\n",
    "joblib.dump(scaler, os.path.join(save_dir, exp_name, \"scaler.save\"))"
   ]
  },
  {
   "cell_type": "markdown",
   "id": "a6c92c7a-c60d-4fda-b476-e48afc26ec6b",
   "metadata": {
    "tags": []
   },
   "source": [
    "## EfficientNetB0 - with gen"
   ]
  },
  {
   "cell_type": "code",
   "execution_count": null,
   "id": "2288b260-02a3-40eb-b19e-d2af2175f93a",
   "metadata": {},
   "outputs": [],
   "source": [
    "exp_name = \"plume_plumeprec_Eff_gen\"\n",
    "wandb.init(project=project_name, name=exp_name)"
   ]
  },
  {
   "cell_type": "code",
   "execution_count": null,
   "id": "c3b0dbc5-66a8-4c2e-bcfd-1464fa8dc121",
   "metadata": {},
   "outputs": [],
   "source": [
    "cbs = get_modelcheckpoint(True, [], os.path.join(save_dir, exp_name, \"w_best.h5\"))\n",
    "history = ExtraValidation((data.x.extra_valid, data.y.extra_valid))\n",
    "cbs.append(WandbMetricsLogger())\n",
    "cbs.append(history)"
   ]
  },
  {
   "cell_type": "code",
   "execution_count": null,
   "id": "5193f91e-b401-44f3-8663-411c34188cc4",
   "metadata": {},
   "outputs": [],
   "source": [
    "model_builder = rm.Keras_reg_model_builder(\"EfficientNetB0\", data.x.train.shape[1:], 1)\n",
    "model = model_builder.get_model()\n",
    "model.compile(\"adam\", loss=tf.keras.losses.MeanAbsoluteError())"
   ]
  },
  {
   "cell_type": "markdown",
   "id": "b89b2054-1966-4b8f-8ec3-4b42c05e585e",
   "metadata": {
    "tags": []
   },
   "source": [
    "### Train "
   ]
  },
  {
   "cell_type": "code",
   "execution_count": null,
   "id": "73284535-cdbc-4d6b-ba3b-e64cf57a5967",
   "metadata": {},
   "outputs": [],
   "source": [
    "model.fit(\n",
    "    generator.flow(data.x.train, data.y.train),\n",
    "    epochs=1000,\n",
    "    callbacks=cbs,\n",
    "    validation_data=(data.x.valid, data.y.valid),\n",
    "    verbose=1\n",
    ")"
   ]
  },
  {
   "cell_type": "markdown",
   "id": "4669ea0b-fbbe-467b-915b-44ed6cfb9c1d",
   "metadata": {
    "tags": []
   },
   "source": [
    "### save"
   ]
  },
  {
   "cell_type": "code",
   "execution_count": null,
   "id": "b6695eeb-3fb7-4540-a5c1-f7afffbebd96",
   "metadata": {},
   "outputs": [],
   "source": [
    "model.save(os.path.join(save_dir, exp_name, \"w_last.h5\"))\n",
    "joblib.dump(scaler, os.path.join(save_dir, exp_name, \"scaler.save\"))"
   ]
  },
  {
   "cell_type": "markdown",
   "id": "cb92b59b-bfe8-45ba-bcf8-1c3c61b4444d",
   "metadata": {
    "tags": []
   },
   "source": [
    "## Linear baseline"
   ]
  },
  {
   "cell_type": "code",
   "execution_count": null,
   "id": "7674a538-ceee-48ad-acc3-b89f0dbd2390",
   "metadata": {},
   "outputs": [],
   "source": [
    "exp_name = \"plume_plumeprec_linear\"\n",
    "wandb.init(project=project_name, name=exp_name)"
   ]
  },
  {
   "cell_type": "code",
   "execution_count": null,
   "id": "0ff76f29-8e56-4aff-9794-b7beb4c4580d",
   "metadata": {},
   "outputs": [],
   "source": [
    "cbs = get_modelcheckpoint(True, [], os.path.join(save_dir, exp_name, \"w_best.h5\"))\n",
    "history = ExtraValidation((data.x.extra_valid, data.y.extra_valid))\n",
    "cbs.append(WandbMetricsLogger())\n",
    "cbs.append(history)"
   ]
  },
  {
   "cell_type": "code",
   "execution_count": null,
   "id": "da6c782e-b1a2-4207-bd46-79c48bf0100f",
   "metadata": {},
   "outputs": [],
   "source": [
    "model = tf.keras.models.Sequential()\n",
    "model.add(tf.keras.layers.Conv2D(16, (3, 3), input_shape=data.x.fields_input_shape))\n",
    "model.add(tf.keras.layers.MaxPooling2D((2, 2)))\n",
    "model.add(tf.keras.layers.Conv2D(16, (3, 3)))\n",
    "model.add(tf.keras.layers.MaxPooling2D((2, 2)))\n",
    "model.add(tf.keras.layers.Conv2D(16, (3, 3)))\n",
    "model.add(tf.keras.layers.Flatten())\n",
    "model.add(tf.keras.layers.Dense(16))\n",
    "model.add(tf.keras.layers.Dense(1))\n",
    "\n",
    "model.compile(\"adam\", loss=\"MeanAbsoluteError\")"
   ]
  },
  {
   "cell_type": "markdown",
   "id": "b72d105f-5ed6-494c-9f0e-64be38bf9e08",
   "metadata": {
    "tags": []
   },
   "source": [
    "### Train "
   ]
  },
  {
   "cell_type": "code",
   "execution_count": null,
   "id": "1d6e71a2-bf85-44d7-9f18-381b77188c62",
   "metadata": {},
   "outputs": [],
   "source": [
    "model.fit(\n",
    "    data.x.train,\n",
    "    data.y.train,\n",
    "    epochs=200,\n",
    "    callbacks=cbs,\n",
    "    validation_data=(data.x.valid, data.y.valid),\n",
    "    verbose=1,\n",
    ")"
   ]
  },
  {
   "cell_type": "markdown",
   "id": "b86e379f-a769-4b09-8d33-4c9ec9c98708",
   "metadata": {
    "tags": []
   },
   "source": [
    "### save"
   ]
  },
  {
   "cell_type": "code",
   "execution_count": null,
   "id": "b1007a57-ba10-40dc-9c84-2f2e4b1cb4ba",
   "metadata": {},
   "outputs": [],
   "source": [
    "model.save(os.path.join(save_dir, exp_name, \"w_last.h5\"))\n",
    "joblib.dump(scaler, os.path.join(save_dir, exp_name, \"scaler.save\"))"
   ]
  },
  {
   "cell_type": "markdown",
   "id": "7a2fd157-dac2-4122-a3b1-84b7cc468592",
   "metadata": {
    "tags": []
   },
   "source": [
    "## Research of a new model"
   ]
  },
  {
   "cell_type": "code",
   "execution_count": null,
   "id": "9dcdef2d-9606-47b1-84fa-885809407a88",
   "metadata": {},
   "outputs": [],
   "source": [
    "exp_name = \"plume_plumeprec_modelX\"\n",
    "wandb.init(project=project_name, name=exp_name)"
   ]
  },
  {
   "cell_type": "code",
   "execution_count": null,
   "id": "f6adf249-7e61-414f-8f72-2f46eb9ea053",
   "metadata": {},
   "outputs": [],
   "source": [
    "cbs = get_modelcheckpoint(True, [], os.path.join(save_dir, exp_name, \"w_best.h5\"))\n",
    "history = ExtraValidation((data.x.extra_valid, data.y.extra_valid))\n",
    "cbs.append(WandbMetricsLogger())\n",
    "cbs.append(history)"
   ]
  },
  {
   "cell_type": "code",
   "execution_count": null,
   "id": "6db4c550-9691-4c19-a9be-131ef8a29652",
   "metadata": {},
   "outputs": [],
   "source": [
    "inputs = tf.keras.layers.Input((64, 64, 1))\n",
    "\n",
    "x = tf.keras.layers.Conv2D(32, kernel_size=(3, 3), activation=\"elu\", strides=1)(inputs)\n",
    "x = tf.keras.layers.Dropout(0.1)(x)\n",
    "x = tf.keras.layers.Conv2D(32, kernel_size=(3, 3), activation=\"elu\", strides=1)(x)\n",
    "x = tf.keras.layers.MaxPooling2D(pool_size=(2, 2), padding=\"valid\", strides=2)(x)\n",
    "x = tf.keras.layers.BatchNormalization()(x)\n",
    "\n",
    "x = tf.keras.layers.Conv2D(32, kernel_size=(3, 3), activation=\"elu\", strides=1)(x)\n",
    "x = tf.keras.layers.Dropout(0.2)(x)\n",
    "x = tf.keras.layers.Conv2D(64, kernel_size=(3, 3), activation=\"elu\", strides=1)(x)\n",
    "x = tf.keras.layers.BatchNormalization()(x)\n",
    "\n",
    "x = tf.keras.layers.Conv2D(64, kernel_size=(3, 3), activation=\"elu\", strides=1)(x)\n",
    "x = tf.keras.layers.Dropout(0.2)(x)\n",
    "x = tf.keras.layers.Conv2D(64, kernel_size=(3, 3), activation=\"elu\", strides=1)(x)\n",
    "x = tf.keras.layers.MaxPooling2D(pool_size=(2, 2), padding=\"valid\", strides=2)(x)\n",
    "\n",
    "x = tf.keras.layers.Flatten()(x)\n",
    "x = tf.keras.layers.Dense(1)(x)\n",
    "outputs = tf.keras.layers.LeakyReLU(alpha=0.3)(x)\n",
    "\n",
    "model = tf.keras.Model([inputs], outputs)\n",
    "\n",
    "model.compile(\"adam\", loss=\"MeanAbsoluteError\")"
   ]
  },
  {
   "cell_type": "markdown",
   "id": "24d8494b-5296-4df2-9e02-bb87504c6a43",
   "metadata": {
    "tags": []
   },
   "source": [
    "### Train "
   ]
  },
  {
   "cell_type": "code",
   "execution_count": null,
   "id": "5bbba833-068b-4ba2-b323-438928ee84c9",
   "metadata": {},
   "outputs": [],
   "source": [
    "model.fit(\n",
    "    data.x.train,\n",
    "    data.y.train,\n",
    "    epochs=500,\n",
    "    callbacks=cbs,\n",
    "    validation_data=(data.x.valid, data.y.valid),\n",
    "    verbose=1,\n",
    ")"
   ]
  },
  {
   "cell_type": "markdown",
   "id": "27051412-a03c-4ac4-9fa9-9cdbfc3e8bcc",
   "metadata": {
    "tags": []
   },
   "source": [
    "### save"
   ]
  },
  {
   "cell_type": "code",
   "execution_count": null,
   "id": "476f7d01-39fa-43d3-9880-91d263c89219",
   "metadata": {},
   "outputs": [],
   "source": [
    "model.save(os.path.join(save_dir, exp_name, \"w_last.h5\"))\n",
    "joblib.dump(scaler, os.path.join(save_dir, exp_name, \"scaler.save\"))"
   ]
  },
  {
   "cell_type": "markdown",
   "id": "17541ea0-be46-4676-abf4-5f17252fe232",
   "metadata": {
    "tags": []
   },
   "source": [
    "# PLUME + PLUME PREC + WINDS"
   ]
  },
  {
   "cell_type": "code",
   "execution_count": null,
   "id": "bb1d21df-8ec7-4a2f-b7d1-feb8c2881ed0",
   "metadata": {},
   "outputs": [],
   "source": [
    "data = Data_train(path_train_nc, path_valid_nc, path_extra_valid_nc)\n",
    "data.prepare_input(\"plume\", \"plume_prec\", \"u_wind\", \"v_wind\")\n",
    "data.prepare_output_inversion()"
   ]
  },
  {
   "cell_type": "markdown",
   "id": "03cd3330-74f8-4096-b525-f512a74f82fd",
   "metadata": {
    "tags": []
   },
   "source": [
    "## EfficientNetB0 - no gen"
   ]
  },
  {
   "cell_type": "code",
   "execution_count": null,
   "id": "7c4c4fdd-59f3-437d-8455-7849a15a5e3c",
   "metadata": {},
   "outputs": [],
   "source": [
    "exp_name = \"plume_plumeprec_winds_Eff_nogen\"\n",
    "wandb.init(project=project_name, name=exp_name)"
   ]
  },
  {
   "cell_type": "code",
   "execution_count": null,
   "id": "1b8ea2bc-2bec-4405-86ea-aa1c8f888666",
   "metadata": {},
   "outputs": [],
   "source": [
    "cbs = get_modelcheckpoint(True, [], os.path.join(save_dir, exp_name, \"w_best.h5\"))\n",
    "history = ExtraValidation((data.x.extra_valid, data.y.extra_valid))\n",
    "cbs.append(WandbMetricsLogger())\n",
    "cbs.append(history)"
   ]
  },
  {
   "cell_type": "code",
   "execution_count": null,
   "id": "d357bd5f-4a6a-42c3-9b92-d6ec69297f4e",
   "metadata": {},
   "outputs": [],
   "source": [
    "model_builder = rm.Keras_reg_model_builder(\"EfficientNetB0\", data.x.train.shape[1:], 1)\n",
    "model = model_builder.get_model()\n",
    "model.compile(\"adam\", loss=tf.keras.losses.MeanAbsoluteError())"
   ]
  },
  {
   "cell_type": "markdown",
   "id": "ca3e376b-e397-4517-a6fd-ce7c8f9d5e75",
   "metadata": {
    "tags": []
   },
   "source": [
    "### Train "
   ]
  },
  {
   "cell_type": "code",
   "execution_count": null,
   "id": "cac10f73-8d2f-43d1-b277-6e294c766e69",
   "metadata": {},
   "outputs": [],
   "source": [
    "model.fit(\n",
    "    data.x.train, data.y.train,\n",
    "    epochs=500,\n",
    "    callbacks=cbs,\n",
    "    validation_data=(data.x.valid, data.y.valid),\n",
    "    verbose=1\n",
    ")"
   ]
  },
  {
   "cell_type": "markdown",
   "id": "ed8d478d-ae3a-4aeb-91ba-1835757fc62f",
   "metadata": {},
   "source": [
    "### save"
   ]
  },
  {
   "cell_type": "code",
   "execution_count": null,
   "id": "c7267475-cee7-4cbd-a3fe-8355e20d1ce2",
   "metadata": {},
   "outputs": [],
   "source": [
    "model.save(os.path.join(save_dir, exp_name, \"w_last.h5\"))\n",
    "joblib.dump(scaler, os.path.join(save_dir, exp_name, \"scaler.save\"))"
   ]
  },
  {
   "cell_type": "markdown",
   "id": "156a5a89-ddc1-4ccd-a710-cc5da17b4fa8",
   "metadata": {
    "tags": []
   },
   "source": [
    "## EfficientNetB0 - with gen"
   ]
  },
  {
   "cell_type": "code",
   "execution_count": null,
   "id": "32529aee-0971-4fb3-97a0-775af02fde90",
   "metadata": {},
   "outputs": [],
   "source": [
    "exp_name = \"plume_plumeprec_winds_Eff_gen\"\n",
    "wandb.init(project=project_name, name=exp_name)"
   ]
  },
  {
   "cell_type": "code",
   "execution_count": null,
   "id": "e1cb9b85-b5f0-41e5-a60d-c66c234120a7",
   "metadata": {},
   "outputs": [],
   "source": [
    "cbs = get_modelcheckpoint(True, [], os.path.join(save_dir, exp_name, \"w_best.h5\"))\n",
    "history = ExtraValidation((data.x.extra_valid, data.y.extra_valid))\n",
    "cbs.append(WandbMetricsLogger())\n",
    "cbs.append(history)"
   ]
  },
  {
   "cell_type": "code",
   "execution_count": null,
   "id": "ca511d95-846f-4c7d-a5e9-8121baa700a1",
   "metadata": {},
   "outputs": [],
   "source": [
    "model_builder = rm.Keras_reg_model_builder(\"EfficientNetB0\", data.x.train.shape[1:], 1)\n",
    "model = model_builder.get_model()\n",
    "model.compile(\"adam\", loss=tf.keras.losses.MeanAbsoluteError())"
   ]
  },
  {
   "cell_type": "markdown",
   "id": "36e9625c-8e57-425b-8046-65868c9f5180",
   "metadata": {
    "tags": []
   },
   "source": [
    "### Train "
   ]
  },
  {
   "cell_type": "code",
   "execution_count": null,
   "id": "b2292083-1d5c-4ac3-b318-2049108dac94",
   "metadata": {},
   "outputs": [],
   "source": [
    "model.fit(\n",
    "    generator.flow(data.x.train, data.y.train),\n",
    "    epochs=1000,\n",
    "    callbacks=cbs,\n",
    "    validation_data=(data.x.valid, data.y.valid),\n",
    "    verbose=1\n",
    ")"
   ]
  },
  {
   "cell_type": "markdown",
   "id": "bc7614f1-9f61-4e79-9555-8c2cd599d72e",
   "metadata": {
    "tags": []
   },
   "source": [
    "### save"
   ]
  },
  {
   "cell_type": "code",
   "execution_count": null,
   "id": "414b0c63-b52f-4fcc-8e17-2203ad82f753",
   "metadata": {},
   "outputs": [],
   "source": [
    "model.save(os.path.join(save_dir, exp_name, \"w_last.h5\"))\n",
    "joblib.dump(scaler, os.path.join(save_dir, exp_name, \"scaler.save\"))"
   ]
  },
  {
   "cell_type": "markdown",
   "id": "4cb4d35f-d240-45a1-b7fd-b0556a835546",
   "metadata": {
    "tags": []
   },
   "source": [
    "## Linear baseline"
   ]
  },
  {
   "cell_type": "code",
   "execution_count": null,
   "id": "d99df7d6-3153-4518-9595-0873fd770348",
   "metadata": {},
   "outputs": [],
   "source": [
    "exp_name = \"plume_plumeprec_winds_linear\"\n",
    "wandb.init(project=project_name, name=exp_name)"
   ]
  },
  {
   "cell_type": "code",
   "execution_count": null,
   "id": "93743c4a-39f9-440e-ae70-41c92d14d622",
   "metadata": {},
   "outputs": [],
   "source": [
    "cbs = get_modelcheckpoint(True, [], os.path.join(save_dir, exp_name, \"w_best.h5\"))\n",
    "history = ExtraValidation((data.x.extra_valid, data.y.extra_valid))\n",
    "cbs.append(WandbMetricsLogger())\n",
    "cbs.append(history)"
   ]
  },
  {
   "cell_type": "code",
   "execution_count": null,
   "id": "965cce60-0b95-4621-9124-9e25f92ec7a3",
   "metadata": {},
   "outputs": [],
   "source": [
    "model = tf.keras.models.Sequential()\n",
    "model.add(tf.keras.layers.Conv2D(16, (3, 3), input_shape=data.x.fields_input_shape))\n",
    "model.add(tf.keras.layers.MaxPooling2D((2, 2)))\n",
    "model.add(tf.keras.layers.Conv2D(16, (3, 3)))\n",
    "model.add(tf.keras.layers.MaxPooling2D((2, 2)))\n",
    "model.add(tf.keras.layers.Conv2D(16, (3, 3)))\n",
    "model.add(tf.keras.layers.Flatten())\n",
    "model.add(tf.keras.layers.Dense(16))\n",
    "model.add(tf.keras.layers.Dense(1))\n",
    "\n",
    "model.compile(\"adam\", loss=\"MeanAbsoluteError\")"
   ]
  },
  {
   "cell_type": "markdown",
   "id": "9b383826-205f-44ad-841f-768cdc94ee3c",
   "metadata": {
    "tags": []
   },
   "source": [
    "### Train "
   ]
  },
  {
   "cell_type": "code",
   "execution_count": null,
   "id": "408857fb-66fc-42fe-805d-42105eae3faa",
   "metadata": {},
   "outputs": [],
   "source": [
    "model.fit(\n",
    "    data.x.train,\n",
    "    data.y.train,\n",
    "    epochs=200,\n",
    "    callbacks=cbs,\n",
    "    validation_data=(data.x.valid, data.y.valid),\n",
    "    verbose=1,\n",
    ")"
   ]
  },
  {
   "cell_type": "markdown",
   "id": "270dabe4-1153-4833-8b26-54cda1b00f44",
   "metadata": {
    "tags": []
   },
   "source": [
    "### save"
   ]
  },
  {
   "cell_type": "code",
   "execution_count": null,
   "id": "640cbd59-ceae-4771-b952-e3d5db26b0ff",
   "metadata": {},
   "outputs": [],
   "source": [
    "model.save(os.path.join(save_dir, exp_name, \"w_last.h5\"))\n",
    "joblib.dump(scaler, os.path.join(save_dir, exp_name, \"scaler.save\"))"
   ]
  },
  {
   "cell_type": "markdown",
   "id": "36647350-7064-4084-99cc-7756bc01e474",
   "metadata": {
    "tags": []
   },
   "source": [
    "## Research of a new model"
   ]
  },
  {
   "cell_type": "code",
   "execution_count": null,
   "id": "f880e9c8-c6d7-4ee1-80ac-df7d7a38f415",
   "metadata": {},
   "outputs": [],
   "source": [
    "exp_name = \"plume_plumeprec_winds_modelX\"\n",
    "wandb.init(project=project_name, name=exp_name)"
   ]
  },
  {
   "cell_type": "code",
   "execution_count": null,
   "id": "839f3c71-c652-4a0e-940e-ecf789494106",
   "metadata": {},
   "outputs": [],
   "source": [
    "cbs = get_modelcheckpoint(True, [], os.path.join(save_dir, exp_name, \"w_best.h5\"))\n",
    "history = ExtraValidation((data.x.extra_valid, data.y.extra_valid))\n",
    "cbs.append(WandbMetricsLogger())\n",
    "cbs.append(history)"
   ]
  },
  {
   "cell_type": "code",
   "execution_count": null,
   "id": "41b46d28-775c-4128-8437-ed837f570b53",
   "metadata": {},
   "outputs": [],
   "source": [
    "inputs = tf.keras.layers.Input((64, 64, 1))\n",
    "\n",
    "x = tf.keras.layers.Conv2D(32, kernel_size=(3, 3), activation=\"elu\", strides=1)(inputs)\n",
    "x = tf.keras.layers.Dropout(0.1)(x)\n",
    "x = tf.keras.layers.Conv2D(32, kernel_size=(3, 3), activation=\"elu\", strides=1)(x)\n",
    "x = tf.keras.layers.MaxPooling2D(pool_size=(2, 2), padding=\"valid\", strides=2)(x)\n",
    "x = tf.keras.layers.BatchNormalization()(x)\n",
    "\n",
    "x = tf.keras.layers.Conv2D(32, kernel_size=(3, 3), activation=\"elu\", strides=1)(x)\n",
    "x = tf.keras.layers.Dropout(0.2)(x)\n",
    "x = tf.keras.layers.Conv2D(64, kernel_size=(3, 3), activation=\"elu\", strides=1)(x)\n",
    "x = tf.keras.layers.BatchNormalization()(x)\n",
    "\n",
    "x = tf.keras.layers.Conv2D(64, kernel_size=(3, 3), activation=\"elu\", strides=1)(x)\n",
    "x = tf.keras.layers.Dropout(0.2)(x)\n",
    "x = tf.keras.layers.Conv2D(64, kernel_size=(3, 3), activation=\"elu\", strides=1)(x)\n",
    "x = tf.keras.layers.MaxPooling2D(pool_size=(2, 2), padding=\"valid\", strides=2)(x)\n",
    "\n",
    "x = tf.keras.layers.Flatten()(x)\n",
    "x = tf.keras.layers.Dense(1)(x)\n",
    "outputs = tf.keras.layers.LeakyReLU(alpha=0.3)(x)\n",
    "\n",
    "model = tf.keras.Model([inputs], outputs)\n",
    "\n",
    "model.compile(\"adam\", loss=\"MeanAbsoluteError\")"
   ]
  },
  {
   "cell_type": "markdown",
   "id": "a3b8647b-009c-454d-bff2-31dfb7ff63f7",
   "metadata": {
    "tags": []
   },
   "source": [
    "### Train "
   ]
  },
  {
   "cell_type": "code",
   "execution_count": null,
   "id": "b8656909-b5c2-431a-a5f0-b37aa1fc5aca",
   "metadata": {},
   "outputs": [],
   "source": [
    "model.fit(\n",
    "    data.x.train,\n",
    "    data.y.train,\n",
    "    epochs=500,\n",
    "    callbacks=cbs,\n",
    "    validation_data=(data.x.valid, data.y.valid),\n",
    "    verbose=1,\n",
    ")"
   ]
  },
  {
   "cell_type": "markdown",
   "id": "a8bf62d2-508d-414e-a3cf-f050a1a61a7b",
   "metadata": {
    "tags": []
   },
   "source": [
    "### save"
   ]
  },
  {
   "cell_type": "code",
   "execution_count": null,
   "id": "facad99e-52a3-4c82-a4a5-5c0f8de33a99",
   "metadata": {},
   "outputs": [],
   "source": [
    "model.save(os.path.join(save_dir, exp_name, \"w_last.h5\"))\n",
    "joblib.dump(scaler, os.path.join(save_dir, exp_name, \"scaler.save\"))"
   ]
  },
  {
   "cell_type": "markdown",
   "id": "c1eb99b8-eb71-48e3-a33d-a233f0e6bd30",
   "metadata": {
    "tags": []
   },
   "source": [
    "# FIELD NOT NOISY + PERFECT SEG + FIELD PREC + WINDS"
   ]
  },
  {
   "cell_type": "code",
   "execution_count": null,
   "id": "98eaef1d-49f1-4df5-a8aa-51bd97fab419",
   "metadata": {},
   "outputs": [],
   "source": [
    "data = Data_train(path_train_nc, path_valid_nc, path_extra_valid_nc)\n",
    "data.prepare_input(\n",
    "    \"xco2_noiseless\", \"weighted_plume\", \"xco2_noiseless_prec\", \"u_wind\", \"v_wind\"\n",
    ")\n",
    "data.prepare_output_inversion()"
   ]
  },
  {
   "cell_type": "markdown",
   "id": "59fbd6c6-c0e8-4b13-bcc5-39beaa71b41e",
   "metadata": {
    "tags": []
   },
   "source": [
    "## EfficientNetB0 - no gen"
   ]
  },
  {
   "cell_type": "code",
   "execution_count": null,
   "id": "fbc7f3c2-b5f9-4844-b10b-0b4cf311e9bf",
   "metadata": {},
   "outputs": [],
   "source": [
    "exp_name = \"xco2noiseless_prec_plume_winds_Eff_nogen\"\n",
    "wandb.init(project=project_name, name=exp_name)"
   ]
  },
  {
   "cell_type": "code",
   "execution_count": null,
   "id": "904a1174-a536-4ca1-81ad-5541a2f3b07c",
   "metadata": {},
   "outputs": [],
   "source": [
    "cbs = get_modelcheckpoint(True, [], os.path.join(save_dir, exp_name, \"w_best.h5\"))\n",
    "history = ExtraValidation((data.x.extra_valid, data.y.extra_valid))\n",
    "cbs.append(WandbMetricsLogger())\n",
    "cbs.append(history)"
   ]
  },
  {
   "cell_type": "code",
   "execution_count": null,
   "id": "5e1f21b7-824b-4f25-8026-fc45bf5b509a",
   "metadata": {},
   "outputs": [],
   "source": [
    "model_builder = rm.Keras_reg_model_builder(\"EfficientNetB0\", data.x.train.shape[1:], 1)\n",
    "model = model_builder.get_model()\n",
    "model.compile(\"adam\", loss=tf.keras.losses.MeanAbsoluteError())"
   ]
  },
  {
   "cell_type": "markdown",
   "id": "ab7d0ec5-f29c-4ec4-95f0-db2bf5c05e88",
   "metadata": {
    "tags": []
   },
   "source": [
    "### Train "
   ]
  },
  {
   "cell_type": "code",
   "execution_count": null,
   "id": "e1bbef38-f700-4092-9b84-26c2a596f45b",
   "metadata": {},
   "outputs": [],
   "source": [
    "model.fit(\n",
    "    data.x.train, data.y.train,\n",
    "    epochs=500,\n",
    "    callbacks=cbs,\n",
    "    validation_data=(data.x.valid, data.y.valid),\n",
    "    verbose=1\n",
    ")"
   ]
  },
  {
   "cell_type": "markdown",
   "id": "89943c9c-f470-4cd9-a691-112c2198b533",
   "metadata": {},
   "source": [
    "### save"
   ]
  },
  {
   "cell_type": "code",
   "execution_count": null,
   "id": "6193c61f-42b3-4226-80d8-4c84adc28e22",
   "metadata": {},
   "outputs": [],
   "source": [
    "model.save(os.path.join(save_dir, exp_name, \"w_last.h5\"))\n",
    "joblib.dump(scaler, os.path.join(save_dir, exp_name, \"scaler.save\"))"
   ]
  },
  {
   "cell_type": "markdown",
   "id": "55d70223-eaa3-4e35-a871-05e2c7c9b6dc",
   "metadata": {
    "tags": []
   },
   "source": [
    "## EfficientNetB0 - with gen"
   ]
  },
  {
   "cell_type": "code",
   "execution_count": null,
   "id": "658676c9-d250-4193-a528-fc3cd093d17e",
   "metadata": {},
   "outputs": [],
   "source": [
    "exp_name = \"xco2noiseless_prec_plume_winds_Eff_gen\"\n",
    "wandb.init(project=project_name, name=exp_name)"
   ]
  },
  {
   "cell_type": "code",
   "execution_count": null,
   "id": "b9d45489-9e31-4862-8027-09f63069a3ff",
   "metadata": {},
   "outputs": [],
   "source": [
    "cbs = get_modelcheckpoint(True, [], os.path.join(save_dir, exp_name, \"w_best.h5\"))\n",
    "history = ExtraValidation((data.x.extra_valid, data.y.extra_valid))\n",
    "cbs.append(WandbMetricsLogger())\n",
    "cbs.append(history)"
   ]
  },
  {
   "cell_type": "code",
   "execution_count": null,
   "id": "a7b53d83-e922-4765-8faf-3e82929ca3ea",
   "metadata": {},
   "outputs": [],
   "source": [
    "model_builder = rm.Keras_reg_model_builder(\"EfficientNetB0\", data.x.train.shape[1:], 1)\n",
    "model = model_builder.get_model()\n",
    "model.compile(\"adam\", loss=tf.keras.losses.MeanAbsoluteError())"
   ]
  },
  {
   "cell_type": "markdown",
   "id": "a104ed73-7a8a-4c1e-b8ff-2967c0e1ed0f",
   "metadata": {
    "tags": []
   },
   "source": [
    "### Train "
   ]
  },
  {
   "cell_type": "code",
   "execution_count": null,
   "id": "737a1aee-c623-474f-8c0a-2f502a022c4d",
   "metadata": {},
   "outputs": [],
   "source": [
    "model.fit(\n",
    "    generator.flow(data.x.train, data.y.train),\n",
    "    epochs=1000,\n",
    "    callbacks=cbs,\n",
    "    validation_data=(data.x.valid, data.y.valid),\n",
    "    verbose=1\n",
    ")"
   ]
  },
  {
   "cell_type": "markdown",
   "id": "5a81214b-bdfe-40f8-9c7b-7e294dd56749",
   "metadata": {
    "tags": []
   },
   "source": [
    "### save"
   ]
  },
  {
   "cell_type": "code",
   "execution_count": null,
   "id": "a0dfce1a-72f8-42df-b504-cba98dafe7b6",
   "metadata": {},
   "outputs": [],
   "source": [
    "model.save(os.path.join(save_dir, exp_name, \"w_last.h5\"))\n",
    "joblib.dump(scaler, os.path.join(save_dir, exp_name, \"scaler.save\"))"
   ]
  },
  {
   "cell_type": "markdown",
   "id": "0ccf55b0-0118-41c3-b39a-6e1eed23db27",
   "metadata": {
    "tags": []
   },
   "source": [
    "## Linear baseline"
   ]
  },
  {
   "cell_type": "code",
   "execution_count": null,
   "id": "008494dc-2690-4834-b000-1f7648681898",
   "metadata": {},
   "outputs": [],
   "source": [
    "exp_name = \"xco2noiseless_prec_plume_winds__linear\"\n",
    "wandb.init(project=project_name, name=exp_name)"
   ]
  },
  {
   "cell_type": "code",
   "execution_count": null,
   "id": "cffb2978-3b0d-4ab6-bb1c-dc267395994c",
   "metadata": {},
   "outputs": [],
   "source": [
    "cbs = get_modelcheckpoint(True, [], os.path.join(save_dir, exp_name, \"w_best.h5\"))\n",
    "history = ExtraValidation((data.x.extra_valid, data.y.extra_valid))\n",
    "cbs.append(WandbMetricsLogger())\n",
    "cbs.append(history)"
   ]
  },
  {
   "cell_type": "code",
   "execution_count": null,
   "id": "015bfacd-7ea0-4cfc-a3d6-a029cd0cf84a",
   "metadata": {},
   "outputs": [],
   "source": [
    "model = tf.keras.models.Sequential()\n",
    "model.add(tf.keras.layers.Conv2D(16, (3, 3), input_shape=data.x.fields_input_shape))\n",
    "model.add(tf.keras.layers.MaxPooling2D((2, 2)))\n",
    "model.add(tf.keras.layers.Conv2D(16, (3, 3)))\n",
    "model.add(tf.keras.layers.MaxPooling2D((2, 2)))\n",
    "model.add(tf.keras.layers.Conv2D(16, (3, 3)))\n",
    "model.add(tf.keras.layers.Flatten())\n",
    "model.add(tf.keras.layers.Dense(16))\n",
    "model.add(tf.keras.layers.Dense(1))\n",
    "\n",
    "model.compile(\"adam\", loss=\"MeanAbsoluteError\")"
   ]
  },
  {
   "cell_type": "markdown",
   "id": "2e89f54d-41fe-4d33-adf6-5cfb5b2b6416",
   "metadata": {
    "tags": []
   },
   "source": [
    "### Train "
   ]
  },
  {
   "cell_type": "code",
   "execution_count": null,
   "id": "10a74d5b-3658-49a6-aef9-5f01ae7dcd67",
   "metadata": {},
   "outputs": [],
   "source": [
    "model.fit(\n",
    "    data.x.train, data.y.train,\n",
    "    epochs=200,\n",
    "    callbacks=cbs,\n",
    "    validation_data=(data.x.valid, data.y.valid),\n",
    "    verbose=1\n",
    ")"
   ]
  },
  {
   "cell_type": "markdown",
   "id": "cd7dafbc-cd11-4222-8035-baf286506c3b",
   "metadata": {
    "tags": []
   },
   "source": [
    "### save"
   ]
  },
  {
   "cell_type": "code",
   "execution_count": null,
   "id": "c90fccf7-c9ff-4c79-a7c5-9784f8dd6b2b",
   "metadata": {},
   "outputs": [],
   "source": [
    "model.save(os.path.join(save_dir, exp_name, \"w_last.h5\"))\n",
    "joblib.dump(scaler, os.path.join(save_dir, exp_name, \"scaler.save\"))"
   ]
  },
  {
   "cell_type": "markdown",
   "id": "fde33c61-8194-4ed7-87d8-507e335087d3",
   "metadata": {
    "tags": []
   },
   "source": [
    "# FIELD NOISY + PERFECT SEG + FIELD PREC + WINDS"
   ]
  },
  {
   "cell_type": "code",
   "execution_count": null,
   "id": "3b3e7314-4a57-4f34-bcfe-b7eaf61c6adc",
   "metadata": {},
   "outputs": [],
   "source": [
    "data = Data_train(path_train_nc, path_valid_nc, path_extra_valid_nc)\n",
    "data.prepare_input(\"xco2_noisy\", \"weighted_plume\", \"xco2_noisy_prec\", \"u_wind\", \"v_wind\")\n",
    "data.prepare_output_inversion()"
   ]
  },
  {
   "cell_type": "markdown",
   "id": "75474cd0-4a0e-4f26-b875-d17813d04c4a",
   "metadata": {
    "tags": []
   },
   "source": [
    "## EfficientNetB0 - no gen"
   ]
  },
  {
   "cell_type": "code",
   "execution_count": null,
   "id": "230de8a0-bb10-482f-b8ad-6de6b8437473",
   "metadata": {},
   "outputs": [],
   "source": [
    "exp_name = \"xco2_prec_plume_winds_Eff_nogen\"\n",
    "wandb.init(project=project_name, name=exp_name)"
   ]
  },
  {
   "cell_type": "code",
   "execution_count": null,
   "id": "80400ef9-4a92-49aa-a797-c2d9f10ab74e",
   "metadata": {},
   "outputs": [],
   "source": [
    "cbs = get_modelcheckpoint(True, [], os.path.join(save_dir, exp_name, \"w_best.h5\"))\n",
    "history = ExtraValidation((data.x.extra_valid, data.y.extra_valid))\n",
    "cbs.append(WandbMetricsLogger())\n",
    "cbs.append(history)"
   ]
  },
  {
   "cell_type": "code",
   "execution_count": null,
   "id": "b4572f36-34a5-4c18-a591-857a7bc77b75",
   "metadata": {},
   "outputs": [],
   "source": [
    "model_builder = rm.Keras_reg_model_builder(\"EfficientNetB0\", data.x.train.shape[1:], 1)\n",
    "model = model_builder.get_model()\n",
    "model.compile(\"adam\", loss=tf.keras.losses.MeanAbsoluteError())"
   ]
  },
  {
   "cell_type": "markdown",
   "id": "a50e9693-eb99-4f24-b369-6aa64a20eeae",
   "metadata": {
    "tags": []
   },
   "source": [
    "### Train "
   ]
  },
  {
   "cell_type": "code",
   "execution_count": null,
   "id": "116d5ef0-aa17-480f-ab35-8f5dd40a07d1",
   "metadata": {},
   "outputs": [],
   "source": [
    "model.fit(\n",
    "    data.x.train, data.y.train,\n",
    "    epochs=500,\n",
    "    callbacks=cbs,\n",
    "    validation_data=(data.x.valid, data.y.valid),\n",
    "    verbose=1\n",
    ")"
   ]
  },
  {
   "cell_type": "markdown",
   "id": "97cffcc4-f28e-4808-90e3-9c5bb307f6fe",
   "metadata": {},
   "source": [
    "### save"
   ]
  },
  {
   "cell_type": "code",
   "execution_count": null,
   "id": "72e2fe4c-235d-4729-b69c-1f4dbe72d2e4",
   "metadata": {},
   "outputs": [],
   "source": [
    "model.save(os.path.join(save_dir, exp_name, \"w_last.h5\"))\n",
    "joblib.dump(scaler, os.path.join(save_dir, exp_name, \"scaler.save\"))"
   ]
  },
  {
   "cell_type": "markdown",
   "id": "f8751657-7298-41e4-855c-f49389deff05",
   "metadata": {
    "tags": []
   },
   "source": [
    "## EfficientNetB0 - with gen"
   ]
  },
  {
   "cell_type": "code",
   "execution_count": null,
   "id": "0fa19a02-3e8b-4045-a724-e357de23d5e7",
   "metadata": {},
   "outputs": [],
   "source": [
    "exp_name = \"xco2_prec_plume_winds_Eff_gen\"\n",
    "wandb.init(project=project_name, name=exp_name)"
   ]
  },
  {
   "cell_type": "code",
   "execution_count": null,
   "id": "6bca27d6-7a60-490d-a83d-498af3a5a46b",
   "metadata": {},
   "outputs": [],
   "source": [
    "cbs = get_modelcheckpoint(True, [], os.path.join(save_dir, exp_name, \"w_best.h5\"))\n",
    "history = ExtraValidation((data.x.extra_valid, data.y.extra_valid))\n",
    "cbs.append(WandbMetricsLogger())\n",
    "cbs.append(history)"
   ]
  },
  {
   "cell_type": "code",
   "execution_count": null,
   "id": "0b74b704-9cf7-441f-a287-ae9ab5fa7c4b",
   "metadata": {},
   "outputs": [],
   "source": [
    "model_builder = rm.Keras_reg_model_builder(\"EfficientNetB0\", data.x.train.shape[1:], 1)\n",
    "model = model_builder.get_model()\n",
    "model.compile(\"adam\", loss=tf.keras.losses.MeanAbsoluteError())"
   ]
  },
  {
   "cell_type": "markdown",
   "id": "1a13f19b-3085-4feb-bd02-f60a61e91652",
   "metadata": {
    "tags": []
   },
   "source": [
    "### Train "
   ]
  },
  {
   "cell_type": "code",
   "execution_count": null,
   "id": "3b462304-620c-47ef-bca0-587cf92b68cb",
   "metadata": {},
   "outputs": [],
   "source": [
    "model.fit(\n",
    "    generator.flow(data.x.train, data.y.train),\n",
    "    epochs=1000,\n",
    "    callbacks=cbs,\n",
    "    validation_data=(data.x.valid, data.y.valid),\n",
    "    verbose=1\n",
    ")"
   ]
  },
  {
   "cell_type": "markdown",
   "id": "57f1cf74-9ad9-4913-a931-5eef6ee7fe51",
   "metadata": {
    "tags": []
   },
   "source": [
    "### save"
   ]
  },
  {
   "cell_type": "code",
   "execution_count": null,
   "id": "ab257543-50e5-4898-a74c-b1b52eb39f36",
   "metadata": {},
   "outputs": [],
   "source": [
    "model.save(os.path.join(save_dir, exp_name, \"w_last.h5\"))\n",
    "joblib.dump(scaler, os.path.join(save_dir, exp_name, \"scaler.save\"))"
   ]
  },
  {
   "cell_type": "markdown",
   "id": "c1e3f0eb-4aef-4824-b090-160b8800e0d8",
   "metadata": {
    "tags": []
   },
   "source": [
    "## Linear baseline"
   ]
  },
  {
   "cell_type": "code",
   "execution_count": null,
   "id": "cc4a5031-83d3-43fc-95c8-9f1c8f6a2bce",
   "metadata": {},
   "outputs": [],
   "source": [
    "exp_name = \"xco2_prec_plume_winds_linear\"\n",
    "wandb.init(project=project_name, name=exp_name)"
   ]
  },
  {
   "cell_type": "code",
   "execution_count": null,
   "id": "7211a098-a9bb-43ed-ac09-530a2fd2fecd",
   "metadata": {},
   "outputs": [],
   "source": [
    "cbs = get_modelcheckpoint(True, [], os.path.join(save_dir, exp_name, \"w_best.h5\"))\n",
    "history = ExtraValidation((data.x.extra_valid, data.y.extra_valid))\n",
    "cbs.append(WandbMetricsLogger())\n",
    "cbs.append(history)"
   ]
  },
  {
   "cell_type": "code",
   "execution_count": null,
   "id": "6a369d8f-190b-41e0-a389-789b25061822",
   "metadata": {},
   "outputs": [],
   "source": [
    "model = tf.keras.models.Sequential()\n",
    "model.add(tf.keras.layers.Conv2D(16, (3, 3), input_shape=data.x.fields_input_shape))\n",
    "model.add(tf.keras.layers.MaxPooling2D((2, 2)))\n",
    "model.add(tf.keras.layers.Conv2D(16, (3, 3)))\n",
    "model.add(tf.keras.layers.MaxPooling2D((2, 2)))\n",
    "model.add(tf.keras.layers.Conv2D(16, (3, 3)))\n",
    "model.add(tf.keras.layers.Flatten())\n",
    "model.add(tf.keras.layers.Dense(16))\n",
    "model.add(tf.keras.layers.Dense(1))\n",
    "\n",
    "model.compile(\"adam\", loss=\"MeanAbsoluteError\")"
   ]
  },
  {
   "cell_type": "markdown",
   "id": "292ba947-5a28-40c8-ba58-d075f30de96d",
   "metadata": {
    "tags": []
   },
   "source": [
    "### Train "
   ]
  },
  {
   "cell_type": "code",
   "execution_count": null,
   "id": "424b6659-d772-4869-8ecb-c01e1918e50e",
   "metadata": {},
   "outputs": [],
   "source": [
    "model.fit(\n",
    "    data.x.train, data.y.train,\n",
    "    epochs=200,\n",
    "    callbacks=cbs,\n",
    "    validation_data=(data.x.valid, data.y.valid),\n",
    "    verbose=1\n",
    ")"
   ]
  },
  {
   "cell_type": "markdown",
   "id": "362fe9fe-8a0e-4fc4-82e5-54cc19b08b35",
   "metadata": {
    "tags": []
   },
   "source": [
    "### save"
   ]
  },
  {
   "cell_type": "code",
   "execution_count": null,
   "id": "a6b42ce5-ad16-426a-ace7-f5fd4c887170",
   "metadata": {},
   "outputs": [],
   "source": [
    "model.save(os.path.join(save_dir, exp_name, \"w_last.h5\"))\n",
    "joblib.dump(scaler, os.path.join(save_dir, exp_name, \"scaler.save\"))"
   ]
  },
  {
   "cell_type": "markdown",
   "id": "12e6afe8-eb2c-408e-9f7f-8859003ffbc5",
   "metadata": {
    "jp-MarkdownHeadingCollapsed": true,
    "tags": []
   },
   "source": [
    "## Eval"
   ]
  },
  {
   "cell_type": "code",
   "execution_count": 7,
   "id": "589a86e4-c5f5-42b5-9bdd-04a115e0b71c",
   "metadata": {},
   "outputs": [
    {
     "name": "stdout",
     "output_type": "stream",
     "text": [
      "data.x.eval.shape (1152, 64, 64, 1)\n"
     ]
    },
    {
     "name": "stderr",
     "output_type": "stream",
     "text": [
      "2023-02-10 17:35:34.972530: I tensorflow/core/platform/cpu_feature_guard.cc:193] This TensorFlow binary is optimized with oneAPI Deep Neural Network Library (oneDNN) to use the following CPU instructions in performance-critical operations:  SSE4.1 SSE4.2 AVX AVX2 AVX512F FMA\n",
      "To enable them in other operations, rebuild TensorFlow with the appropriate compiler flags.\n",
      "2023-02-10 17:35:35.510336: I tensorflow/core/common_runtime/gpu/gpu_device.cc:1613] Created device /job:localhost/replica:0/task:0/device:GPU:0 with 14491 MB memory:  -> device: 0, name: Quadro RTX 5000, pci bus id: 0000:65:00.0, compute capability: 7.5\n"
     ]
    }
   ],
   "source": [
    "path_eval_nc = path_extra_valid_nc\n",
    "exp_name = \"plume_Eff_nogen\"\n",
    "\n",
    "data = Data_eval(path_eval_nc)\n",
    "data.prepare_input(model_eval.get_scaler(os.path.join(save_dir, exp_name)), \"plume\")\n",
    "data.prepare_output_inversion()\n",
    "model = model_eval.get_inversion_model(\n",
    "    os.path.join(save_dir, exp_name), name_w=\"w_best.h5\"\n",
    ")"
   ]
  },
  {
   "cell_type": "code",
   "execution_count": 8,
   "id": "83792ca6-ca53-4b68-9399-479b7c232f85",
   "metadata": {},
   "outputs": [
    {
     "name": "stderr",
     "output_type": "stream",
     "text": [
      "2023-02-10 17:35:40.602916: I tensorflow/compiler/xla/stream_executor/cuda/cuda_dnn.cc:428] Loaded cuDNN version 8401\n",
      "2023-02-10 17:35:41.447921: I tensorflow/tsl/platform/default/subprocess.cc:304] Start cannot spawn child process: No such file or directory\n"
     ]
    },
    {
     "name": "stdout",
     "output_type": "stream",
     "text": [
      "36/36 [==============================] - 4s 11ms/step\n",
      "mae: 3.429593\n",
      "mape: 64.901276\n"
     ]
    }
   ],
   "source": [
    "metrics = model_eval.get_inv_metrics_model_on_data(model, data)\n",
    "print(\"mae:\", np.mean(metrics[\"mae\"]))\n",
    "print(\"mape:\", np.mean(metrics[\"mape\"]))"
   ]
  },
  {
   "cell_type": "code",
   "execution_count": 9,
   "id": "a01c3c86-c6b4-4ea2-8282-92d761f423db",
   "metadata": {},
   "outputs": [
    {
     "name": "stdout",
     "output_type": "stream",
     "text": [
      "mae: 1.0758601\n",
      "mape: 20.199902\n"
     ]
    }
   ],
   "source": [
    "mean_metrics = model_eval.get_inv_mean_loss(data)\n",
    "print(\"mae:\", np.mean(mean_metrics[\"mae\"]))\n",
    "print(\"mape:\", np.mean(mean_metrics[\"mape\"]))"
   ]
  },
  {
   "cell_type": "code",
   "execution_count": 10,
   "id": "fd1414d5-5c86-42c4-832c-6b56ea8ec515",
   "metadata": {
    "tags": []
   },
   "outputs": [
    {
     "name": "stdout",
     "output_type": "stream",
     "text": [
      "36/36 [==============================] - 0s 13ms/step\n",
      "36/36 [==============================] - 1s 14ms/step\n"
     ]
    },
    {
     "data": {
      "text/plain": [
       "<Figure size 1920x1440 with 0 Axes>"
      ]
     },
     "metadata": {},
     "output_type": "display_data"
    },
    {
     "data": {
      "image/png": "[encoded data removed]",
      "text/plain": [
       "<Figure size 1458x1700.25 with 6 Axes>"
      ]
     },
     "metadata": {},
     "output_type": "display_data"
    }
   ],
   "source": [
    "model_eval.get_summary_histo_inversion(model, data)"
   ]
  },
  {
   "cell_type": "markdown",
   "id": "8f3cb467-400e-4dda-9a83-b8ea54fb715c",
   "metadata": {
    "tags": []
   },
   "source": [
    "# FIELD NOT NOISY + GUESS SEG"
   ]
  },
  {
   "cell_type": "markdown",
   "id": "d549aaa1-ded9-4988-b6c9-5866a077de82",
   "metadata": {
    "tags": []
   },
   "source": [
    "# FIELD NOISY + GUESS SEG"
   ]
  }
 ],
 "metadata": {
  "kernelspec": {
   "display_name": "Python 3 (ipykernel)",
   "language": "python",
   "name": "python3"
  },
  "language_info": {
   "codemirror_mode": {
    "name": "ipython",
    "version": 3
   },
   "file_extension": ".py",
   "mimetype": "text/x-python",
   "name": "python",
   "nbconvert_exporter": "python",
   "pygments_lexer": "ipython3",
   "version": "3.9.15"
  }
 },
 "nbformat": 4,
 "nbformat_minor": 5
}
