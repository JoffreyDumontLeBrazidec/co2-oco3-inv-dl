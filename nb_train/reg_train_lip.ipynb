{
 "cells": [
  {
   "cell_type": "code",
   "execution_count": 1,
   "id": "2a35546f-49e1-42fe-94f2-cc0e8accccde",
   "metadata": {},
   "outputs": [],
   "source": [
    "%load_ext lab_black"
   ]
  },
  {
   "cell_type": "code",
   "execution_count": 2,
   "id": "487053f5-7dca-4426-a97c-016f298cca99",
   "metadata": {},
   "outputs": [
    {
     "name": "stderr",
     "output_type": "stream",
     "text": [
      "2023-02-28 15:05:40.147893: I tensorflow/core/platform/cpu_feature_guard.cc:193] This TensorFlow binary is optimized with oneAPI Deep Neural Network Library (oneDNN) to use the following CPU instructions in performance-critical operations:  SSE4.1 SSE4.2 AVX AVX2 AVX512F FMA\n",
      "To enable them in other operations, rebuild TensorFlow with the appropriate compiler flags.\n"
     ]
    },
    {
     "data": {
      "text/plain": [
       "<Figure size 1920x1440 with 0 Axes>"
      ]
     },
     "metadata": {},
     "output_type": "display_data"
    }
   ],
   "source": [
    "import os\n",
    "\n",
    "os.chdir(\"/cerea_raid/users/dumontj/dev/coco2/dl\")\n",
    "import numpy as np\n",
    "import sys\n",
    "import pandas as pd\n",
    "import xarray as xr\n",
    "import tensorflow as tf\n",
    "from sklearn import preprocessing\n",
    "import matplotlib.pyplot as plt\n",
    "import seaborn as sns\n",
    "\n",
    "import matplotlib_functions as mympf\n",
    "\n",
    "mympf.setMatplotlibParam()\n",
    "plt.viridis()\n",
    "import joblib\n",
    "import pickle\n",
    "from include.generators import Generator, ScaleDataGen\n",
    "from saver import Saver\n",
    "from include.callbacks import get_modelcheckpoint, ExtraValidation\n",
    "from keras.utils.vis_utils import plot_model\n",
    "import model_eval\n",
    "from Data import Data_train, Data_eval\n",
    "import wandb\n",
    "from wandb.keras import WandbCallback, WandbMetricsLogger\n",
    "import models.reg as rm\n",
    "import tensorflow as tf\n",
    "from dataclasses import dataclass, field\n",
    "\n",
    "\n",
    "from keras import backend as K"
   ]
  },
  {
   "cell_type": "code",
   "execution_count": 3,
   "id": "01efc6ed-4d5b-42a1-8515-21c0cd998d25",
   "metadata": {},
   "outputs": [],
   "source": [
    "path_train_nc = \"/libre/dumontj/coco2/dl-input/2km_forLip_2/train_dataset.nc\"\n",
    "path_valid_nc = \"/libre/dumontj/coco2/dl-input/2km_forLip_2/valid_dataset.nc\"\n",
    "path_extra_valid_nc = \"/libre/dumontj/coco2/dl-input/2km_Lip/valid_dataset.nc\""
   ]
  },
  {
   "cell_type": "code",
   "execution_count": 4,
   "id": "112eb5ca-27e6-4127-bef9-d3c621b58228",
   "metadata": {},
   "outputs": [
    {
     "name": "stderr",
     "output_type": "stream",
     "text": [
      "2023-02-28 15:05:52.344493: I tensorflow/core/platform/cpu_feature_guard.cc:193] This TensorFlow binary is optimized with oneAPI Deep Neural Network Library (oneDNN) to use the following CPU instructions in performance-critical operations:  SSE4.1 SSE4.2 AVX AVX2 AVX512F FMA\n",
      "To enable them in other operations, rebuild TensorFlow with the appropriate compiler flags.\n",
      "2023-02-28 15:05:52.852947: I tensorflow/core/common_runtime/gpu/gpu_device.cc:1613] Created device /job:localhost/replica:0/task:0/device:GPU:0 with 14482 MB memory:  -> device: 0, name: Quadro RTX 5000, pci bus id: 0000:65:00.0, compute capability: 7.5\n",
      "2023-02-28 15:05:53.026365: W tensorflow/tsl/framework/cpu_allocator_impl.cc:82] Allocation of 2060451840 exceeds 10% of free system memory.\n",
      "2023-02-28 15:05:54.312745: W tensorflow/tsl/framework/cpu_allocator_impl.cc:82] Allocation of 2060451840 exceeds 10% of free system memory.\n"
     ]
    },
    {
     "name": "stdout",
     "output_type": "stream",
     "text": [
      "data.x.train.shape (25152, 64, 64, 5)\n"
     ]
    }
   ],
   "source": [
    "data = Data_train(path_train_nc, path_valid_nc, path_extra_valid_nc)\n",
    "data.prepare_input(\"xco2\", \"u_wind\", \"v_wind\", \"xco2_prec\", \"bool_perf_seg\")\n",
    "data.prepare_output_inversion()"
   ]
  },
  {
   "cell_type": "code",
   "execution_count": 5,
   "id": "b953ba0f-8dd5-45bb-a3be-1b258bcb7004",
   "metadata": {},
   "outputs": [],
   "source": [
    "generator = ScaleDataGen(\n",
    "    data.x.train,\n",
    "    data.x.plumes_train,\n",
    "    data.y.train,\n",
    "    data.x.scale_bool,\n",
    "    data.x.fields_input_shape,\n",
    ")"
   ]
  },
  {
   "cell_type": "code",
   "execution_count": 6,
   "id": "4e9244e8-3ab7-404c-a2f7-7f32ebf6c158",
   "metadata": {},
   "outputs": [
    {
     "name": "stderr",
     "output_type": "stream",
     "text": [
      "/profils_cerea/dumontj/mambaforge/envs/gpu/lib/python3.9/site-packages/keras/preprocessing/image.py:766: UserWarning: NumpyArrayIterator is set to use the data format convention \"channels_last\" (channels on axis 3), i.e. expected either 1, 3, or 4 channels on axis 3. However, it was passed an array with shape (25152, 64, 64, 5) (5 channels).\n",
      "  warnings.warn(\n"
     ]
    }
   ],
   "source": [
    "generator = Generator(\"inversion\")\n",
    "generator_flowing = generator.flow(data.x.train, data.y.train)"
   ]
  },
  {
   "cell_type": "code",
   "execution_count": 7,
   "id": "6627d270-84f7-4227-9889-97b34bc8ef29",
   "metadata": {},
   "outputs": [
    {
     "name": "stdout",
     "output_type": "stream",
     "text": [
      "Epoch 1/15\n"
     ]
    },
    {
     "name": "stderr",
     "output_type": "stream",
     "text": [
      "2023-02-28 15:05:59.036891: E tensorflow/core/grappler/optimizers/meta_optimizer.cc:954] layout failed: INVALID_ARGUMENT: Size of values 0 does not match size of permutation 4 @ fanin shape inmodel_1/model/dropout/dropout/SelectV2-2-TransposeNHWCToNCHW-LayoutOptimizer\n",
      "2023-02-28 15:05:59.796745: I tensorflow/compiler/xla/stream_executor/cuda/cuda_dnn.cc:428] Loaded cuDNN version 8401\n",
      "2023-02-28 15:06:00.366781: I tensorflow/tsl/platform/default/subprocess.cc:304] Start cannot spawn child process: No such file or directory\n",
      "2023-02-28 15:06:00.716388: I tensorflow/compiler/xla/service/service.cc:173] XLA service 0x7fcddc01b940 initialized for platform CUDA (this does not guarantee that XLA will be used). Devices:\n",
      "2023-02-28 15:06:00.716436: I tensorflow/compiler/xla/service/service.cc:181]   StreamExecutor device (0): Quadro RTX 5000, Compute Capability 7.5\n",
      "2023-02-28 15:06:00.726986: I tensorflow/compiler/mlir/tensorflow/utils/dump_mlir_util.cc:268] disabling MLIR crash reproducer, set env var `MLIR_CRASH_REPRODUCER_DIRECTORY` to enable.\n",
      "2023-02-28 15:06:00.792807: I tensorflow/tsl/platform/default/subprocess.cc:304] Start cannot spawn child process: No such file or directory\n",
      "2023-02-28 15:06:00.841153: I tensorflow/compiler/jit/xla_compilation_cache.cc:477] Compiled cluster using XLA!  This line is logged at most once for the lifetime of the process.\n"
     ]
    },
    {
     "name": "stdout",
     "output_type": "stream",
     "text": [
      "786/786 [==============================] - 16s 14ms/step - loss: 5.8722\n",
      "Epoch 2/15\n",
      "786/786 [==============================] - 11s 14ms/step - loss: 4.3527\n",
      "Epoch 3/15\n",
      "786/786 [==============================] - 11s 14ms/step - loss: 3.7790\n",
      "Epoch 4/15\n",
      "786/786 [==============================] - 11s 14ms/step - loss: 3.4419\n",
      "Epoch 5/15\n",
      "786/786 [==============================] - 11s 14ms/step - loss: 3.1799\n",
      "Epoch 6/15\n",
      "786/786 [==============================] - 11s 14ms/step - loss: 3.0636\n",
      "Epoch 7/15\n",
      "786/786 [==============================] - 11s 14ms/step - loss: 2.9310\n",
      "Epoch 8/15\n",
      "786/786 [==============================] - 11s 14ms/step - loss: 2.9755\n",
      "Epoch 9/15\n",
      "786/786 [==============================] - 11s 14ms/step - loss: 2.8533\n",
      "Epoch 10/15\n",
      "786/786 [==============================] - 11s 14ms/step - loss: 2.7801\n",
      "Epoch 11/15\n",
      "786/786 [==============================] - 11s 14ms/step - loss: 2.7189\n",
      "Epoch 12/15\n",
      "786/786 [==============================] - 11s 14ms/step - loss: 2.7178\n",
      "Epoch 13/15\n",
      "786/786 [==============================] - 11s 14ms/step - loss: 2.6494\n",
      "Epoch 14/15\n",
      "786/786 [==============================] - 11s 14ms/step - loss: 2.6400\n",
      "Epoch 15/15\n",
      "786/786 [==============================] - 11s 14ms/step - loss: 2.6390\n"
     ]
    },
    {
     "data": {
      "text/plain": [
       "<keras.callbacks.History at 0x7fd066d028e0>"
      ]
     },
     "execution_count": 7,
     "metadata": {},
     "output_type": "execute_result"
    }
   ],
   "source": [
    "reg_builder = rm.Reg_model_builder(\n",
    "    \"essential\",\n",
    "    data.x.fields_input_shape,\n",
    "    data.y.classes,\n",
    "    data.x.n_layer,\n",
    "    data.x.xco2_noisy_chans,\n",
    ")\n",
    "model = reg_builder.get_model()\n",
    "model.compile(\"adam\", \"MeanAbsoluteError\")\n",
    "model.fit(generator_flowing, epochs=15)"
   ]
  },
  {
   "cell_type": "code",
   "execution_count": 9,
   "id": "6ab71d47-1ea7-49e0-88b4-6f4b4350ae51",
   "metadata": {},
   "outputs": [
    {
     "name": "stdout",
     "output_type": "stream",
     "text": [
      "Epoch 1/15\n",
      "786/786 [==============================] - 11s 14ms/step - loss: 2.3980 - val_loss: 5.3827\n",
      "Epoch 2/15\n",
      "786/786 [==============================] - 11s 14ms/step - loss: 2.3960 - val_loss: 5.7426\n",
      "Epoch 3/15\n",
      "786/786 [==============================] - 11s 14ms/step - loss: 2.3867 - val_loss: 5.2785\n",
      "Epoch 4/15\n",
      "786/786 [==============================] - 11s 14ms/step - loss: 2.3610 - val_loss: 5.2396\n",
      "Epoch 5/15\n",
      "185/786 [======>.......................] - ETA: 8s - loss: 2.4158"
     ]
    },
    {
     "name": "stderr",
     "output_type": "stream",
     "text": [
      "\n",
      "KeyboardInterrupt\n",
      "\n"
     ]
    }
   ],
   "source": [
    "model.fit(\n",
    "    generator_flowing,\n",
    "    epochs=15,\n",
    "    validation_data=(data.x.extra_valid, data.y.extra_valid),\n",
    ")"
   ]
  },
  {
   "cell_type": "code",
   "execution_count": null,
   "id": "a47ce289-9e21-4677-ba9b-5c8734826608",
   "metadata": {},
   "outputs": [],
   "source": []
  }
 ],
 "metadata": {
  "kernelspec": {
   "display_name": "Python 3 (ipykernel)",
   "language": "python",
   "name": "python3"
  },
  "language_info": {
   "codemirror_mode": {
    "name": "ipython",
    "version": 3
   },
   "file_extension": ".py",
   "mimetype": "text/x-python",
   "name": "python",
   "nbconvert_exporter": "python",
   "pygments_lexer": "ipython3",
   "version": "3.9.15"
  }
 },
 "nbformat": 4,
 "nbformat_minor": 5
}
