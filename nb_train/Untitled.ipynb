{
 "cells": [
  {
   "cell_type": "code",
   "execution_count": null,
   "id": "8d25134c-3feb-4771-aa3d-e8588621fbac",
   "metadata": {},
   "outputs": [],
   "source": [
    "import os\n",
    "os.chdir(\"/cerea_raid/users/dumontj/dev/coco2/dl\")\n",
    "import numpy as np\n",
    "import sys\n",
    "import pandas as pd\n",
    "import xarray as xr\n",
    "import tensorflow as tf\n",
    "from tensorflow import keras\n",
    "import keras.backend as K\n",
    "import matplotlib.pyplot as plt\n",
    "import seaborn as sns\n",
    "from treeconfigparser import TreeConfigParser\n",
    "\n",
    "from include.loss import calculate_weighted_plume\n",
    "\n",
    "import matplotlib_functions\n",
    "matplotlib_functions.setMatplotlibParam()\n",
    "plt.viridis()\n",
    "import joblib\n",
    "import pickle\n",
    "\n",
    "from sklearn import preprocessing\n",
    "from sklearn.linear_model import LinearRegression\n",
    "import sklearn.linear_model as linear_model\n",
    "import sklearn.ensemble as ensemble\n",
    "\n",
    "from data.Data import Data, Eval_Shuffler\n",
    "from include.loss import pixel_weighted_cross_entropy\n",
    "import wandb\n",
    "from wandb.keras import WandbCallback\n",
    "import models.reg as rg \n",
    "from include.loss import rmae\n",
    "\n",
    "dir_res = \"/cerea_raid/users/dumontj/dev/coco2/dl/res\"\n",
    "dir_plots = \"/cerea_raid/users/dumontj/dev/coco2/dl/eval/reg\"\n",
    "dir_eval_ddeq = \"/libre/dumontj/coco2/ddeq/eval\""
   ]
  },
  {
   "cell_type": "code",
   "execution_count": null,
   "id": "1917fb7f-af00-405d-8271-ca1016116f73",
   "metadata": {},
   "outputs": [],
   "source": []
  }
 ],
 "metadata": {
  "kernelspec": {
   "display_name": "Python 3 (ipykernel)",
   "language": "python",
   "name": "python3"
  },
  "language_info": {
   "codemirror_mode": {
    "name": "ipython",
    "version": 3
   },
   "file_extension": ".py",
   "mimetype": "text/x-python",
   "name": "python",
   "nbconvert_exporter": "python",
   "pygments_lexer": "ipython3",
   "version": "3.8.13"
  }
 },
 "nbformat": 4,
 "nbformat_minor": 5
}
