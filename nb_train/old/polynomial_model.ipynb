{
 "cells": [
  {
   "cell_type": "code",
   "execution_count": 1,
   "id": "2fc299f9-510a-4d7c-b9e3-671dee4f0bd1",
   "metadata": {},
   "outputs": [
    {
     "name": "stdout",
     "output_type": "stream",
     "text": [
      "Model: \"model\"\n",
      "__________________________________________________________________________________________________\n",
      " Layer (type)                   Output Shape         Param #     Connected to                     \n",
      "==================================================================================================\n",
      " input_1 (InputLayer)           [(None, 1)]          0           []                               \n",
      "                                                                                                  \n",
      " input_2 (InputLayer)           [(None, 1)]          0           []                               \n",
      "                                                                                                  \n",
      " multiply (Multiply)            (None, 1)            0           ['input_1[0][0]',                \n",
      "                                                                  'input_2[0][0]']                \n",
      "                                                                                                  \n",
      " a (Dense)                      (None, 1)            1           ['multiply[0][0]']               \n",
      "                                                                                                  \n",
      " b (Dense)                      (None, 1)            1           ['input_1[0][0]']                \n",
      "                                                                                                  \n",
      " c_d (Dense)                    (None, 1)            2           ['input_2[0][0]']                \n",
      "                                                                                                  \n",
      " add (Add)                      (None, 1)            0           ['a[0][0]',                      \n",
      "                                                                  'b[0][0]',                      \n",
      "                                                                  'c_d[0][0]']                    \n",
      "                                                                                                  \n",
      "==================================================================================================\n",
      "Total params: 4\n",
      "Trainable params: 4\n",
      "Non-trainable params: 0\n",
      "__________________________________________________________________________________________________\n",
      "Epoch 1/3\n"
     ]
    },
    {
     "name": "stderr",
     "output_type": "stream",
     "text": [
      "2022-07-04 16:57:08.316915: I tensorflow/core/platform/cpu_feature_guard.cc:151] This TensorFlow binary is optimized with oneAPI Deep Neural Network Library (oneDNN) to use the following CPU instructions in performance-critical operations:  AVX2 AVX512F FMA\n",
      "To enable them in other operations, rebuild TensorFlow with the appropriate compiler flags.\n",
      "2022-07-04 16:57:08.767158: I tensorflow/core/common_runtime/gpu/gpu_device.cc:1525] Created device /job:localhost/replica:0/task:0/device:GPU:0 with 14544 MB memory:  -> device: 0, name: Quadro RTX 5000, pci bus id: 0000:65:00.0, compute capability: 7.5\n"
     ]
    },
    {
     "name": "stdout",
     "output_type": "stream",
     "text": [
      "3125/3125 [==============================] - 9s 3ms/step - loss: 2.6913\n",
      "Epoch 2/3\n",
      "3125/3125 [==============================] - 8s 3ms/step - loss: 1.0600e-06\n",
      "Epoch 3/3\n",
      "3125/3125 [==============================] - 8s 3ms/step - loss: 1.0499e-06\n",
      "[]\n",
      "[]\n",
      "[]\n",
      "[array([[0.4995465]], dtype=float32)]\n",
      "[array([[1.5006183]], dtype=float32)]\n",
      "[array([[1.9997396]], dtype=float32), array([0.29960763], dtype=float32)]\n",
      "[]\n"
     ]
    }
   ],
   "source": [
    "from tensorflow import keras\n",
    "import tensorflow as tf\n",
    "import numpy as np\n",
    "\n",
    "# polynome\n",
    "def P(x):\n",
    "    a = 0.5\n",
    "    b = 1.5\n",
    "    c = 2\n",
    "    d = 0.3\n",
    "    return a*x[:,0]*x[:,1]+b*x[:,0]+c*x[:,1]+d\n",
    "\n",
    "# samples\n",
    "N = 100000\n",
    "X_0 = np.random.randn(N,1)\n",
    "X_1 = np.random.randn(N,1)\n",
    "Y = P(np.concatenate((X_0, X_1), axis=1))\n",
    "\n",
    "# keras polynomial model\n",
    "def polynomial_model():\n",
    "    X_0 = keras.layers.Input(shape=(1))\n",
    "    X_1 = keras.layers.Input(shape=(1))\n",
    "    a = keras.layers.Dense(1, use_bias=False, name=\"a\")(keras.layers.Multiply()([X_0, X_1]))\n",
    "    b = keras.layers.Dense(1, use_bias=False, name=\"b\")(X_0)\n",
    "    c = keras.layers.Dense(1, use_bias=True, name=\"c_d\")(X_1)\n",
    "    \n",
    "    output = keras.layers.Add()([a,b,c])\n",
    "    \n",
    "    model = keras.Model([X_0, X_1],output)\n",
    "    \n",
    "    return model\n",
    "\n",
    "model = polynomial_model()\n",
    "model.summary()\n",
    "model.compile(loss=keras.losses.mean_squared_error)\n",
    "model.fit([X_0, X_1], Y, epochs=3)\n",
    "\n",
    "for layer in model.layers: \n",
    "    print(layer.get_weights())"
   ]
  },
  {
   "cell_type": "code",
   "execution_count": 10,
   "id": "ab9d5127-b2b4-4452-a95f-39c911e30958",
   "metadata": {},
   "outputs": [],
   "source": [
    "Z = np.array([0.3, 0.4])"
   ]
  },
  {
   "cell_type": "code",
   "execution_count": 30,
   "id": "fef72375-0f17-42ec-bdf9-3137b4e584ec",
   "metadata": {},
   "outputs": [],
   "source": [
    "Z_0 = np.expand_dims(np.array([Z[0]]), axis=0)\n",
    "Z_1 = np.expand_dims(np.array([Z[1]]), axis=0)"
   ]
  },
  {
   "cell_type": "code",
   "execution_count": 32,
   "id": "edefae58-b184-41fa-8637-e31bed523ec1",
   "metadata": {},
   "outputs": [
    {
     "data": {
      "text/plain": [
       "array([1.61])"
      ]
     },
     "execution_count": 32,
     "metadata": {},
     "output_type": "execute_result"
    }
   ],
   "source": [
    "P(np.concatenate((Z_0,Z_1), axis=1))"
   ]
  },
  {
   "cell_type": "code",
   "execution_count": 34,
   "id": "3a65a495-d88a-40de-a0c4-aef57b587e44",
   "metadata": {},
   "outputs": [
    {
     "data": {
      "text/plain": [
       "<tf.Tensor: shape=(1, 1), dtype=float32, numpy=array([[1.6096346]], dtype=float32)>"
      ]
     },
     "execution_count": 34,
     "metadata": {},
     "output_type": "execute_result"
    }
   ],
   "source": []
  },
  {
   "cell_type": "code",
   "execution_count": null,
   "id": "7fceb49f-ea29-485b-9c7c-0b58f421a6ed",
   "metadata": {},
   "outputs": [],
   "source": []
  }
 ],
 "metadata": {
  "kernelspec": {
   "display_name": "Python 3 (ipykernel)",
   "language": "python",
   "name": "python3"
  },
  "language_info": {
   "codemirror_mode": {
    "name": "ipython",
    "version": 3
   },
   "file_extension": ".py",
   "mimetype": "text/x-python",
   "name": "python",
   "nbconvert_exporter": "python",
   "pygments_lexer": "ipython3",
   "version": "3.8.13"
  }
 },
 "nbformat": 4,
 "nbformat_minor": 5
}
