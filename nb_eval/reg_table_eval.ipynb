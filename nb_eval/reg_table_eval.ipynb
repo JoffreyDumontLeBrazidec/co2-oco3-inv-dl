{
 "cells": [
  {
   "cell_type": "markdown",
   "id": "223fb8ae-abc6-4565-a95a-fd5a35a8e5eb",
   "metadata": {},
   "source": [
    "### Import lib"
   ]
  },
  {
   "cell_type": "code",
   "execution_count": 1,
   "id": "feb2ab78-1f9d-44a9-b82e-7dfe09aa80cf",
   "metadata": {},
   "outputs": [
    {
     "name": "stdout",
     "output_type": "stream",
     "text": [
      "Segmentation Models: using `keras` framework.\n"
     ]
    }
   ],
   "source": [
    "import os\n",
    "os.chdir(\"/cerea_raid/users/dumontj/dev/coco2/dl\")\n",
    "import numpy as np\n",
    "import sys\n",
    "import pandas as pd\n",
    "import xarray as xr\n",
    "import tensorflow as tf\n",
    "from tensorflow import keras\n",
    "import keras.backend as K\n",
    "import matplotlib.pyplot as plt\n",
    "import seaborn as sns\n",
    "from treeconfigparser import TreeConfigParser\n",
    "import joblib\n",
    "\n",
    "import models.reg as rg\n",
    "import models.seg as sg\n",
    "from data.Data import Data\n",
    "from include.loss import pixel_weighted_cross_entropy"
   ]
  },
  {
   "cell_type": "markdown",
   "id": "86c1fa3f-095f-4206-bd2e-4b8bb8373178",
   "metadata": {
    "tags": []
   },
   "source": [
    "## Download func"
   ]
  },
  {
   "cell_type": "code",
   "execution_count": 2,
   "id": "5756e201-25ec-4c65-8379-e1440fa14a17",
   "metadata": {},
   "outputs": [],
   "source": [
    "path_res = \"/cerea_raid/users/dumontj/dev/coco2/dl/res\""
   ]
  },
  {
   "cell_type": "markdown",
   "id": "3a409b67-bc65-4466-8a49-6a819bbe3690",
   "metadata": {},
   "source": [
    "## CLEAN POUR BIEN PIOCHER VALIDATION DATASET : BIZARRE ICI"
   ]
  },
  {
   "cell_type": "code",
   "execution_count": 3,
   "id": "19c7b1b4-6ddd-45a5-ae63-233a26b6a584",
   "metadata": {},
   "outputs": [],
   "source": [
    "def get_data_for_reg(ds: str, scaler):\n",
    "    config = TreeConfigParser()\n",
    "    config.readfiles(os.path.join(path_res, ds, \"config.cfg\"))\n",
    "    shuffle_indices = np.fromfile(os.path.join(path_res, ds, \"shuffle_indices.bin\")).astype(np.int64)\n",
    "    data = Data(config, shuffle_indices)\n",
    "    data.prepare_input(scaler)\n",
    "    data.prepare_output()\n",
    "    print(\"xco2 valid mean\", np.mean(data.y.valid[0]))\n",
    "    return data"
   ]
  },
  {
   "cell_type": "code",
   "execution_count": 4,
   "id": "dab66a53-7338-4f7c-a5a9-0d7941511cc4",
   "metadata": {},
   "outputs": [],
   "source": [
    "def get_model(path_w: str):\n",
    "    model = keras.models.load_model(os.path.join(path_w, \"weights_cp_best.h5\"), compile=True)\n",
    "    return model\n",
    "\n",
    "def get_scaler(path_w: str):\n",
    "    scaler = joblib.load(os.path.join(path_w, \"scaler.save\"))\n",
    "    return scaler"
   ]
  },
  {
   "cell_type": "code",
   "execution_count": 5,
   "id": "813fed69-47ca-4825-b571-d55d13a45f1b",
   "metadata": {},
   "outputs": [],
   "source": [
    "def eval_ds_with_model(data, model):\n",
    "    x_valid = tf.convert_to_tensor(data.x.valid[0], np.float32)\n",
    "    y_valid = tf.convert_to_tensor(data.y.valid, np.float32)\n",
    "    loss_valid = model.evaluate(x=x_valid, y=y_valid, batch_size=64)\n",
    "    return loss_valid"
   ]
  },
  {
   "cell_type": "code",
   "execution_count": 6,
   "id": "1285a0b9-fbf0-44ca-9be4-c515129c4d44",
   "metadata": {},
   "outputs": [],
   "source": [
    "def eval_ds_with_baseline(data, model):\n",
    "    y_train = tf.convert_to_tensor(data.y.train, np.float32)\n",
    "    mean_train = tf.math.reduce_mean(y_train) * tf.ones_like(y_train, np.float32)\n",
    "    loss_baseline = model.compute_loss(y=y_train, y_pred=mean_train).numpy()\n",
    "    return loss_baseline"
   ]
  },
  {
   "cell_type": "markdown",
   "id": "248075c7-f977-4fb4-a51b-095ec7f288b3",
   "metadata": {},
   "source": [
    "### Case choices"
   ]
  },
  {
   "cell_type": "markdown",
   "id": "d29a6b43-b03a-4173-91bd-394a1a220322",
   "metadata": {},
   "source": [
    "### REG basic"
   ]
  },
  {
   "cell_type": "code",
   "execution_count": 7,
   "id": "78ecc6c9-ba76-4331-b8f2-4c1a48d742ee",
   "metadata": {},
   "outputs": [],
   "source": [
    "names_ds = [\"par\", \"ber\", \"pw\"]\n",
    "df_indices_ds = [\"ds_\" + case for case in names_ds]\n",
    "keys_ds = [\"reg_\" + case for case in names_ds]\n",
    "\n",
    "names_w = [\"par\", \"ber\", \"pw\", \"ber_DA\"]\n",
    "df_indices_w = [\"w_\" + case for case in names_w]\n",
    "keys_w = [\"reg_\" + case for case in names_w]"
   ]
  },
  {
   "cell_type": "markdown",
   "id": "35190aa0-6605-421f-9012-3e9d2ef6bb01",
   "metadata": {},
   "source": [
    "### REG advanced"
   ]
  },
  {
   "cell_type": "code",
   "execution_count": 14,
   "id": "6be24121-9c93-45fa-90a3-1edff4f29b50",
   "metadata": {},
   "outputs": [],
   "source": [
    "names_ds = [\"ber\", \"PGIPW\", \"PGIPP_DA\"]\n",
    "df_indices_ds = [\"ds_\" + case for case in names_ds]\n",
    "keys_ds = [\"reg_\" + case for case in names_ds]\n",
    "\n",
    "names_w = [\"ber\", \"ber_DA\", \"PGIPW\", \"PGIPW_DA\", \"PGIPW_DA2\", \"PGIPP_DA\", \"PGIPW_DA_save\"]\n",
    "df_indices_w = [\"w_\" + case for case in names_w]\n",
    "keys_w = [\"reg_\" + case for case in names_w]"
   ]
  },
  {
   "cell_type": "markdown",
   "id": "d84eff66-e307-46e5-8340-10da669bd742",
   "metadata": {},
   "source": [
    "### Make df of results"
   ]
  },
  {
   "cell_type": "code",
   "execution_count": null,
   "id": "4e72d450-24ef-4692-98bb-659624c7ed06",
   "metadata": {},
   "outputs": [],
   "source": [
    "df = pd.DataFrame(dict(zip(df_indices_w, [[-1.]*len(names_ds)]*len(names_w))))\n",
    "df.index = df_indices_ds\n",
    "for df_idx_w, key_w in zip(df_indices_w, keys_w):\n",
    "    full_path_w = os.path.join(\"/cerea_raid/users/dumontj/dev/coco2/dl/res\", key_w)\n",
    "    model = get_model(full_path_w)\n",
    "    scaler = get_scaler(full_path_w)\n",
    "    for df_idx_ds, key_ds in zip(df_indices_ds, keys_ds):\n",
    "        data = get_data_for_reg(key_ds, scaler)\n",
    "        loss_valid = eval_ds_with_model(data, model)\n",
    "        df.loc[df_idx_ds, df_idx_w] = loss_valid  "
   ]
  },
  {
   "cell_type": "code",
   "execution_count": 16,
   "id": "b5ab8718-7507-4c38-a609-bbcf8e2db0c3",
   "metadata": {},
   "outputs": [
    {
     "data": {
      "text/html": [
       "<div>\n",
       "<style scoped>\n",
       "    .dataframe tbody tr th:only-of-type {\n",
       "        vertical-align: middle;\n",
       "    }\n",
       "\n",
       "    .dataframe tbody tr th {\n",
       "        vertical-align: top;\n",
       "    }\n",
       "\n",
       "    .dataframe thead th {\n",
       "        text-align: right;\n",
       "    }\n",
       "</style>\n",
       "<table border=\"1\" class=\"dataframe\">\n",
       "  <thead>\n",
       "    <tr style=\"text-align: right;\">\n",
       "      <th></th>\n",
       "      <th>w_ber</th>\n",
       "      <th>w_ber_DA</th>\n",
       "      <th>w_PGIPW</th>\n",
       "      <th>w_PGIPW_DA</th>\n",
       "      <th>w_PGIPW_DA2</th>\n",
       "      <th>w_PGIPP_DA</th>\n",
       "      <th>w_PGIPW_DA_save</th>\n",
       "    </tr>\n",
       "  </thead>\n",
       "  <tbody>\n",
       "    <tr>\n",
       "      <th>ds_ber</th>\n",
       "      <td>0.058189</td>\n",
       "      <td>0.062930</td>\n",
       "      <td>0.215092</td>\n",
       "      <td>0.191444</td>\n",
       "      <td>0.161283</td>\n",
       "      <td>0.200780</td>\n",
       "      <td>-1.0</td>\n",
       "    </tr>\n",
       "    <tr>\n",
       "      <th>ds_PGIPW</th>\n",
       "      <td>0.295638</td>\n",
       "      <td>0.298279</td>\n",
       "      <td>0.082520</td>\n",
       "      <td>0.047482</td>\n",
       "      <td>0.070796</td>\n",
       "      <td>0.047488</td>\n",
       "      <td>-1.0</td>\n",
       "    </tr>\n",
       "    <tr>\n",
       "      <th>ds_PGIPP_DA</th>\n",
       "      <td>0.297590</td>\n",
       "      <td>0.295858</td>\n",
       "      <td>0.075448</td>\n",
       "      <td>0.045666</td>\n",
       "      <td>0.071509</td>\n",
       "      <td>0.053917</td>\n",
       "      <td>-1.0</td>\n",
       "    </tr>\n",
       "  </tbody>\n",
       "</table>\n",
       "</div>"
      ],
      "text/plain": [
       "                w_ber  w_ber_DA   w_PGIPW  w_PGIPW_DA  w_PGIPW_DA2  \\\n",
       "ds_ber       0.058189  0.062930  0.215092    0.191444     0.161283   \n",
       "ds_PGIPW     0.295638  0.298279  0.082520    0.047482     0.070796   \n",
       "ds_PGIPP_DA  0.297590  0.295858  0.075448    0.045666     0.071509   \n",
       "\n",
       "             w_PGIPP_DA  w_PGIPW_DA_save  \n",
       "ds_ber         0.200780             -1.0  \n",
       "ds_PGIPW       0.047488             -1.0  \n",
       "ds_PGIPP_DA    0.053917             -1.0  "
      ]
     },
     "execution_count": 16,
     "metadata": {},
     "output_type": "execute_result"
    }
   ],
   "source": [
    "df"
   ]
  },
  {
   "cell_type": "code",
   "execution_count": 14,
   "id": "e69f4064-e22c-47ec-bc5f-71f82422b248",
   "metadata": {},
   "outputs": [
    {
     "data": {
      "text/html": [
       "<div>\n",
       "<style scoped>\n",
       "    .dataframe tbody tr th:only-of-type {\n",
       "        vertical-align: middle;\n",
       "    }\n",
       "\n",
       "    .dataframe tbody tr th {\n",
       "        vertical-align: top;\n",
       "    }\n",
       "\n",
       "    .dataframe thead th {\n",
       "        text-align: right;\n",
       "    }\n",
       "</style>\n",
       "<table border=\"1\" class=\"dataframe\">\n",
       "  <thead>\n",
       "    <tr style=\"text-align: right;\">\n",
       "      <th></th>\n",
       "      <th>w_ber</th>\n",
       "      <th>w_ber_DA</th>\n",
       "      <th>w_PGIPW</th>\n",
       "      <th>w_PGIPW_DA</th>\n",
       "      <th>w_PGIPW_DA2</th>\n",
       "    </tr>\n",
       "  </thead>\n",
       "  <tbody>\n",
       "    <tr>\n",
       "      <th>ds_ber</th>\n",
       "      <td>0.164924</td>\n",
       "      <td>0.059262</td>\n",
       "      <td>0.211345</td>\n",
       "      <td>0.189556</td>\n",
       "      <td>0.157331</td>\n",
       "    </tr>\n",
       "    <tr>\n",
       "      <th>ds_PGIPW</th>\n",
       "      <td>0.298534</td>\n",
       "      <td>0.295204</td>\n",
       "      <td>0.080281</td>\n",
       "      <td>0.039498</td>\n",
       "      <td>0.071498</td>\n",
       "    </tr>\n",
       "  </tbody>\n",
       "</table>\n",
       "</div>"
      ],
      "text/plain": [
       "             w_ber  w_ber_DA   w_PGIPW  w_PGIPW_DA  w_PGIPW_DA2\n",
       "ds_ber    0.164924  0.059262  0.211345    0.189556     0.157331\n",
       "ds_PGIPW  0.298534  0.295204  0.080281    0.039498     0.071498"
      ]
     },
     "execution_count": 14,
     "metadata": {},
     "output_type": "execute_result"
    }
   ],
   "source": [
    "df"
   ]
  },
  {
   "cell_type": "markdown",
   "id": "aaa4c867-39f5-420b-83dc-3f05e57a1373",
   "metadata": {},
   "source": [
    "#### Add baseline"
   ]
  },
  {
   "cell_type": "code",
   "execution_count": 15,
   "id": "fff4c660-449f-4235-b979-63f85764fcdf",
   "metadata": {},
   "outputs": [
    {
     "name": "stdout",
     "output_type": "stream",
     "text": [
      "data.out.train.shape (6874, 1)\n",
      "data.out.train.shape (24194, 1)\n"
     ]
    }
   ],
   "source": [
    "df[\"mean_bl\"] = [-1.]*len(df.index)\n",
    "for df_idx_ds, key_ds in zip(df_indices_ds, keys_ds):\n",
    "    config_file = os.path.join(\"/cerea_raid/users/dumontj/dev/coco2/dl/cfg\", key_ds + \".cfg\")\n",
    "    config = TreeConfigParser()\n",
    "    config.readfiles(config_file)\n",
    "    data = Data(config)\n",
    "    data.prepare_output()\n",
    "    \n",
    "    mean_bl = eval_ds_with_baseline(data, model)\n",
    "    df.loc[df_idx_ds, \"mean_bl\"] = mean_bl"
   ]
  },
  {
   "cell_type": "code",
   "execution_count": 16,
   "id": "515ddc4b-75c6-407b-8622-f59a938cfdf2",
   "metadata": {},
   "outputs": [
    {
     "data": {
      "text/html": [
       "<div>\n",
       "<style scoped>\n",
       "    .dataframe tbody tr th:only-of-type {\n",
       "        vertical-align: middle;\n",
       "    }\n",
       "\n",
       "    .dataframe tbody tr th {\n",
       "        vertical-align: top;\n",
       "    }\n",
       "\n",
       "    .dataframe thead th {\n",
       "        text-align: right;\n",
       "    }\n",
       "</style>\n",
       "<table border=\"1\" class=\"dataframe\">\n",
       "  <thead>\n",
       "    <tr style=\"text-align: right;\">\n",
       "      <th></th>\n",
       "      <th>w_ber</th>\n",
       "      <th>w_ber_DA</th>\n",
       "      <th>w_PGIPW</th>\n",
       "      <th>w_PGIPW_DA</th>\n",
       "      <th>w_PGIPW_DA2</th>\n",
       "      <th>mean_bl</th>\n",
       "    </tr>\n",
       "  </thead>\n",
       "  <tbody>\n",
       "    <tr>\n",
       "      <th>ds_ber</th>\n",
       "      <td>0.164924</td>\n",
       "      <td>0.059262</td>\n",
       "      <td>0.211345</td>\n",
       "      <td>0.189556</td>\n",
       "      <td>0.157331</td>\n",
       "      <td>0.185153</td>\n",
       "    </tr>\n",
       "    <tr>\n",
       "      <th>ds_PGIPW</th>\n",
       "      <td>0.298534</td>\n",
       "      <td>0.295204</td>\n",
       "      <td>0.080281</td>\n",
       "      <td>0.039498</td>\n",
       "      <td>0.071498</td>\n",
       "      <td>0.189505</td>\n",
       "    </tr>\n",
       "  </tbody>\n",
       "</table>\n",
       "</div>"
      ],
      "text/plain": [
       "             w_ber  w_ber_DA   w_PGIPW  w_PGIPW_DA  w_PGIPW_DA2   mean_bl\n",
       "ds_ber    0.164924  0.059262  0.211345    0.189556     0.157331  0.185153\n",
       "ds_PGIPW  0.298534  0.295204  0.080281    0.039498     0.071498  0.189505"
      ]
     },
     "execution_count": 16,
     "metadata": {},
     "output_type": "execute_result"
    }
   ],
   "source": [
    "df"
   ]
  },
  {
   "cell_type": "code",
   "execution_count": null,
   "id": "3b7f1b88-3218-4a49-b206-fcae2466c6f3",
   "metadata": {},
   "outputs": [],
   "source": []
  }
 ],
 "metadata": {
  "kernelspec": {
   "display_name": "Python 3 (ipykernel)",
   "language": "python",
   "name": "python3"
  },
  "language_info": {
   "codemirror_mode": {
    "name": "ipython",
    "version": 3
   },
   "file_extension": ".py",
   "mimetype": "text/x-python",
   "name": "python",
   "nbconvert_exporter": "python",
   "pygments_lexer": "ipython3",
   "version": "3.8.13"
  }
 },
 "nbformat": 4,
 "nbformat_minor": 5
}
