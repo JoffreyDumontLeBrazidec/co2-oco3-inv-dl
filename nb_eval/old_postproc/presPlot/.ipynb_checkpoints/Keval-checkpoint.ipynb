{
 "cells": [
  {
   "cell_type": "code",
   "execution_count": 153,
   "id": "7f19693e-5fc6-4c89-bf60-8bedbd2d2dba",
   "metadata": {},
   "outputs": [
    {
     "name": "stdout",
     "output_type": "stream",
     "text": [
      "x_train.shape[0] (22915, 160, 160, 1)\n",
      "y_train.shape (22915,)\n"
     ]
    },
    {
     "ename": "AttributeError",
     "evalue": "'numpy.ndarray' object has no attribute 'values'",
     "output_type": "error",
     "traceback": [
      "\u001b[0;31m---------------------------------------------------------------------------\u001b[0m",
      "\u001b[0;31mAttributeError\u001b[0m                            Traceback (most recent call last)",
      "File \u001b[0;32m/cerea_raid/users/dumontj/dev/coco2/dl/eval/presPlot/pres_dft_fill.py:59\u001b[0m, in \u001b[0;36m<module>\u001b[0;34m\u001b[0m\n\u001b[1;32m     47\u001b[0m ds \u001b[38;5;241m=\u001b[39m xr\u001b[38;5;241m.\u001b[39mopen_dataset(path_to_dataset)\n\u001b[1;32m     48\u001b[0m ds_test \u001b[38;5;241m=\u001b[39m ds\u001b[38;5;241m.\u001b[39msel(index_image\u001b[38;5;241m=\u001b[39mdata\u001b[38;5;241m.\u001b[39mlist_test_indices)\n\u001b[1;32m     50\u001b[0m data \u001b[38;5;241m=\u001b[39m {\n\u001b[1;32m     51\u001b[0m     \u001b[38;5;124m\"\u001b[39m\u001b[38;5;124mindex_image\u001b[39m\u001b[38;5;124m\"\u001b[39m: ds_test\u001b[38;5;241m.\u001b[39mindex_image\u001b[38;5;241m.\u001b[39mvalues,\n\u001b[1;32m     52\u001b[0m     \u001b[38;5;124m\"\u001b[39m\u001b[38;5;124mfolder\u001b[39m\u001b[38;5;124m\"\u001b[39m: ds_test\u001b[38;5;241m.\u001b[39mfolder\u001b[38;5;241m.\u001b[39mvalues,\n\u001b[1;32m     53\u001b[0m     \u001b[38;5;124m\"\u001b[39m\u001b[38;5;124mpositivity\u001b[39m\u001b[38;5;124m\"\u001b[39m: ds_test\u001b[38;5;241m.\u001b[39mppresence\u001b[38;5;241m.\u001b[39mvalues,\n\u001b[1;32m     54\u001b[0m     \u001b[38;5;124m\"\u001b[39m\u001b[38;5;124mcropping\u001b[39m\u001b[38;5;124m\"\u001b[39m: (\n\u001b[1;32m     55\u001b[0m         (ds_test\u001b[38;5;241m.\u001b[39mshape_cropping[:, \u001b[38;5;241m3\u001b[39m]\u001b[38;5;241m.\u001b[39mvalues \u001b[38;5;241m-\u001b[39m ds_test\u001b[38;5;241m.\u001b[39mshape_cropping[:, \u001b[38;5;241m2\u001b[39m]\u001b[38;5;241m.\u001b[39mvalues)\n\u001b[1;32m     56\u001b[0m         \u001b[38;5;241m*\u001b[39m (ds_test\u001b[38;5;241m.\u001b[39mshape_cropping[:, \u001b[38;5;241m1\u001b[39m]\u001b[38;5;241m.\u001b[39mvalues \u001b[38;5;241m-\u001b[39m ds_test\u001b[38;5;241m.\u001b[39mshape_cropping[:, \u001b[38;5;241m0\u001b[39m]\u001b[38;5;241m.\u001b[39mvalues)\n\u001b[1;32m     57\u001b[0m     )\n\u001b[1;32m     58\u001b[0m     \u001b[38;5;241m/\u001b[39m (Ny \u001b[38;5;241m*\u001b[39m Nx),\n\u001b[0;32m---> 59\u001b[0m     \u001b[38;5;124m\"\u001b[39m\u001b[38;5;124mcropping_block\u001b[39m\u001b[38;5;124m\"\u001b[39m: \u001b[43m(\u001b[49m\u001b[43mnp\u001b[49m\u001b[38;5;241;43m.\u001b[39;49m\u001b[43mtrunc\u001b[49m\u001b[43m(\u001b[49m\u001b[43m(\u001b[49m\u001b[43m(\u001b[49m\n\u001b[1;32m     60\u001b[0m \u001b[43m        \u001b[49m\u001b[43m(\u001b[49m\u001b[43mds_test\u001b[49m\u001b[38;5;241;43m.\u001b[39;49m\u001b[43mshape_cropping\u001b[49m\u001b[43m[\u001b[49m\u001b[43m:\u001b[49m\u001b[43m,\u001b[49m\u001b[43m \u001b[49m\u001b[38;5;241;43m3\u001b[39;49m\u001b[43m]\u001b[49m\u001b[38;5;241;43m.\u001b[39;49m\u001b[43mvalues\u001b[49m\u001b[43m \u001b[49m\u001b[38;5;241;43m-\u001b[39;49m\u001b[43m \u001b[49m\u001b[43mds_test\u001b[49m\u001b[38;5;241;43m.\u001b[39;49m\u001b[43mshape_cropping\u001b[49m\u001b[43m[\u001b[49m\u001b[43m:\u001b[49m\u001b[43m,\u001b[49m\u001b[43m \u001b[49m\u001b[38;5;241;43m2\u001b[39;49m\u001b[43m]\u001b[49m\u001b[38;5;241;43m.\u001b[39;49m\u001b[43mvalues\u001b[49m\u001b[43m)\u001b[49m\n\u001b[1;32m     61\u001b[0m \u001b[43m        \u001b[49m\u001b[38;5;241;43m*\u001b[39;49m\u001b[43m \u001b[49m\u001b[43m(\u001b[49m\u001b[43mds_test\u001b[49m\u001b[38;5;241;43m.\u001b[39;49m\u001b[43mshape_cropping\u001b[49m\u001b[43m[\u001b[49m\u001b[43m:\u001b[49m\u001b[43m,\u001b[49m\u001b[43m \u001b[49m\u001b[38;5;241;43m1\u001b[39;49m\u001b[43m]\u001b[49m\u001b[38;5;241;43m.\u001b[39;49m\u001b[43mvalues\u001b[49m\u001b[43m \u001b[49m\u001b[38;5;241;43m-\u001b[39;49m\u001b[43m \u001b[49m\u001b[43mds_test\u001b[49m\u001b[38;5;241;43m.\u001b[39;49m\u001b[43mshape_cropping\u001b[49m\u001b[43m[\u001b[49m\u001b[43m:\u001b[49m\u001b[43m,\u001b[49m\u001b[43m \u001b[49m\u001b[38;5;241;43m0\u001b[39;49m\u001b[43m]\u001b[49m\u001b[38;5;241;43m.\u001b[39;49m\u001b[43mvalues\u001b[49m\u001b[43m)\u001b[49m\n\u001b[1;32m     62\u001b[0m \u001b[43m    \u001b[49m\u001b[43m)\u001b[49m\n\u001b[1;32m     63\u001b[0m \u001b[43m    \u001b[49m\u001b[38;5;241;43m/\u001b[39;49m\u001b[43m \u001b[49m\u001b[43m(\u001b[49m\u001b[43mNy\u001b[49m\u001b[43m \u001b[49m\u001b[38;5;241;43m*\u001b[39;49m\u001b[43m \u001b[49m\u001b[43mNx\u001b[49m\u001b[43m)\u001b[49m\u001b[43m)\u001b[49m\u001b[43m \u001b[49m\u001b[38;5;241;43m/\u001b[39;49m\u001b[43m \u001b[49m\u001b[38;5;241;43m4\u001b[39;49m\u001b[43m)\u001b[49m\u001b[43m \u001b[49m\u001b[38;5;241;43m*\u001b[39;49m\u001b[43m \u001b[49m\u001b[38;5;241;43m4\u001b[39;49m\u001b[43m)\u001b[49m\u001b[38;5;241;43m.\u001b[39;49m\u001b[43mvalues\u001b[49m\u001b[38;5;241m.\u001b[39mastype(np\u001b[38;5;241m.\u001b[39mint64),\n\u001b[1;32m     64\u001b[0m     \u001b[38;5;124m\"\u001b[39m\u001b[38;5;124mtime\u001b[39m\u001b[38;5;124m\"\u001b[39m: ds_test\u001b[38;5;241m.\u001b[39mtime\u001b[38;5;241m.\u001b[39mvalues,\n\u001b[1;32m     65\u001b[0m     \u001b[38;5;124m\"\u001b[39m\u001b[38;5;124mpred_pos_perc\u001b[39m\u001b[38;5;124m\"\u001b[39m: np\u001b[38;5;241m.\u001b[39msqueeze(test_predictions),\n\u001b[1;32m     66\u001b[0m     \u001b[38;5;124m\"\u001b[39m\u001b[38;5;124mpred_success\u001b[39m\u001b[38;5;124m\"\u001b[39m: (np\u001b[38;5;241m.\u001b[39msqueeze(np\u001b[38;5;241m.\u001b[39maround(test_predictions)) \u001b[38;5;241m==\u001b[39m y_test),\n\u001b[1;32m     67\u001b[0m     \u001b[38;5;124m\"\u001b[39m\u001b[38;5;124mplume_mean\u001b[39m\u001b[38;5;124m\"\u001b[39m: np\u001b[38;5;241m.\u001b[39msqueeze(np\u001b[38;5;241m.\u001b[39maverage(tt_test, axis\u001b[38;5;241m=\u001b[39m(\u001b[38;5;241m1\u001b[39m, \u001b[38;5;241m2\u001b[39m), weights\u001b[38;5;241m=\u001b[39mtt_test\u001b[38;5;241m.\u001b[39mastype(\u001b[38;5;28mbool\u001b[39m))),\n\u001b[1;32m     68\u001b[0m     \u001b[38;5;124m\"\u001b[39m\u001b[38;5;124mplume_img_cover\u001b[39m\u001b[38;5;124m\"\u001b[39m: np\u001b[38;5;241m.\u001b[39msqueeze(\n\u001b[1;32m     69\u001b[0m         np\u001b[38;5;241m.\u001b[39msum((tt_test \u001b[38;5;241m>\u001b[39m \u001b[38;5;241m1e-5\u001b[39m), axis\u001b[38;5;241m=\u001b[39m(\u001b[38;5;241m1\u001b[39m, \u001b[38;5;241m2\u001b[39m)) \u001b[38;5;241m/\u001b[39m (tt_test\u001b[38;5;241m.\u001b[39mshape[\u001b[38;5;241m1\u001b[39m] \u001b[38;5;241m*\u001b[39m tt_test\u001b[38;5;241m.\u001b[39mshape[\u001b[38;5;241m2\u001b[39m])\n\u001b[1;32m     70\u001b[0m     ),\n\u001b[1;32m     71\u001b[0m     \u001b[38;5;124m\"\u001b[39m\u001b[38;5;124mplume_var\u001b[39m\u001b[38;5;124m\"\u001b[39m: np\u001b[38;5;241m.\u001b[39msqueeze(np\u001b[38;5;241m.\u001b[39maverage(\n\u001b[1;32m     72\u001b[0m         (\n\u001b[1;32m     73\u001b[0m             tt_test\n\u001b[1;32m     74\u001b[0m             \u001b[38;5;241m-\u001b[39m (np\u001b[38;5;241m.\u001b[39maverage(tt_test, axis\u001b[38;5;241m=\u001b[39m(\u001b[38;5;241m1\u001b[39m, \u001b[38;5;241m2\u001b[39m), weights\u001b[38;5;241m=\u001b[39mtt_test\u001b[38;5;241m.\u001b[39mastype(\u001b[38;5;28mbool\u001b[39m)))\u001b[38;5;241m.\u001b[39mreshape(\n\u001b[1;32m     75\u001b[0m                 \u001b[38;5;241m-\u001b[39m\u001b[38;5;241m1\u001b[39m, \u001b[38;5;241m1\u001b[39m, \u001b[38;5;241m1\u001b[39m, \u001b[38;5;241m1\u001b[39m\n\u001b[1;32m     76\u001b[0m             )\n\u001b[1;32m     77\u001b[0m         )\n\u001b[1;32m     78\u001b[0m         \u001b[38;5;241m*\u001b[39m\u001b[38;5;241m*\u001b[39m \u001b[38;5;241m2\u001b[39m,\n\u001b[1;32m     79\u001b[0m         axis\u001b[38;5;241m=\u001b[39m(\u001b[38;5;241m1\u001b[39m, \u001b[38;5;241m2\u001b[39m),\n\u001b[1;32m     80\u001b[0m         weights\u001b[38;5;241m=\u001b[39mtt_test\u001b[38;5;241m.\u001b[39mastype(\u001b[38;5;28mbool\u001b[39m),\n\u001b[1;32m     81\u001b[0m     )),\n\u001b[1;32m     82\u001b[0m     \n\u001b[1;32m     83\u001b[0m     \u001b[38;5;124m\"\u001b[39m\u001b[38;5;124mdist_to_truth\u001b[39m\u001b[38;5;124m\"\u001b[39m: \u001b[38;5;28mabs\u001b[39m(np\u001b[38;5;241m.\u001b[39msqueeze(test_predictions) \u001b[38;5;241m-\u001b[39m y_test),\n\u001b[1;32m     84\u001b[0m \n\u001b[1;32m     85\u001b[0m     \u001b[38;5;124m\"\u001b[39m\u001b[38;5;124mhour\u001b[39m\u001b[38;5;124m\"\u001b[39m: (ds_test\u001b[38;5;241m.\u001b[39mtime \u001b[38;5;241m%\u001b[39m \u001b[38;5;241m24\u001b[39m)\u001b[38;5;241m.\u001b[39mvalues,\n\u001b[1;32m     86\u001b[0m     \u001b[38;5;124m\"\u001b[39m\u001b[38;5;124mhour_block\u001b[39m\u001b[38;5;124m\"\u001b[39m: (np\u001b[38;5;241m.\u001b[39mtrunc((ds_test\u001b[38;5;241m.\u001b[39mtime \u001b[38;5;241m%\u001b[39m \u001b[38;5;241m24\u001b[39m) \u001b[38;5;241m/\u001b[39m \u001b[38;5;241m4\u001b[39m) \u001b[38;5;241m*\u001b[39m \u001b[38;5;241m4\u001b[39m)\u001b[38;5;241m.\u001b[39mvalues\u001b[38;5;241m.\u001b[39mastype(np\u001b[38;5;241m.\u001b[39mint64),\n\u001b[1;32m     87\u001b[0m }\n\u001b[1;32m     89\u001b[0m \u001b[38;5;66;03m# Create DataFrame\u001b[39;00m\n\u001b[1;32m     90\u001b[0m df_test \u001b[38;5;241m=\u001b[39m pd\u001b[38;5;241m.\u001b[39mDataFrame(data)\n",
      "\u001b[0;31mAttributeError\u001b[0m: 'numpy.ndarray' object has no attribute 'values'"
     ]
    }
   ],
   "source": [
    "run pdf_fill.py"
   ]
  },
  {
   "cell_type": "code",
   "execution_count": 155,
   "id": "e48749b0-25a9-423c-8f81-c0db4d7abc1c",
   "metadata": {},
   "outputs": [],
   "source": [
    "from config import *\n"
   ]
  },
  {
   "cell_type": "code",
   "execution_count": null,
   "id": "13a0d8c9-6af5-469d-9cce-e8470b754a96",
   "metadata": {},
   "outputs": [],
   "source": []
  }
 ],
 "metadata": {
  "kernelspec": {
   "display_name": "Python 3 (ipykernel)",
   "language": "python",
   "name": "python3"
  },
  "language_info": {
   "codemirror_mode": {
    "name": "ipython",
    "version": 3
   },
   "file_extension": ".py",
   "mimetype": "text/x-python",
   "name": "python",
   "nbconvert_exporter": "python",
   "pygments_lexer": "ipython3",
   "version": "3.8.13"
  }
 },
 "nbformat": 4,
 "nbformat_minor": 5
}
