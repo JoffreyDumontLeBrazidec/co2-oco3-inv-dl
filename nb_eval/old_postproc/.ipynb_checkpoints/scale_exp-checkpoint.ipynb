{
 "cells": [
  {
   "cell_type": "markdown",
   "id": "223fb8ae-abc6-4565-a95a-fd5a35a8e5eb",
   "metadata": {},
   "source": [
    "### Import lib"
   ]
  },
  {
   "cell_type": "code",
   "execution_count": 84,
   "id": "feb2ab78-1f9d-44a9-b82e-7dfe09aa80cf",
   "metadata": {},
   "outputs": [],
   "source": [
    "import os\n",
    "os.chdir(\"/cerea_raid/users/dumontj/dev/coco2/dl\")\n",
    "import numpy as np\n",
    "import sys\n",
    "import pandas as pd\n",
    "import xarray as xr\n",
    "import tensorflow as tf\n",
    "from tensorflow import keras\n",
    "import keras.backend as K\n",
    "import matplotlib.pyplot as plt\n",
    "import seaborn as sns\n",
    "from treeconfigparser import TreeConfigParser\n",
    "import joblib\n",
    "\n",
    "import models.reg as rg \n",
    "from data.Data import Data"
   ]
  },
  {
   "cell_type": "markdown",
   "id": "86c1fa3f-095f-4206-bd2e-4b8bb8373178",
   "metadata": {
    "tags": []
   },
   "source": [
    "## Download func"
   ]
  },
  {
   "cell_type": "code",
   "execution_count": 72,
   "id": "5756e201-25ec-4c65-8379-e1440fa14a17",
   "metadata": {},
   "outputs": [],
   "source": [
    "path_res = \"/cerea_raid/users/dumontj/dev/coco2/dl/res\""
   ]
  },
  {
   "cell_type": "code",
   "execution_count": 129,
   "id": "19c7b1b4-6ddd-45a5-ae63-233a26b6a584",
   "metadata": {},
   "outputs": [],
   "source": [
    "def get_data_for_reg(ds: str, scaler):\n",
    "    config = TreeConfigParser()\n",
    "    config.readfiles(os.path.join(path_res, ds, \"config.cfg\"))\n",
    "    shuffle_indices = np.fromfile(os.path.join(path_res, ds, \"shuffle_indices.bin\")).astype(np.int64)\n",
    "    data = Data(config, shuffle_indices)\n",
    "    data.prepare_input(scaler)\n",
    "    data.prepare_output()\n",
    "    print(\"xco2 valid mean\", np.mean(data.y.valid[0]))\n",
    "    return data"
   ]
  },
  {
   "cell_type": "code",
   "execution_count": 160,
   "id": "8881b139-0986-4c2f-8f6c-4bd8ee660b28",
   "metadata": {},
   "outputs": [],
   "source": [
    "scaler = get_scaler('/cerea_raid/users/dumontj/dev/coco2/dl/res/reg_pw')"
   ]
  },
  {
   "cell_type": "code",
   "execution_count": 172,
   "id": "a224c97c-61b5-48ad-b148-87e4a3e861d9",
   "metadata": {},
   "outputs": [
    {
     "name": "stdout",
     "output_type": "stream",
     "text": [
      "407.1401 6.244527\n",
      "data.inp.train.shape[0] (3571, 160, 160, 3)\n"
     ]
    }
   ],
   "source": [
    "config = TreeConfigParser()\n",
    "config.readfiles(os.path.join(path_res, 'reg_par', \"config.cfg\"))\n",
    "shuffle_indices = np.fromfile(os.path.join(path_res, 'reg_par', \"shuffle_indices.bin\")).astype(np.int64)\n",
    "data_1 = Data(config, shuffle_indices)\n",
    "data_1.prepare_input(scaler)"
   ]
  },
  {
   "cell_type": "code",
   "execution_count": 169,
   "id": "71a5bbbd-0085-4ad7-8af7-25f9f972a951",
   "metadata": {},
   "outputs": [
    {
     "name": "stdout",
     "output_type": "stream",
     "text": [
      "407.1401\n",
      "data.inp.train.shape[0] (3571, 160, 160, 3)\n"
     ]
    }
   ],
   "source": [
    "data_2 = Data(config, shuffle_indices)\n",
    "data_2.prepare_input()"
   ]
  },
  {
   "cell_type": "code",
   "execution_count": 163,
   "id": "6463f950-656f-482a-b890-747db59a51f2",
   "metadata": {},
   "outputs": [
    {
     "name": "stdout",
     "output_type": "stream",
     "text": [
      "data.inp.train.shape[0] (3571, 160, 160, 3)\n"
     ]
    }
   ],
   "source": [
    "data_3 = Data(config, shuffle_indices)\n",
    "data_3.prepare_input()"
   ]
  },
  {
   "cell_type": "code",
   "execution_count": 171,
   "id": "816fdac6-713d-45ee-a5f1-7e96277b3915",
   "metadata": {},
   "outputs": [
    {
     "name": "stdout",
     "output_type": "stream",
     "text": [
      "402.15048 11.6537075\n",
      "data.inp.train.shape[0] (13748, 160, 160, 3)\n"
     ]
    }
   ],
   "source": [
    "config = TreeConfigParser()\n",
    "config.readfiles(os.path.join(path_res, 'reg_pw', \"config.cfg\"))\n",
    "shuffle_indices = np.fromfile(os.path.join(path_res, 'reg_pw', \"shuffle_indices.bin\")).astype(np.int64)\n",
    "data_4 = Data(config, shuffle_indices)\n",
    "data_4.prepare_input(scaler)"
   ]
  },
  {
   "cell_type": "code",
   "execution_count": 170,
   "id": "52413765-0e12-4063-9ccf-61499a7f614a",
   "metadata": {},
   "outputs": [
    {
     "data": {
      "text/plain": [
       "<matplotlib.legend.Legend at 0x7f0da04d22e0>"
      ]
     },
     "execution_count": 170,
     "metadata": {},
     "output_type": "execute_result"
    },
    {
     "data": {
      "image/png": "[encoded data removed]",
      "text/plain": [
       "<Figure size 432x288 with 1 Axes>"
      ]
     },
     "metadata": {
      "needs_background": "light"
     },
     "output_type": "display_data"
    }
   ],
   "source": [
    "plt.hist(data_1.x.train[0].flatten(), label=\"data_1\", alpha=0.3, density=True)\n",
    "plt.hist(data_2.x.train[0].flatten(), label=\"data_2\", alpha=0.3, density=True)\n",
    "plt.hist(data_3.x.train[0].flatten(), label=\"data_3\", alpha=0.3, density=True)\n",
    "plt.hist(data_4.x.train[0].flatten(), label=\"data_4\", alpha=0.3, density=True)\n",
    "plt.legend()"
   ]
  },
  {
   "cell_type": "code",
   "execution_count": null,
   "id": "85ee15ce-1f47-468d-9df1-9f28130c9b6a",
   "metadata": {},
   "outputs": [],
   "source": []
  },
  {
   "cell_type": "code",
   "execution_count": null,
   "id": "736df098-df39-4342-ae97-de7e4c8f4a0d",
   "metadata": {},
   "outputs": [],
   "source": []
  },
  {
   "cell_type": "code",
   "execution_count": 3,
   "id": "dab66a53-7338-4f7c-a5a9-0d7941511cc4",
   "metadata": {},
   "outputs": [],
   "source": [
    "def get_reg_model(path_w: str, choice=\"best\"):\n",
    "    if choice == \"best\":\n",
    "        print (os.path.join(path_w, \"weights_cp_best.h5\"))\n",
    "        model = keras.models.load_model(os.path.join(path_w, \"weights_cp_best.h5\"), compile=True)\n",
    "    elif choice == \"last\":\n",
    "        model = keras.models.load_model(os.path.join(path_w, \"weights_model.h5\"), compile=True)    \n",
    "    return model\n",
    "\n",
    "def get_scaler(path_w: str):\n",
    "    scaler = joblib.load(os.path.join(path_w, \"scaler.save\"))\n",
    "    return scaler"
   ]
  },
  {
   "cell_type": "code",
   "execution_count": 4,
   "id": "813fed69-47ca-4825-b571-d55d13a45f1b",
   "metadata": {},
   "outputs": [],
   "source": [
    "def eval_ds_with_model(data, model):\n",
    "    x_valid = tf.convert_to_tensor(data.x.valid[0], np.float32)\n",
    "    y_valid = tf.convert_to_tensor(data.y.valid, np.float32)\n",
    "    loss_valid = model.evaluate(x=x_valid, y=y_valid, batch_size=64)\n",
    "    return loss_valid"
   ]
  },
  {
   "cell_type": "code",
   "execution_count": 112,
   "id": "1285a0b9-fbf0-44ca-9be4-c515129c4d44",
   "metadata": {},
   "outputs": [],
   "source": [
    "def eval_ds_with_baseline(data, model):\n",
    "    y_train = tf.convert_to_tensor(data.y.train, np.float32)\n",
    "    mean_train = tf.math.reduce_mean(y_train) * tf.ones_like(y_train, np.float32)\n",
    "    print(mean_train)\n",
    "    loss_baseline = model.compute_loss(y=y_train, y_pred=mean_train).numpy()\n",
    "    return loss_baseline"
   ]
  },
  {
   "cell_type": "markdown",
   "id": "80a93975-1b41-4717-852e-efa7629e58d2",
   "metadata": {},
   "source": [
    "## Make df of results"
   ]
  },
  {
   "cell_type": "markdown",
   "id": "248075c7-f977-4fb4-a51b-095ec7f288b3",
   "metadata": {},
   "source": [
    "### Case choices"
   ]
  },
  {
   "cell_type": "code",
   "execution_count": 74,
   "id": "78ecc6c9-ba76-4331-b8f2-4c1a48d742ee",
   "metadata": {},
   "outputs": [],
   "source": [
    "names_ds = [\"par\", \"ber\", \"pw\"]\n",
    "df_indices_ds = [\"ds_\" + case for case in names_ds]\n",
    "keys_ds = [\"reg_\" + case for case in names_ds]\n",
    "\n",
    "names_w = [\"par\", \"ber\", \"pw\", \"ber_DA\"]\n",
    "df_indices_w = [\"w_\" + case for case in names_w]\n",
    "keys_w = [\"reg_\" + case for case in names_w]"
   ]
  },
  {
   "cell_type": "code",
   "execution_count": 121,
   "id": "4e72d450-24ef-4692-98bb-659624c7ed06",
   "metadata": {},
   "outputs": [
    {
     "name": "stdout",
     "output_type": "stream",
     "text": [
      "/cerea_raid/users/dumontj/dev/coco2/dl/res/reg_par/weights_cp_best.h5\n"
     ]
    },
    {
     "ename": "KeyboardInterrupt",
     "evalue": "",
     "output_type": "error",
     "traceback": [
      "\u001b[0;31m---------------------------------------------------------------------------\u001b[0m",
      "\u001b[0;31mKeyboardInterrupt\u001b[0m                         Traceback (most recent call last)",
      "Input \u001b[0;32mIn [121]\u001b[0m, in \u001b[0;36m<module>\u001b[0;34m\u001b[0m\n\u001b[1;32m      6\u001b[0m scaler \u001b[38;5;241m=\u001b[39m get_scaler(full_path_w)\n\u001b[1;32m      7\u001b[0m \u001b[38;5;28;01mfor\u001b[39;00m df_idx_ds, key_ds \u001b[38;5;129;01min\u001b[39;00m \u001b[38;5;28mzip\u001b[39m(df_indices_ds, keys_ds):\n\u001b[0;32m----> 8\u001b[0m     data \u001b[38;5;241m=\u001b[39m \u001b[43mget_data_for_reg\u001b[49m\u001b[43m(\u001b[49m\u001b[43mkey_ds\u001b[49m\u001b[43m,\u001b[49m\u001b[43m \u001b[49m\u001b[43mscaler\u001b[49m\u001b[43m)\u001b[49m\n\u001b[1;32m      9\u001b[0m     loss_valid \u001b[38;5;241m=\u001b[39m eval_ds_with_model(data, model)\n\u001b[1;32m     10\u001b[0m     df\u001b[38;5;241m.\u001b[39mloc[df_idx_ds, df_idx_w] \u001b[38;5;241m=\u001b[39m loss_valid\n",
      "Input \u001b[0;32mIn [120]\u001b[0m, in \u001b[0;36mget_data_for_reg\u001b[0;34m(ds, scaler)\u001b[0m\n\u001b[1;32m      4\u001b[0m shuffle_indices \u001b[38;5;241m=\u001b[39m np\u001b[38;5;241m.\u001b[39mfromfile(os\u001b[38;5;241m.\u001b[39mpath\u001b[38;5;241m.\u001b[39mjoin(path_res, ds, \u001b[38;5;124m\"\u001b[39m\u001b[38;5;124mshuffle_indices.bin\u001b[39m\u001b[38;5;124m\"\u001b[39m))\u001b[38;5;241m.\u001b[39mastype(np\u001b[38;5;241m.\u001b[39mint64)\n\u001b[1;32m      5\u001b[0m data \u001b[38;5;241m=\u001b[39m Data(config, shuffle_indices)\n\u001b[0;32m----> 6\u001b[0m \u001b[43mdata\u001b[49m\u001b[38;5;241;43m.\u001b[39;49m\u001b[43mprepare_input\u001b[49m\u001b[43m(\u001b[49m\u001b[43mscaler\u001b[49m\u001b[43m)\u001b[49m\n\u001b[1;32m      7\u001b[0m data\u001b[38;5;241m.\u001b[39mprepare_output()\n\u001b[1;32m      8\u001b[0m \u001b[38;5;28;01mreturn\u001b[39;00m(\u001b[38;5;124m\"\u001b[39m\u001b[38;5;124mxco2 valid mean\u001b[39m\u001b[38;5;124m\"\u001b[39m, np\u001b[38;5;241m.\u001b[39mmean(data\u001b[38;5;241m.\u001b[39mx\u001b[38;5;241m.\u001b[39mvalid[\u001b[38;5;241m0\u001b[39m]))\n",
      "File \u001b[0;32m/cerea_raid/users/dumontj/dev/coco2/dl/data/Data.py:223\u001b[0m, in \u001b[0;36mData.prepare_input\u001b[0;34m(self, scaler)\u001b[0m\n\u001b[1;32m    221\u001b[0m \u001b[38;5;124;03m\"\"\"Prepare input object.\"\"\"\u001b[39;00m\n\u001b[1;32m    222\u001b[0m ds \u001b[38;5;241m=\u001b[39m xr\u001b[38;5;241m.\u001b[39mopen_dataset(os\u001b[38;5;241m.\u001b[39mpath\u001b[38;5;241m.\u001b[39mjoin(\u001b[38;5;28mself\u001b[39m\u001b[38;5;241m.\u001b[39mdir_dataset, \u001b[38;5;124m\"\u001b[39m\u001b[38;5;124mdataset.nc\u001b[39m\u001b[38;5;124m\"\u001b[39m))\n\u001b[0;32m--> 223\u001b[0m \u001b[38;5;28mself\u001b[39m\u001b[38;5;241m.\u001b[39mx \u001b[38;5;241m=\u001b[39m \u001b[43mInput\u001b[49m\u001b[43m(\u001b[49m\u001b[43mds\u001b[49m\u001b[43m,\u001b[49m\u001b[43m \u001b[49m\u001b[38;5;28;43mself\u001b[39;49m\u001b[38;5;241;43m.\u001b[39;49m\u001b[43meval_shuffler\u001b[49m\u001b[43m,\u001b[49m\u001b[43m \u001b[49m\u001b[38;5;28;43mself\u001b[39;49m\u001b[38;5;241;43m.\u001b[39;49m\u001b[43mconfig\u001b[49m\u001b[43m,\u001b[49m\u001b[43m \u001b[49m\u001b[43mscaler\u001b[49m\u001b[43m)\u001b[49m\n\u001b[1;32m    225\u001b[0m \u001b[38;5;28mprint\u001b[39m(\u001b[38;5;124m\"\u001b[39m\u001b[38;5;124mdata.inp.train.shape[0]\u001b[39m\u001b[38;5;124m\"\u001b[39m, \u001b[38;5;28mself\u001b[39m\u001b[38;5;241m.\u001b[39mx\u001b[38;5;241m.\u001b[39mtrain[\u001b[38;5;241m0\u001b[39m]\u001b[38;5;241m.\u001b[39mshape)\n",
      "File \u001b[0;32m/cerea_raid/users/dumontj/dev/coco2/dl/data/Data.py:60\u001b[0m, in \u001b[0;36mInput.__init__\u001b[0;34m(self, ds, eval_shuffler, config, scaler)\u001b[0m\n\u001b[1;32m     58\u001b[0m \u001b[38;5;28mself\u001b[39m\u001b[38;5;241m.\u001b[39mscaler \u001b[38;5;241m=\u001b[39m scaler\n\u001b[1;32m     59\u001b[0m xco2 \u001b[38;5;241m=\u001b[39m np\u001b[38;5;241m.\u001b[39mexpand_dims(ds\u001b[38;5;241m.\u001b[39mxco2\u001b[38;5;241m.\u001b[39mvalues, \u001b[38;5;241m-\u001b[39m\u001b[38;5;241m1\u001b[39m)\n\u001b[0;32m---> 60\u001b[0m xco2 \u001b[38;5;241m=\u001b[39m \u001b[38;5;28;43mself\u001b[39;49m\u001b[38;5;241;43m.\u001b[39;49m\u001b[43madd_noise\u001b[49m\u001b[43m(\u001b[49m\n\u001b[1;32m     61\u001b[0m \u001b[43m    \u001b[49m\u001b[43mxco2\u001b[49m\u001b[43m,\u001b[49m\n\u001b[1;32m     62\u001b[0m \u001b[43m    \u001b[49m\u001b[43mconfig\u001b[49m\u001b[38;5;241;43m.\u001b[39;49m\u001b[43mget_bool\u001b[49m\u001b[43m(\u001b[49m\u001b[38;5;124;43m\"\u001b[39;49m\u001b[38;5;124;43mdata.input.xco2.noise.bool\u001b[39;49m\u001b[38;5;124;43m\"\u001b[39;49m\u001b[43m)\u001b[49m\u001b[43m,\u001b[49m\n\u001b[1;32m     63\u001b[0m \u001b[43m    \u001b[49m\u001b[43mconfig\u001b[49m\u001b[38;5;241;43m.\u001b[39;49m\u001b[43mget_float\u001b[49m\u001b[43m(\u001b[49m\u001b[38;5;124;43m\"\u001b[39;49m\u001b[38;5;124;43mdata.input.xco2.noise.level\u001b[39;49m\u001b[38;5;124;43m\"\u001b[39;49m\u001b[43m)\u001b[49m\u001b[43m,\u001b[49m\n\u001b[1;32m     64\u001b[0m \u001b[43m\u001b[49m\u001b[43m)\u001b[49m\n\u001b[1;32m     66\u001b[0m [f_train, f_valid, f_test] \u001b[38;5;241m=\u001b[39m eval_shuffler\u001b[38;5;241m.\u001b[39mtrain_valid_test_split(xco2)\n\u001b[1;32m     67\u001b[0m [f_train, f_valid, f_test] \u001b[38;5;241m=\u001b[39m \u001b[38;5;28mself\u001b[39m\u001b[38;5;241m.\u001b[39mstandardise(f_train, f_valid, f_test)\n",
      "File \u001b[0;32m/cerea_raid/users/dumontj/dev/coco2/dl/data/Data.py:101\u001b[0m, in \u001b[0;36mInput.add_noise\u001b[0;34m(self, xco2, noise_bin, noise_level)\u001b[0m\n\u001b[1;32m     99\u001b[0m \u001b[38;5;124;03m\"\"\"Add 1ppm var noise to xco2 field.\"\"\"\u001b[39;00m\n\u001b[1;32m    100\u001b[0m \u001b[38;5;28;01mif\u001b[39;00m noise_bin:\n\u001b[0;32m--> 101\u001b[0m     noise \u001b[38;5;241m=\u001b[39m noise_level \u001b[38;5;241m*\u001b[39m \u001b[43mnp\u001b[49m\u001b[38;5;241;43m.\u001b[39;49m\u001b[43mrandom\u001b[49m\u001b[38;5;241;43m.\u001b[39;49m\u001b[43mrandn\u001b[49m\u001b[43m(\u001b[49m\u001b[38;5;241;43m*\u001b[39;49m\u001b[43mxco2\u001b[49m\u001b[38;5;241;43m.\u001b[39;49m\u001b[43mshape\u001b[49m\u001b[43m)\u001b[49m\u001b[38;5;241m.\u001b[39mastype(xco2\u001b[38;5;241m.\u001b[39mdtype)\n\u001b[1;32m    102\u001b[0m     xco2 \u001b[38;5;241m=\u001b[39m xco2 \u001b[38;5;241m+\u001b[39m noise\n\u001b[1;32m    103\u001b[0m \u001b[38;5;28;01mreturn\u001b[39;00m xco2\n",
      "\u001b[0;31mKeyboardInterrupt\u001b[0m: "
     ]
    }
   ],
   "source": [
    "df = pd.DataFrame(dict(zip(df_indices_w, [[-1.]*len(names_ds)]*len(names_w))))\n",
    "df.index = index_ds\n",
    "for df_idx_w, key_w in zip(df_indices_w, keys_w):\n",
    "    full_path_w = os.path.join(\"/cerea_raid/users/dumontj/dev/coco2/dl/res\", key_w)\n",
    "    model = get_reg_model(full_path_w)\n",
    "    scaler = get_scaler(full_path_w)\n",
    "    for df_idx_ds, key_ds in zip(df_indices_ds, keys_ds):\n",
    "        data = get_data_for_reg(key_ds, scaler)\n",
    "        loss_valid = eval_ds_with_model(data, model)\n",
    "        df.loc[df_idx_ds, df_idx_w] = loss_valid  "
   ]
  },
  {
   "cell_type": "code",
   "execution_count": null,
   "id": "e69f4064-e22c-47ec-bc5f-71f82422b248",
   "metadata": {},
   "outputs": [],
   "source": [
    "df"
   ]
  },
  {
   "cell_type": "markdown",
   "id": "aaa4c867-39f5-420b-83dc-3f05e57a1373",
   "metadata": {},
   "source": [
    "#### Add baseline"
   ]
  },
  {
   "cell_type": "code",
   "execution_count": 115,
   "id": "fff4c660-449f-4235-b979-63f85764fcdf",
   "metadata": {},
   "outputs": [
    {
     "name": "stdout",
     "output_type": "stream",
     "text": [
      "data.out.train.shape (3571, 1)\n",
      "tf.Tensor(\n",
      "[[29.58639]\n",
      " [29.58639]\n",
      " [29.58639]\n",
      " ...\n",
      " [29.58639]\n",
      " [29.58639]\n",
      " [29.58639]], shape=(3571, 1), dtype=float32)\n",
      "data.out.train.shape (6874, 1)\n",
      "tf.Tensor(\n",
      "[[16.789188]\n",
      " [16.789188]\n",
      " [16.789188]\n",
      " ...\n",
      " [16.789188]\n",
      " [16.789188]\n",
      " [16.789188]], shape=(6874, 1), dtype=float32)\n",
      "data.out.train.shape (13748, 1)\n",
      "tf.Tensor(\n",
      "[[24.294043]\n",
      " [24.294043]\n",
      " [24.294043]\n",
      " ...\n",
      " [24.294043]\n",
      " [24.294043]\n",
      " [24.294043]], shape=(13748, 1), dtype=float32)\n"
     ]
    }
   ],
   "source": [
    "df[\"mean_bl\"] = [-1.]*len(df.index)\n",
    "for df_idx_ds, key_ds in zip(df_indices_ds, keys_ds):\n",
    "    config_file = os.path.join(\"/cerea_raid/users/dumontj/dev/coco2/dl/cfg\", key_ds + \".cfg\")\n",
    "    config = TreeConfigParser()\n",
    "    config.readfiles(config_file)\n",
    "    data = Data(config)\n",
    "    data.prepare_output()\n",
    "    \n",
    "    mean_bl = eval_ds_with_baseline(data, model)\n",
    "    df.loc[df_idx_ds, \"mean_bl\"] = mean_bl"
   ]
  },
  {
   "cell_type": "code",
   "execution_count": 116,
   "id": "515ddc4b-75c6-407b-8622-f59a938cfdf2",
   "metadata": {},
   "outputs": [
    {
     "data": {
      "text/html": [
       "<div>\n",
       "<style scoped>\n",
       "    .dataframe tbody tr th:only-of-type {\n",
       "        vertical-align: middle;\n",
       "    }\n",
       "\n",
       "    .dataframe tbody tr th {\n",
       "        vertical-align: top;\n",
       "    }\n",
       "\n",
       "    .dataframe thead th {\n",
       "        text-align: right;\n",
       "    }\n",
       "</style>\n",
       "<table border=\"1\" class=\"dataframe\">\n",
       "  <thead>\n",
       "    <tr style=\"text-align: right;\">\n",
       "      <th></th>\n",
       "      <th>w_par</th>\n",
       "      <th>w_ber</th>\n",
       "      <th>w_pw</th>\n",
       "      <th>w_ber_DA</th>\n",
       "      <th>mean_bl</th>\n",
       "    </tr>\n",
       "  </thead>\n",
       "  <tbody>\n",
       "    <tr>\n",
       "      <th>ds_par</th>\n",
       "      <td>0.312819</td>\n",
       "      <td>0.623243</td>\n",
       "      <td>0.437430</td>\n",
       "      <td>0.542043</td>\n",
       "      <td>0.345988</td>\n",
       "    </tr>\n",
       "    <tr>\n",
       "      <th>ds_ber</th>\n",
       "      <td>0.585111</td>\n",
       "      <td>0.164860</td>\n",
       "      <td>0.182699</td>\n",
       "      <td>0.144525</td>\n",
       "      <td>0.182187</td>\n",
       "    </tr>\n",
       "    <tr>\n",
       "      <th>ds_pw</th>\n",
       "      <td>0.598102</td>\n",
       "      <td>0.317817</td>\n",
       "      <td>0.045991</td>\n",
       "      <td>0.283893</td>\n",
       "      <td>0.199250</td>\n",
       "    </tr>\n",
       "  </tbody>\n",
       "</table>\n",
       "</div>"
      ],
      "text/plain": [
       "           w_par     w_ber      w_pw  w_ber_DA   mean_bl\n",
       "ds_par  0.312819  0.623243  0.437430  0.542043  0.345988\n",
       "ds_ber  0.585111  0.164860  0.182699  0.144525  0.182187\n",
       "ds_pw   0.598102  0.317817  0.045991  0.283893  0.199250"
      ]
     },
     "execution_count": 116,
     "metadata": {},
     "output_type": "execute_result"
    }
   ],
   "source": [
    "df"
   ]
  },
  {
   "cell_type": "code",
   "execution_count": null,
   "id": "3b7f1b88-3218-4a49-b206-fcae2466c6f3",
   "metadata": {},
   "outputs": [],
   "source": []
  }
 ],
 "metadata": {
  "kernelspec": {
   "display_name": "Python 3 (ipykernel)",
   "language": "python",
   "name": "python3"
  },
  "language_info": {
   "codemirror_mode": {
    "name": "ipython",
    "version": 3
   },
   "file_extension": ".py",
   "mimetype": "text/x-python",
   "name": "python",
   "nbconvert_exporter": "python",
   "pygments_lexer": "ipython3",
   "version": "3.8.13"
  }
 },
 "nbformat": 4,
 "nbformat_minor": 5
}
