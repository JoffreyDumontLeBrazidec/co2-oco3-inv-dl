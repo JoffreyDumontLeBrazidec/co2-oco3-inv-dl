{
 "cells": [
  {
   "cell_type": "markdown",
   "id": "223fb8ae-abc6-4565-a95a-fd5a35a8e5eb",
   "metadata": {},
   "source": [
    "### Import lib"
   ]
  },
  {
   "cell_type": "code",
   "execution_count": 1,
   "id": "feb2ab78-1f9d-44a9-b82e-7dfe09aa80cf",
   "metadata": {},
   "outputs": [
    {
     "name": "stdout",
     "output_type": "stream",
     "text": [
      "Segmentation Models: using `keras` framework.\n"
     ]
    }
   ],
   "source": [
    "import os\n",
    "os.chdir(\"/cerea_raid/users/dumontj/dev/coco2/dl\")\n",
    "import numpy as np\n",
    "import sys\n",
    "import pandas as pd\n",
    "import xarray as xr\n",
    "import tensorflow as tf\n",
    "from tensorflow import keras\n",
    "import keras.backend as K\n",
    "import matplotlib.pyplot as plt\n",
    "import seaborn as sns\n",
    "from treeconfigparser import TreeConfigParser\n",
    "import joblib\n",
    "\n",
    "import models.reg as rg\n",
    "import models.seg as sg\n",
    "from data.Data import Data\n",
    "from include.loss import pixel_weighted_cross_entropy"
   ]
  },
  {
   "cell_type": "markdown",
   "id": "86c1fa3f-095f-4206-bd2e-4b8bb8373178",
   "metadata": {
    "tags": []
   },
   "source": [
    "## Download func"
   ]
  },
  {
   "cell_type": "code",
   "execution_count": 2,
   "id": "5756e201-25ec-4c65-8379-e1440fa14a17",
   "metadata": {},
   "outputs": [],
   "source": [
    "path_res = \"/cerea_raid/users/dumontj/dev/coco2/dl/res\""
   ]
  },
  {
   "cell_type": "code",
   "execution_count": 3,
   "id": "19c7b1b4-6ddd-45a5-ae63-233a26b6a584",
   "metadata": {},
   "outputs": [],
   "source": [
    "def get_data_for_reg(ds: str, scaler):\n",
    "    config = TreeConfigParser()\n",
    "    config.readfiles(os.path.join(path_res, ds, \"config.cfg\"))\n",
    "    shuffle_indices = np.fromfile(os.path.join(path_res, ds, \"shuffle_indices.bin\")).astype(np.int64)\n",
    "    data = Data(config, shuffle_indices)\n",
    "    data.prepare_input(scaler)\n",
    "    data.prepare_output()\n",
    "    print(\"xco2 valid mean\", np.mean(data.y.valid[0]))\n",
    "    return data"
   ]
  },
  {
   "cell_type": "code",
   "execution_count": 4,
   "id": "dab66a53-7338-4f7c-a5a9-0d7941511cc4",
   "metadata": {},
   "outputs": [],
   "source": [
    "def get_model(path_w: str):\n",
    "    model = keras.models.load_model(os.path.join(path_w, \"weights_cp_best.h5\"), compile=True)\n",
    "    return model\n",
    "\n",
    "def get_scaler(path_w: str):\n",
    "    scaler = joblib.load(os.path.join(path_w, \"scaler.save\"))\n",
    "    return scaler"
   ]
  },
  {
   "cell_type": "code",
   "execution_count": 5,
   "id": "813fed69-47ca-4825-b571-d55d13a45f1b",
   "metadata": {},
   "outputs": [],
   "source": [
    "def eval_ds_with_model(data, model):\n",
    "    x_valid = tf.convert_to_tensor(data.x.valid[0], np.float32)\n",
    "    y_valid = tf.convert_to_tensor(data.y.valid, np.float32)\n",
    "    loss_valid = model.evaluate(x=x_valid, y=y_valid, batch_size=64)\n",
    "    return loss_valid"
   ]
  },
  {
   "cell_type": "code",
   "execution_count": 6,
   "id": "1285a0b9-fbf0-44ca-9be4-c515129c4d44",
   "metadata": {},
   "outputs": [],
   "source": [
    "def eval_ds_with_baseline(data, model):\n",
    "    y_train = tf.convert_to_tensor(data.y.train, np.float32)\n",
    "    mean_train = tf.math.reduce_mean(y_train) * tf.ones_like(y_train, np.float32)\n",
    "    loss_baseline = model.compute_loss(y=y_train, y_pred=mean_train).numpy()\n",
    "    return loss_baseline"
   ]
  },
  {
   "cell_type": "markdown",
   "id": "248075c7-f977-4fb4-a51b-095ec7f288b3",
   "metadata": {},
   "source": [
    "### Case choices"
   ]
  },
  {
   "cell_type": "markdown",
   "id": "d29a6b43-b03a-4173-91bd-394a1a220322",
   "metadata": {},
   "source": [
    "### REG basic"
   ]
  },
  {
   "cell_type": "code",
   "execution_count": 7,
   "id": "78ecc6c9-ba76-4331-b8f2-4c1a48d742ee",
   "metadata": {},
   "outputs": [],
   "source": [
    "names_ds = [\"par\", \"ber\", \"pw\"]\n",
    "df_indices_ds = [\"ds_\" + case for case in names_ds]\n",
    "keys_ds = [\"reg_\" + case for case in names_ds]\n",
    "\n",
    "names_w = [\"par\", \"ber\", \"pw\", \"ber_DA\"]\n",
    "df_indices_w = [\"w_\" + case for case in names_w]\n",
    "keys_w = [\"reg_\" + case for case in names_w]"
   ]
  },
  {
   "cell_type": "markdown",
   "id": "35190aa0-6605-421f-9012-3e9d2ef6bb01",
   "metadata": {},
   "source": [
    "### REG advanced"
   ]
  },
  {
   "cell_type": "code",
   "execution_count": 12,
   "id": "6be24121-9c93-45fa-90a3-1edff4f29b50",
   "metadata": {},
   "outputs": [],
   "source": [
    "names_ds = [\"ber\", \"PGIPW\", \"PGIPP_DA\"]\n",
    "df_indices_ds = [\"ds_\" + case for case in names_ds]\n",
    "keys_ds = [\"reg_\" + case for case in names_ds]\n",
    "\n",
    "names_w = [\"ber\", \"ber_DA\", \"PGIPW\", \"PGIPW_DA\", \"PGIPW_DA2\", \"PGIPP_DA\", \"PGIPW_DA_save\"]\n",
    "df_indices_w = [\"w_\" + case for case in names_w]\n",
    "keys_w = [\"reg_\" + case for case in names_w]"
   ]
  },
  {
   "cell_type": "markdown",
   "id": "d84eff66-e307-46e5-8340-10da669bd742",
   "metadata": {},
   "source": [
    "### Make df of results"
   ]
  },
  {
   "cell_type": "code",
   "execution_count": 13,
   "id": "4e72d450-24ef-4692-98bb-659624c7ed06",
   "metadata": {},
   "outputs": [
    {
     "name": "stdout",
     "output_type": "stream",
     "text": [
      "mean, var xco2 402.0588 11.44273\n",
      "data.inp.train.shape[0] (5595, 160, 160, 3)\n",
      "data.out.train.shape (5595, 1)\n",
      "xco2 valid mean 15.61718\n",
      "34/34 [==============================] - 2s 45ms/step - loss: 0.0608\n",
      "mean, var xco2 402.8727 13.941546\n",
      "data.inp.train.shape[0] (24194, 160, 160, 3)\n",
      "data.out.train.shape (24194, 1)\n",
      "xco2 valid mean 15.69222\n",
      "95/95 [==============================] - 4s 46ms/step - loss: 0.2925\n"
     ]
    },
    {
     "ename": "FileNotFoundError",
     "evalue": "[Errno 2] No such file or directory: Path('/cerea_raid/users/dumontj/dev/coco2/dl/res/reg_PGIPP/config.cfg')",
     "output_type": "error",
     "traceback": [
      "\u001b[0;31m---------------------------------------------------------------------------\u001b[0m",
      "\u001b[0;31mFileNotFoundError\u001b[0m                         Traceback (most recent call last)",
      "Input \u001b[0;32mIn [13]\u001b[0m, in \u001b[0;36m<module>\u001b[0;34m\u001b[0m\n\u001b[1;32m      6\u001b[0m scaler \u001b[38;5;241m=\u001b[39m get_scaler(full_path_w)\n\u001b[1;32m      7\u001b[0m \u001b[38;5;28;01mfor\u001b[39;00m df_idx_ds, key_ds \u001b[38;5;129;01min\u001b[39;00m \u001b[38;5;28mzip\u001b[39m(df_indices_ds, keys_ds):\n\u001b[0;32m----> 8\u001b[0m     data \u001b[38;5;241m=\u001b[39m \u001b[43mget_data_for_reg\u001b[49m\u001b[43m(\u001b[49m\u001b[43mkey_ds\u001b[49m\u001b[43m,\u001b[49m\u001b[43m \u001b[49m\u001b[43mscaler\u001b[49m\u001b[43m)\u001b[49m\n\u001b[1;32m      9\u001b[0m     loss_valid \u001b[38;5;241m=\u001b[39m eval_ds_with_model(data, model)\n\u001b[1;32m     10\u001b[0m     df\u001b[38;5;241m.\u001b[39mloc[df_idx_ds, df_idx_w] \u001b[38;5;241m=\u001b[39m loss_valid\n",
      "Input \u001b[0;32mIn [3]\u001b[0m, in \u001b[0;36mget_data_for_reg\u001b[0;34m(ds, scaler)\u001b[0m\n\u001b[1;32m      1\u001b[0m \u001b[38;5;28;01mdef\u001b[39;00m \u001b[38;5;21mget_data_for_reg\u001b[39m(ds: \u001b[38;5;28mstr\u001b[39m, scaler):\n\u001b[1;32m      2\u001b[0m     config \u001b[38;5;241m=\u001b[39m TreeConfigParser()\n\u001b[0;32m----> 3\u001b[0m     \u001b[43mconfig\u001b[49m\u001b[38;5;241;43m.\u001b[39;49m\u001b[43mreadfiles\u001b[49m\u001b[43m(\u001b[49m\u001b[43mos\u001b[49m\u001b[38;5;241;43m.\u001b[39;49m\u001b[43mpath\u001b[49m\u001b[38;5;241;43m.\u001b[39;49m\u001b[43mjoin\u001b[49m\u001b[43m(\u001b[49m\u001b[43mpath_res\u001b[49m\u001b[43m,\u001b[49m\u001b[43m \u001b[49m\u001b[43mds\u001b[49m\u001b[43m,\u001b[49m\u001b[43m \u001b[49m\u001b[38;5;124;43m\"\u001b[39;49m\u001b[38;5;124;43mconfig.cfg\u001b[39;49m\u001b[38;5;124;43m\"\u001b[39;49m\u001b[43m)\u001b[49m\u001b[43m)\u001b[49m\n\u001b[1;32m      4\u001b[0m     shuffle_indices \u001b[38;5;241m=\u001b[39m np\u001b[38;5;241m.\u001b[39mfromfile(os\u001b[38;5;241m.\u001b[39mpath\u001b[38;5;241m.\u001b[39mjoin(path_res, ds, \u001b[38;5;124m\"\u001b[39m\u001b[38;5;124mshuffle_indices.bin\u001b[39m\u001b[38;5;124m\"\u001b[39m))\u001b[38;5;241m.\u001b[39mastype(np\u001b[38;5;241m.\u001b[39mint64)\n\u001b[1;32m      5\u001b[0m     data \u001b[38;5;241m=\u001b[39m Data(config, shuffle_indices)\n",
      "File \u001b[0;32m~/tools/python/treeconfigparser.py:92\u001b[0m, in \u001b[0;36mTreeConfigParser.readfiles\u001b[0;34m(self, file_names)\u001b[0m\n\u001b[1;32m     90\u001b[0m \u001b[38;5;28;01mdef\u001b[39;00m \u001b[38;5;21mreadfiles\u001b[39m(\u001b[38;5;28mself\u001b[39m, file_names):\n\u001b[1;32m     91\u001b[0m     \u001b[38;5;66;03m# read files\u001b[39;00m\n\u001b[0;32m---> 92\u001b[0m     \u001b[38;5;28;43mself\u001b[39;49m\u001b[38;5;241;43m.\u001b[39;49m\u001b[43mm_tree\u001b[49m\u001b[38;5;241;43m.\u001b[39;49m\u001b[43mreadfiles\u001b[49m\u001b[43m(\u001b[49m\u001b[43mfile_names\u001b[49m\u001b[43m,\u001b[49m\u001b[43m \u001b[49m\u001b[38;5;28;43mself\u001b[39;49m\u001b[38;5;241;43m.\u001b[39;49m\u001b[43mm_comment_char\u001b[49m\u001b[43m,\u001b[49m\u001b[43m \u001b[49m\u001b[38;5;28;43mself\u001b[39;49m\u001b[38;5;241;43m.\u001b[39;49m\u001b[43mm_reference_char\u001b[49m\u001b[43m)\u001b[49m\n",
      "File \u001b[0;32m~/tools/python/tree.py:282\u001b[0m, in \u001b[0;36mTree.readfiles\u001b[0;34m(self, t_file_names, t_comment_char, t_reference_char)\u001b[0m\n\u001b[1;32m    280\u001b[0m imports \u001b[38;5;241m=\u001b[39m []\n\u001b[1;32m    281\u001b[0m \u001b[38;5;28;01mfor\u001b[39;00m file_name \u001b[38;5;129;01min\u001b[39;00m t_file_names:\n\u001b[0;32m--> 282\u001b[0m     imports\u001b[38;5;241m.\u001b[39mextend(\u001b[38;5;28;43mself\u001b[39;49m\u001b[38;5;241;43m.\u001b[39;49m\u001b[43mreadfile\u001b[49m\u001b[43m(\u001b[49m\u001b[43mPath\u001b[49m\u001b[43m(\u001b[49m\u001b[43mfile_name\u001b[49m\u001b[43m)\u001b[49m\u001b[43m,\u001b[49m\u001b[43m \u001b[49m\u001b[43m[\u001b[49m\u001b[43m]\u001b[49m\u001b[43m,\u001b[49m\u001b[43m \u001b[49m\u001b[43mt_comment_char\u001b[49m\u001b[43m)\u001b[49m)\n\u001b[1;32m    284\u001b[0m \u001b[38;5;66;03m# solve imports\u001b[39;00m\n\u001b[1;32m    285\u001b[0m \u001b[38;5;28;01mwhile\u001b[39;00m imports:\n",
      "File \u001b[0;32m~/tools/python/tree.py:224\u001b[0m, in \u001b[0;36mTree.readfile\u001b[0;34m(self, t_file_name, t_file_hierarchy, t_comment_char)\u001b[0m\n\u001b[1;32m    222\u001b[0m     \u001b[38;5;28;01mraise\u001b[39;00m LoopImportError\n\u001b[1;32m    223\u001b[0m t_file_hierarchy\u001b[38;5;241m.\u001b[39mappend(t_file_name\u001b[38;5;241m.\u001b[39mabspath())\n\u001b[0;32m--> 224\u001b[0m lines \u001b[38;5;241m=\u001b[39m \u001b[43mt_file_name\u001b[49m\u001b[38;5;241;43m.\u001b[39;49m\u001b[43mlines\u001b[49m\u001b[43m(\u001b[49m\u001b[43mretain\u001b[49m\u001b[43m \u001b[49m\u001b[38;5;241;43m=\u001b[39;49m\u001b[43m \u001b[49m\u001b[38;5;28;43;01mFalse\u001b[39;49;00m\u001b[43m)\u001b[49m\n\u001b[1;32m    225\u001b[0m \u001b[38;5;28;01mreturn\u001b[39;00m \u001b[38;5;28mself\u001b[39m\u001b[38;5;241m.\u001b[39mreadlines(lines, t_file_hierarchy, t_comment_char)\n",
      "File \u001b[0;32m/cerea_raid/users/dumontj/usr/anaconda3/envs/tf-gpu/lib/python3.8/site-packages/path/__init__.py:758\u001b[0m, in \u001b[0;36mPath.lines\u001b[0;34m(self, encoding, errors, retain)\u001b[0m\n\u001b[1;32m    741\u001b[0m \u001b[38;5;28;01mdef\u001b[39;00m \u001b[38;5;21mlines\u001b[39m(\u001b[38;5;28mself\u001b[39m, encoding\u001b[38;5;241m=\u001b[39m\u001b[38;5;28;01mNone\u001b[39;00m, errors\u001b[38;5;241m=\u001b[39m\u001b[38;5;28;01mNone\u001b[39;00m, retain\u001b[38;5;241m=\u001b[39m\u001b[38;5;28;01mTrue\u001b[39;00m):\n\u001b[1;32m    742\u001b[0m     \u001b[38;5;124mr\u001b[39m\u001b[38;5;124;03m\"\"\"Open this file, read all lines, return them in a list.\u001b[39;00m\n\u001b[1;32m    743\u001b[0m \n\u001b[1;32m    744\u001b[0m \u001b[38;5;124;03m    Optional arguments:\u001b[39;00m\n\u001b[0;32m   (...)\u001b[0m\n\u001b[1;32m    756\u001b[0m \u001b[38;5;124;03m    .. seealso:: :meth:`text`\u001b[39;00m\n\u001b[1;32m    757\u001b[0m \u001b[38;5;124;03m    \"\"\"\u001b[39;00m\n\u001b[0;32m--> 758\u001b[0m     text \u001b[38;5;241m=\u001b[39m U_NEWLINE\u001b[38;5;241m.\u001b[39msub(\u001b[38;5;124m'\u001b[39m\u001b[38;5;130;01m\\n\u001b[39;00m\u001b[38;5;124m'\u001b[39m, \u001b[38;5;28;43mself\u001b[39;49m\u001b[38;5;241;43m.\u001b[39;49m\u001b[43mread_text\u001b[49m\u001b[43m(\u001b[49m\u001b[43mencoding\u001b[49m\u001b[43m,\u001b[49m\u001b[43m \u001b[49m\u001b[43merrors\u001b[49m\u001b[43m)\u001b[49m)\n\u001b[1;32m    759\u001b[0m     \u001b[38;5;28;01mreturn\u001b[39;00m text\u001b[38;5;241m.\u001b[39msplitlines(retain)\n",
      "File \u001b[0;32m/cerea_raid/users/dumontj/usr/anaconda3/envs/tf-gpu/lib/python3.8/site-packages/path/__init__.py:651\u001b[0m, in \u001b[0;36mPath.read_text\u001b[0;34m(self, encoding, errors)\u001b[0m\n\u001b[1;32m    644\u001b[0m \u001b[38;5;28;01mdef\u001b[39;00m \u001b[38;5;21mread_text\u001b[39m(\u001b[38;5;28mself\u001b[39m, encoding\u001b[38;5;241m=\u001b[39m\u001b[38;5;28;01mNone\u001b[39;00m, errors\u001b[38;5;241m=\u001b[39m\u001b[38;5;28;01mNone\u001b[39;00m):\n\u001b[1;32m    645\u001b[0m     \u001b[38;5;124mr\u001b[39m\u001b[38;5;124;03m\"\"\"Open this file, read it in, return the content as a string.\u001b[39;00m\n\u001b[1;32m    646\u001b[0m \n\u001b[1;32m    647\u001b[0m \u001b[38;5;124;03m    Optional parameters are passed to :meth:`open`.\u001b[39;00m\n\u001b[1;32m    648\u001b[0m \n\u001b[1;32m    649\u001b[0m \u001b[38;5;124;03m    .. seealso:: :meth:`lines`\u001b[39;00m\n\u001b[1;32m    650\u001b[0m \u001b[38;5;124;03m    \"\"\"\u001b[39;00m\n\u001b[0;32m--> 651\u001b[0m     \u001b[38;5;28;01mwith\u001b[39;00m \u001b[38;5;28;43mself\u001b[39;49m\u001b[38;5;241;43m.\u001b[39;49m\u001b[43mopen\u001b[49m\u001b[43m(\u001b[49m\u001b[43mencoding\u001b[49m\u001b[38;5;241;43m=\u001b[39;49m\u001b[43mencoding\u001b[49m\u001b[43m,\u001b[49m\u001b[43m \u001b[49m\u001b[43merrors\u001b[49m\u001b[38;5;241;43m=\u001b[39;49m\u001b[43merrors\u001b[49m\u001b[43m)\u001b[49m \u001b[38;5;28;01mas\u001b[39;00m f:\n\u001b[1;32m    652\u001b[0m         \u001b[38;5;28;01mreturn\u001b[39;00m f\u001b[38;5;241m.\u001b[39mread()\n",
      "File \u001b[0;32m/cerea_raid/users/dumontj/usr/anaconda3/envs/tf-gpu/lib/python3.8/site-packages/path/__init__.py:610\u001b[0m, in \u001b[0;36mPath.open\u001b[0;34m(self, *args, **kwargs)\u001b[0m\n\u001b[1;32m    604\u001b[0m \u001b[38;5;28;01mdef\u001b[39;00m \u001b[38;5;21mopen\u001b[39m(\u001b[38;5;28mself\u001b[39m, \u001b[38;5;241m*\u001b[39margs, \u001b[38;5;241m*\u001b[39m\u001b[38;5;241m*\u001b[39mkwargs):\n\u001b[1;32m    605\u001b[0m     \u001b[38;5;124;03m\"\"\"Open this file and return a corresponding file object.\u001b[39;00m\n\u001b[1;32m    606\u001b[0m \n\u001b[1;32m    607\u001b[0m \u001b[38;5;124;03m    Keyword arguments work as in :func:`io.open`.  If the file cannot be\u001b[39;00m\n\u001b[1;32m    608\u001b[0m \u001b[38;5;124;03m    opened, an :class:`OSError` is raised.\u001b[39;00m\n\u001b[1;32m    609\u001b[0m \u001b[38;5;124;03m    \"\"\"\u001b[39;00m\n\u001b[0;32m--> 610\u001b[0m     \u001b[38;5;28;01mreturn\u001b[39;00m \u001b[43mio\u001b[49m\u001b[38;5;241;43m.\u001b[39;49m\u001b[43mopen\u001b[49m\u001b[43m(\u001b[49m\u001b[38;5;28;43mself\u001b[39;49m\u001b[43m,\u001b[49m\u001b[43m \u001b[49m\u001b[38;5;241;43m*\u001b[39;49m\u001b[43margs\u001b[49m\u001b[43m,\u001b[49m\u001b[43m \u001b[49m\u001b[38;5;241;43m*\u001b[39;49m\u001b[38;5;241;43m*\u001b[39;49m\u001b[43mkwargs\u001b[49m\u001b[43m)\u001b[49m\n",
      "\u001b[0;31mFileNotFoundError\u001b[0m: [Errno 2] No such file or directory: Path('/cerea_raid/users/dumontj/dev/coco2/dl/res/reg_PGIPP/config.cfg')"
     ]
    }
   ],
   "source": [
    "df = pd.DataFrame(dict(zip(df_indices_w, [[-1.]*len(names_ds)]*len(names_w))))\n",
    "df.index = df_indices_ds\n",
    "for df_idx_w, key_w in zip(df_indices_w, keys_w):\n",
    "    full_path_w = os.path.join(\"/cerea_raid/users/dumontj/dev/coco2/dl/res\", key_w)\n",
    "    model = get_model(full_path_w)\n",
    "    scaler = get_scaler(full_path_w)\n",
    "    for df_idx_ds, key_ds in zip(df_indices_ds, keys_ds):\n",
    "        data = get_data_for_reg(key_ds, scaler)\n",
    "        loss_valid = eval_ds_with_model(data, model)\n",
    "        df.loc[df_idx_ds, df_idx_w] = loss_valid  "
   ]
  },
  {
   "cell_type": "code",
   "execution_count": null,
   "id": "b5ab8718-7507-4c38-a609-bbcf8e2db0c3",
   "metadata": {},
   "outputs": [],
   "source": [
    "df"
   ]
  },
  {
   "cell_type": "code",
   "execution_count": 14,
   "id": "e69f4064-e22c-47ec-bc5f-71f82422b248",
   "metadata": {},
   "outputs": [
    {
     "data": {
      "text/html": [
       "<div>\n",
       "<style scoped>\n",
       "    .dataframe tbody tr th:only-of-type {\n",
       "        vertical-align: middle;\n",
       "    }\n",
       "\n",
       "    .dataframe tbody tr th {\n",
       "        vertical-align: top;\n",
       "    }\n",
       "\n",
       "    .dataframe thead th {\n",
       "        text-align: right;\n",
       "    }\n",
       "</style>\n",
       "<table border=\"1\" class=\"dataframe\">\n",
       "  <thead>\n",
       "    <tr style=\"text-align: right;\">\n",
       "      <th></th>\n",
       "      <th>w_ber</th>\n",
       "      <th>w_ber_DA</th>\n",
       "      <th>w_PGIPW</th>\n",
       "      <th>w_PGIPW_DA</th>\n",
       "      <th>w_PGIPW_DA2</th>\n",
       "    </tr>\n",
       "  </thead>\n",
       "  <tbody>\n",
       "    <tr>\n",
       "      <th>ds_ber</th>\n",
       "      <td>0.164924</td>\n",
       "      <td>0.059262</td>\n",
       "      <td>0.211345</td>\n",
       "      <td>0.189556</td>\n",
       "      <td>0.157331</td>\n",
       "    </tr>\n",
       "    <tr>\n",
       "      <th>ds_PGIPW</th>\n",
       "      <td>0.298534</td>\n",
       "      <td>0.295204</td>\n",
       "      <td>0.080281</td>\n",
       "      <td>0.039498</td>\n",
       "      <td>0.071498</td>\n",
       "    </tr>\n",
       "  </tbody>\n",
       "</table>\n",
       "</div>"
      ],
      "text/plain": [
       "             w_ber  w_ber_DA   w_PGIPW  w_PGIPW_DA  w_PGIPW_DA2\n",
       "ds_ber    0.164924  0.059262  0.211345    0.189556     0.157331\n",
       "ds_PGIPW  0.298534  0.295204  0.080281    0.039498     0.071498"
      ]
     },
     "execution_count": 14,
     "metadata": {},
     "output_type": "execute_result"
    }
   ],
   "source": [
    "df"
   ]
  },
  {
   "cell_type": "markdown",
   "id": "aaa4c867-39f5-420b-83dc-3f05e57a1373",
   "metadata": {},
   "source": [
    "#### Add baseline"
   ]
  },
  {
   "cell_type": "code",
   "execution_count": 15,
   "id": "fff4c660-449f-4235-b979-63f85764fcdf",
   "metadata": {},
   "outputs": [
    {
     "name": "stdout",
     "output_type": "stream",
     "text": [
      "data.out.train.shape (6874, 1)\n",
      "data.out.train.shape (24194, 1)\n"
     ]
    }
   ],
   "source": [
    "df[\"mean_bl\"] = [-1.]*len(df.index)\n",
    "for df_idx_ds, key_ds in zip(df_indices_ds, keys_ds):\n",
    "    config_file = os.path.join(\"/cerea_raid/users/dumontj/dev/coco2/dl/cfg\", key_ds + \".cfg\")\n",
    "    config = TreeConfigParser()\n",
    "    config.readfiles(config_file)\n",
    "    data = Data(config)\n",
    "    data.prepare_output()\n",
    "    \n",
    "    mean_bl = eval_ds_with_baseline(data, model)\n",
    "    df.loc[df_idx_ds, \"mean_bl\"] = mean_bl"
   ]
  },
  {
   "cell_type": "code",
   "execution_count": 16,
   "id": "515ddc4b-75c6-407b-8622-f59a938cfdf2",
   "metadata": {},
   "outputs": [
    {
     "data": {
      "text/html": [
       "<div>\n",
       "<style scoped>\n",
       "    .dataframe tbody tr th:only-of-type {\n",
       "        vertical-align: middle;\n",
       "    }\n",
       "\n",
       "    .dataframe tbody tr th {\n",
       "        vertical-align: top;\n",
       "    }\n",
       "\n",
       "    .dataframe thead th {\n",
       "        text-align: right;\n",
       "    }\n",
       "</style>\n",
       "<table border=\"1\" class=\"dataframe\">\n",
       "  <thead>\n",
       "    <tr style=\"text-align: right;\">\n",
       "      <th></th>\n",
       "      <th>w_ber</th>\n",
       "      <th>w_ber_DA</th>\n",
       "      <th>w_PGIPW</th>\n",
       "      <th>w_PGIPW_DA</th>\n",
       "      <th>w_PGIPW_DA2</th>\n",
       "      <th>mean_bl</th>\n",
       "    </tr>\n",
       "  </thead>\n",
       "  <tbody>\n",
       "    <tr>\n",
       "      <th>ds_ber</th>\n",
       "      <td>0.164924</td>\n",
       "      <td>0.059262</td>\n",
       "      <td>0.211345</td>\n",
       "      <td>0.189556</td>\n",
       "      <td>0.157331</td>\n",
       "      <td>0.185153</td>\n",
       "    </tr>\n",
       "    <tr>\n",
       "      <th>ds_PGIPW</th>\n",
       "      <td>0.298534</td>\n",
       "      <td>0.295204</td>\n",
       "      <td>0.080281</td>\n",
       "      <td>0.039498</td>\n",
       "      <td>0.071498</td>\n",
       "      <td>0.189505</td>\n",
       "    </tr>\n",
       "  </tbody>\n",
       "</table>\n",
       "</div>"
      ],
      "text/plain": [
       "             w_ber  w_ber_DA   w_PGIPW  w_PGIPW_DA  w_PGIPW_DA2   mean_bl\n",
       "ds_ber    0.164924  0.059262  0.211345    0.189556     0.157331  0.185153\n",
       "ds_PGIPW  0.298534  0.295204  0.080281    0.039498     0.071498  0.189505"
      ]
     },
     "execution_count": 16,
     "metadata": {},
     "output_type": "execute_result"
    }
   ],
   "source": [
    "df"
   ]
  },
  {
   "cell_type": "code",
   "execution_count": null,
   "id": "3b7f1b88-3218-4a49-b206-fcae2466c6f3",
   "metadata": {},
   "outputs": [],
   "source": []
  }
 ],
 "metadata": {
  "kernelspec": {
   "display_name": "Python 3 (ipykernel)",
   "language": "python",
   "name": "python3"
  },
  "language_info": {
   "codemirror_mode": {
    "name": "ipython",
    "version": 3
   },
   "file_extension": ".py",
   "mimetype": "text/x-python",
   "name": "python",
   "nbconvert_exporter": "python",
   "pygments_lexer": "ipython3",
   "version": "3.8.13"
  }
 },
 "nbformat": 4,
 "nbformat_minor": 5
}
