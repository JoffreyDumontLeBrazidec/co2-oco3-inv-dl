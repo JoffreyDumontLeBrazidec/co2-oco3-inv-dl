{
 "cells": [
  {
   "cell_type": "code",
   "execution_count": 1,
   "id": "8b312d54-4f58-4688-8117-e300d09e54f7",
   "metadata": {},
   "outputs": [],
   "source": [
    "%load_ext tensorboard"
   ]
  },
  {
   "cell_type": "markdown",
   "id": "a88dfa22-255c-40ee-b120-8dfdbb2a1534",
   "metadata": {},
   "source": [
    "### Might need to kill tensorboard launched on port 8081 before "
   ]
  },
  {
   "cell_type": "code",
   "execution_count": 15,
   "id": "9e8ab027-fd6d-4aec-a9f4-c0466e8f521d",
   "metadata": {},
   "outputs": [],
   "source": [
    "!kill 3666796"
   ]
  },
  {
   "cell_type": "code",
   "execution_count": 2,
   "id": "63eef7ed-fc01-4df5-a6eb-cc120e4c2a59",
   "metadata": {},
   "outputs": [
    {
     "data": {
      "text/html": [
       "\n",
       "      <iframe id=\"tensorboard-frame-a99895e542149f3c\" width=\"100%\" height=\"800\" frameborder=\"0\">\n",
       "      </iframe>\n",
       "      <script>\n",
       "        (function() {\n",
       "          const frame = document.getElementById(\"tensorboard-frame-a99895e542149f3c\");\n",
       "          const url = new URL(\"/\", window.location);\n",
       "          const port = 8082;\n",
       "          if (port) {\n",
       "            url.port = port;\n",
       "          }\n",
       "          frame.src = url;\n",
       "        })();\n",
       "      </script>\n",
       "    "
      ],
      "text/plain": [
       "<IPython.core.display.HTML object>"
      ]
     },
     "metadata": {},
     "output_type": "display_data"
    }
   ],
   "source": [
    "%tensorboard --logdir logs/chaintest_2_20220426-185022// --port=8082"
   ]
  },
  {
   "cell_type": "code",
   "execution_count": null,
   "id": "6ca277db-2972-478b-846c-9bbdd876d629",
   "metadata": {},
   "outputs": [],
   "source": []
  }
 ],
 "metadata": {
  "kernelspec": {
   "display_name": "Python 3 (ipykernel)",
   "language": "python",
   "name": "python3"
  },
  "language_info": {
   "codemirror_mode": {
    "name": "ipython",
    "version": 3
   },
   "file_extension": ".py",
   "mimetype": "text/x-python",
   "name": "python",
   "nbconvert_exporter": "python",
   "pygments_lexer": "ipython3",
   "version": "3.8.13"
  }
 },
 "nbformat": 4,
 "nbformat_minor": 5
}
