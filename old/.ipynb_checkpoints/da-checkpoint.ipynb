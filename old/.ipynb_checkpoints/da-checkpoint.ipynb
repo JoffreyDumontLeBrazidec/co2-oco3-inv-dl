{
 "cells": [
  {
   "cell_type": "code",
   "execution_count": null,
   "id": "c0d1e1e6-2e1e-4c7a-a9ee-1e9c0308d2f7",
   "metadata": {},
   "outputs": [
    {
     "name": "stdout",
     "output_type": "stream",
     "text": [
      "Prepare data...\n",
      "data.inp.train.shape[0] (24194, 160, 160, 3)\n",
      "data.out.train.shape (24194, 1)\n",
      "Build model...\n"
     ]
    },
    {
     "name": "stderr",
     "output_type": "stream",
     "text": [
      "2022-06-21 18:02:53.800380: I tensorflow/core/platform/cpu_feature_guard.cc:151] This TensorFlow binary is optimized with oneAPI Deep Neural Network Library (oneDNN) to use the following CPU instructions in performance-critical operations:  AVX2 AVX512F FMA\n",
      "To enable them in other operations, rebuild TensorFlow with the appropriate compiler flags.\n",
      "2022-06-21 18:02:54.292725: I tensorflow/core/common_runtime/gpu/gpu_device.cc:1525] Created device /job:localhost/replica:0/task:0/device:GPU:0 with 13797 MB memory:  -> device: 0, name: Tesla T4, pci bus id: 0000:3b:00.0, compute capability: 7.5\n"
     ]
    },
    {
     "name": "stdout",
     "output_type": "stream",
     "text": [
      "Build trainer and saver...\n",
      "Epoch 1/15\n"
     ]
    },
    {
     "name": "stderr",
     "output_type": "stream",
     "text": [
      "2022-06-21 18:03:02.317771: I tensorflow/stream_executor/cuda/cuda_dnn.cc:368] Loaded cuDNN version 8202\n",
      "2022-06-21 18:03:02.840451: I tensorflow/core/platform/default/subprocess.cc:304] Start cannot spawn child process: No such file or directory\n"
     ]
    },
    {
     "name": "stdout",
     "output_type": "stream",
     "text": [
      "757/757 [==============================] - 142s 176ms/step - loss: 0.8161 - val_loss: 5.7562\n",
      "Epoch 2/15\n",
      "300/757 [==========>...................] - ETA: 1:14 - loss: 0.5534"
     ]
    }
   ],
   "source": [
    "run main cfg/reg_PGIBPW.cfg"
   ]
  },
  {
   "cell_type": "code",
   "execution_count": null,
   "id": "cc82e5e9-da08-457c-82aa-4a740012b8e8",
   "metadata": {},
   "outputs": [],
   "source": []
  }
 ],
 "metadata": {
  "kernelspec": {
   "display_name": "Python 3 (ipykernel)",
   "language": "python",
   "name": "python3"
  },
  "language_info": {
   "codemirror_mode": {
    "name": "ipython",
    "version": 3
   },
   "file_extension": ".py",
   "mimetype": "text/x-python",
   "name": "python",
   "nbconvert_exporter": "python",
   "pygments_lexer": "ipython3",
   "version": "3.8.13"
  }
 },
 "nbformat": 4,
 "nbformat_minor": 5
}
