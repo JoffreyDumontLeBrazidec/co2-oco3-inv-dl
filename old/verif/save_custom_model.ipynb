{
 "cells": [
  {
   "cell_type": "code",
   "execution_count": 2,
   "id": "7a8cb0f7-ba20-4117-bd35-3b1089b23d9e",
   "metadata": {},
   "outputs": [],
   "source": [
    "%load_ext lab_black"
   ]
  },
  {
   "cell_type": "code",
   "execution_count": 3,
   "id": "f7babd22-b278-4616-a9c9-c1b7aab48de9",
   "metadata": {
    "tags": []
   },
   "outputs": [
    {
     "name": "stderr",
     "output_type": "stream",
     "text": [
      "2023-12-05 17:30:44.846777: E tensorflow/compiler/xla/stream_executor/cuda/cuda_dnn.cc:9342] Unable to register cuDNN factory: Attempting to register factory for plugin cuDNN when one has already been registered\n",
      "2023-12-05 17:30:44.846816: E tensorflow/compiler/xla/stream_executor/cuda/cuda_fft.cc:609] Unable to register cuFFT factory: Attempting to register factory for plugin cuFFT when one has already been registered\n",
      "2023-12-05 17:30:44.846838: E tensorflow/compiler/xla/stream_executor/cuda/cuda_blas.cc:1518] Unable to register cuBLAS factory: Attempting to register factory for plugin cuBLAS when one has already been registered\n",
      "2023-12-05 17:30:44.853633: I tensorflow/core/platform/cpu_feature_guard.cc:182] This TensorFlow binary is optimized to use available CPU instructions in performance-critical operations.\n",
      "To enable the following instructions: AVX2 AVX512F FMA, in other operations, rebuild TensorFlow with the appropriate compiler flags.\n",
      "\u001b[34m\u001b[1mwandb\u001b[0m: \u001b[32m\u001b[41mERROR\u001b[0m Unable to patch Tensorflow/Keras\n",
      "exception while trying to patch_tf_keras\n",
      "Traceback (most recent call last):\n",
      "  File \"/profils_cerea/dumontj/mambaforge/envs/gpu/lib/python3.9/site-packages/wandb/integration/keras/keras.py\", line 86, in patch_tf_keras\n",
      "    from keras.engine import training\n",
      "ModuleNotFoundError: No module named 'keras.engine'\n",
      "\u001b[34m\u001b[1mwandb\u001b[0m: \u001b[32m\u001b[41mERROR\u001b[0m Unable to patch Tensorflow/Keras\n",
      "exception while trying to patch_tf_keras\n",
      "Traceback (most recent call last):\n",
      "  File \"/profils_cerea/dumontj/mambaforge/envs/gpu/lib/python3.9/site-packages/wandb/integration/keras/keras.py\", line 86, in patch_tf_keras\n",
      "    from keras.engine import training\n",
      "ModuleNotFoundError: No module named 'keras.engine'\n",
      "\u001b[34m\u001b[1mwandb\u001b[0m: \u001b[32m\u001b[41mERROR\u001b[0m Unable to patch Tensorflow/Keras\n",
      "exception while trying to patch_tf_keras\n",
      "Traceback (most recent call last):\n",
      "  File \"/profils_cerea/dumontj/mambaforge/envs/gpu/lib/python3.9/site-packages/wandb/integration/keras/keras.py\", line 86, in patch_tf_keras\n",
      "    from keras.engine import training\n",
      "ModuleNotFoundError: No module named 'keras.engine'\n"
     ]
    },
    {
     "data": {
      "text/plain": [
       "<Figure size 1920x1440 with 0 Axes>"
      ]
     },
     "metadata": {},
     "output_type": "display_data"
    }
   ],
   "source": [
    "import os\n",
    "\n",
    "os.chdir(\"/cerea_raid/users/dumontj/dev/coco2/inv\")\n",
    "import numpy as np\n",
    "import sys\n",
    "import pandas as pd\n",
    "import xarray as xr\n",
    "import tensorflow as tf\n",
    "from tensorflow import keras\n",
    "from dataclasses import dataclass, field\n",
    "from sklearn import preprocessing\n",
    "import matplotlib.pyplot as plt\n",
    "import seaborn as sns\n",
    "from icecream import ic\n",
    "import matplotlib_functions\n",
    "from mpl_toolkits.axes_grid1 import make_axes_locatable\n",
    "from models.my_efficientnet import EfficientNet\n",
    "from models.my_essential_inversors import (\n",
    "    essential_regressor,\n",
    "    essential_regressor_2,\n",
    "    essential_regressor_3,\n",
    "    linear_regressor,\n",
    ")\n",
    "from models.my_mobilenet import MobileNet\n",
    "from models.my_shufflenet import ShuffleNet\n",
    "from models.my_squeezenet import SqueezeNet\n",
    "from models.preprocessing import CloudsLayer, ConditionalNoiseLayer\n",
    "\n",
    "import include.callbacks as callbacks\n",
    "import include.generators as generators\n",
    "import include.loss as loss\n",
    "import include.optimisers as optimisers\n",
    "import models.seg as sm\n",
    "from Data import Data_train\n",
    "from models.preprocessing import CloudsLayer\n",
    "from saver import Saver\n",
    "import logging\n",
    "import sys\n",
    "from model_training import Trainer\n",
    "\n",
    "import hydra\n",
    "import wandb\n",
    "from omegaconf import DictConfig, OmegaConf\n",
    "\n",
    "from include.callbacks import initiate_wb\n",
    "from model_training import Model_training_manager\n",
    "\n",
    "from typing import List, Optional\n",
    "\n",
    "matplotlib_functions.setMatplotlibParam()\n",
    "plt.viridis()\n",
    "import joblib\n",
    "import pickle\n",
    "from include.generators import Generator\n",
    "from saver import Saver\n",
    "from include.callbacks import get_modelcheckpoint, ExtraValidation\n",
    "\n",
    "import model_eval\n",
    "from Data import Data_train, Data_eval\n",
    "import wandb\n",
    "from wandb.keras import WandbCallback, WandbMetricsLogger\n",
    "import models.reg as rm\n",
    "\n",
    "import hydra\n",
    "from hydra import initialize, compose\n",
    "from omegaconf import OmegaConf"
   ]
  },
  {
   "cell_type": "code",
   "execution_count": 4,
   "id": "c6232eeb-677f-4128-ac4c-601b7789d311",
   "metadata": {},
   "outputs": [],
   "source": [
    "from models.preprocessing import (\n",
    "    ConditionalNoiseLayer,\n",
    "    CloudsLayer,\n",
    "    TrainingTimeNormalization,\n",
    ")"
   ]
  },
  {
   "cell_type": "markdown",
   "id": "b5f310c0-eb3b-4073-877a-4edad2106ad6",
   "metadata": {
    "jp-MarkdownHeadingCollapsed": true,
    "tags": []
   },
   "source": [
    "# First test"
   ]
  },
  {
   "cell_type": "code",
   "execution_count": 24,
   "id": "60cf6e8a-9f41-473a-b33a-a16262642661",
   "metadata": {},
   "outputs": [],
   "source": [
    "norm_layer = TrainingTimeNormalization(axis=-1, name=\"preproc_norm\")\n",
    "cloud_layer = CloudsLayer()\n",
    "noise_layer = ConditionalNoiseLayer([True, False, False])"
   ]
  },
  {
   "cell_type": "code",
   "execution_count": 25,
   "id": "76cfaee4-0ad7-4af1-9114-9292b2a7f466",
   "metadata": {},
   "outputs": [],
   "source": [
    "inputs = tf.keras.layers.Input([64, 64, 3], name=\"input_layer\")\n",
    "x = cloud_layer(inputs)\n",
    "x = noise_layer(x)\n",
    "outputs = norm_layer(x)\n",
    "\n",
    "model = tf.keras.Model(inputs, outputs)"
   ]
  },
  {
   "cell_type": "code",
   "execution_count": 26,
   "id": "dbf09746-bcae-4045-9a3f-1838a0cc3ce2",
   "metadata": {},
   "outputs": [],
   "source": [
    "model.save(\"test.keras\")"
   ]
  },
  {
   "cell_type": "code",
   "execution_count": 28,
   "id": "3c0d52df-3f07-47d7-932c-e3a96e46c7ee",
   "metadata": {},
   "outputs": [],
   "source": [
    "model = tf.keras.models.load_model(\n",
    "    \"test.keras\",\n",
    "    custom_objects={\n",
    "        \"TrainingTimeNormalization\": TrainingTimeNormalization(\n",
    "            axis=-1, name=\"preproc_norm\"\n",
    "        ),\n",
    "        \"CloudsLayer\": CloudsLayer(),\n",
    "        \"ConditionalNoiseLayer\": ConditionalNoiseLayer([True, False, False]),\n",
    "    },\n",
    "    compile=False,\n",
    ")"
   ]
  },
  {
   "cell_type": "code",
   "execution_count": 29,
   "id": "d617fbc4-2c4a-410e-93fe-3c5f350fed55",
   "metadata": {},
   "outputs": [
    {
     "name": "stdout",
     "output_type": "stream",
     "text": [
      "Model: \"model_3\"\n",
      "_________________________________________________________________\n",
      " Layer (type)                Output Shape              Param #   \n",
      "=================================================================\n",
      " input_layer (InputLayer)    [(None, 64, 64, 3)]       0         \n",
      "                                                                 \n",
      " clouds_layer_4 (CloudsLaye  (None, 64, 64, 3)         0         \n",
      " r)                                                              \n",
      "                                                                 \n",
      " conditional_noise_layer_1   (None, 64, 64, 3)         0         \n",
      " (ConditionalNoiseLayer)                                         \n",
      "                                                                 \n",
      " preproc_norm (TrainingTime  (None, 64, 64, 3)         0         \n",
      " Normalization)                                                  \n",
      "                                                                 \n",
      "=================================================================\n",
      "Total params: 0 (0.00 Byte)\n",
      "Trainable params: 0 (0.00 Byte)\n",
      "Non-trainable params: 0 (0.00 Byte)\n",
      "_________________________________________________________________\n"
     ]
    }
   ],
   "source": [
    "model.summary()"
   ]
  },
  {
   "cell_type": "markdown",
   "id": "3f9caf15-5825-4531-8aef-a667a8f46eba",
   "metadata": {
    "jp-MarkdownHeadingCollapsed": true,
    "tags": []
   },
   "source": [
    "# Second test"
   ]
  },
  {
   "cell_type": "code",
   "execution_count": 4,
   "id": "89374baa-11aa-4b69-ae36-4ecf45a62147",
   "metadata": {},
   "outputs": [],
   "source": [
    "import models.reg as rm"
   ]
  },
  {
   "cell_type": "code",
   "execution_count": 5,
   "id": "cc8ae56e-5b0b-496a-ad7b-9fbd4ac5a419",
   "metadata": {},
   "outputs": [],
   "source": [
    "model_builder = rm.Reg_model_builder()"
   ]
  },
  {
   "cell_type": "code",
   "execution_count": 6,
   "id": "256d9beb-f1c9-4f7d-b9b6-134792474652",
   "metadata": {},
   "outputs": [],
   "source": [
    "model = model_builder.get_model()"
   ]
  },
  {
   "cell_type": "code",
   "execution_count": 7,
   "id": "517c8cf2-678e-4f15-a1da-a39377329d50",
   "metadata": {},
   "outputs": [],
   "source": [
    "model.save(\"test.keras\")"
   ]
  },
  {
   "cell_type": "code",
   "execution_count": 8,
   "id": "3792b964-f297-4120-9d97-ba0586d41485",
   "metadata": {},
   "outputs": [],
   "source": [
    "model = tf.keras.models.load_model(\n",
    "    \"test.keras\",\n",
    "    custom_objects={\n",
    "        \"TrainingTimeNormalization\": TrainingTimeNormalization(\n",
    "            axis=-1, name=\"preproc_norm\"\n",
    "        ),\n",
    "        \"CloudsLayer\": CloudsLayer(),\n",
    "        \"ConditionalNoiseLayer\": ConditionalNoiseLayer([True, False, False]),\n",
    "    },\n",
    "    compile=False,\n",
    ")"
   ]
  },
  {
   "cell_type": "markdown",
   "id": "6a17c554-4cc3-42d6-ac88-ba636c3fdc64",
   "metadata": {
    "tags": []
   },
   "source": [
    "# Third test"
   ]
  },
  {
   "cell_type": "code",
   "execution_count": 5,
   "id": "65f46f58-0828-44ae-bc17-0018f6c9817a",
   "metadata": {},
   "outputs": [
    {
     "name": "stdout",
     "output_type": "stream",
     "text": [
      "data:\n",
      "  init:\n",
      "    _target_: Data.Data_train\n",
      "    path_train_ds: ${data.path.directory}/${data.path.train.name}/${data.path.train.nc}\n",
      "    path_valid_ds: ${data.path.directory}/${data.path.valid.name}/${data.path.valid.nc}\n",
      "    path_extra_valid_ds: ${data.path.directory}/${data.path.extra_valid.name}/${data.path.extra_valid.nc}\n",
      "  input:\n",
      "    dir_seg_models: /cerea_raid/users/dumontj/dev/coco2/dl/res/models\n",
      "    chan_0: xco2\n",
      "    chan_1: v_wind\n",
      "    chan_2: u_wind\n",
      "    chan_3: no2\n",
      "    chan_4: None\n",
      "    clouds: true\n",
      "    path_clouds_array: /libre/dumontj/coco2/dl-input/clouds/extracted_clouds.npy\n",
      "  output:\n",
      "    N_emissions: 1\n",
      "  path:\n",
      "    directory: /libre/dumontj/coco2/dl-input\n",
      "    train:\n",
      "      name: 2km_Lip\n",
      "      nc: valid_dataset.nc\n",
      "    valid:\n",
      "      name: 2km_Lip\n",
      "      nc: valid_dataset.nc\n",
      "    extra_valid:\n",
      "      name: 2km_Lip\n",
      "      nc: valid_dataset.nc\n",
      "dir_res: /libre/dumontj/coco2/weights/new/\n",
      "exp_name: inv_lip\n",
      "seed: 42\n",
      "sweep: true\n",
      "model:\n",
      "  type: inversion\n",
      "  name: essential\n",
      "  loss_func: MeanAbsoluteError\n",
      "  dropout_rate: 0.2\n",
      "  scaling_coefficient: 1\n",
      "training:\n",
      "  batch_size: 32\n",
      "  learning_rate: 0.001\n",
      "  max_epochs: 10\n",
      "  init_weights: random\n",
      "  optimiser: adam\n",
      "augmentations:\n",
      "  shuffle: true\n",
      "  rot:\n",
      "    range: 180\n",
      "  shift:\n",
      "    range: 0\n",
      "  flip:\n",
      "    bool: true\n",
      "  shear:\n",
      "    range: 90\n",
      "  zoom:\n",
      "    range: 0.2\n",
      "  plume_scaling_max: 2\n",
      "  plume_scaling_min: 0.25\n",
      "callbacks:\n",
      "  model_checkpoint:\n",
      "    __target__: true\n",
      "  learning_rate_monitor:\n",
      "    __target__: true\n",
      "    factor: 0.5\n",
      "    patience: 20\n",
      "    min_delta: 0.005\n",
      "    min_lr: 5.0e-05\n",
      "    cooldown: 0\n",
      "  wandb:\n",
      "    __target__: true\n",
      "\n"
     ]
    }
   ],
   "source": [
    "# Compose the configuration\n",
    "cfg = compose(\n",
    "    config_name=\"config\",\n",
    "    overrides=[\n",
    "        \"training.max_epochs=10\",\n",
    "        \"+experiment=inv_lip\",\n",
    "        \"data.path.train.name=2km_Lip\",\n",
    "        \"data.path.train.nc=valid_dataset.nc\",\n",
    "        \"data.path.valid.name=2km_Lip\",\n",
    "    ],\n",
    ")\n",
    "\n",
    "# Print the configuration\n",
    "print(OmegaConf.to_yaml(cfg))"
   ]
  },
  {
   "cell_type": "code",
   "execution_count": 6,
   "id": "1c05a215-05a0-4f8f-b122-7f473c16f332",
   "metadata": {},
   "outputs": [
    {
     "name": "stderr",
     "output_type": "stream",
     "text": [
      "\u001b[34m\u001b[1mwandb\u001b[0m: Currently logged in as: \u001b[33mjoffreydumont\u001b[0m (\u001b[33mcerea-daml\u001b[0m). Use \u001b[1m`wandb login --relogin`\u001b[0m to force relogin\n"
     ]
    },
    {
     "data": {
      "text/html": [
       "wandb version 0.16.0 is available!  To upgrade, please run:\n",
       " $ pip install wandb --upgrade"
      ],
      "text/plain": [
       "<IPython.core.display.HTML object>"
      ]
     },
     "metadata": {},
     "output_type": "display_data"
    },
    {
     "data": {
      "text/html": [
       "Tracking run with wandb version 0.13.7"
      ],
      "text/plain": [
       "<IPython.core.display.HTML object>"
      ]
     },
     "metadata": {},
     "output_type": "display_data"
    },
    {
     "data": {
      "text/html": [
       "Run data is saved locally in <code>/cerea_raid/users/dumontj/dev/coco2/inv/wandb/run-20231205_173055-22l15w7x</code>"
      ],
      "text/plain": [
       "<IPython.core.display.HTML object>"
      ]
     },
     "metadata": {},
     "output_type": "display_data"
    },
    {
     "data": {
      "text/html": [
       "Syncing run <strong><a href=\"https://wandb.ai/cerea-daml/inv_lip/runs/22l15w7x\" target=\"_blank\">inv</a></strong> to <a href=\"https://wandb.ai/cerea-daml/inv_lip\" target=\"_blank\">Weights & Biases</a> (<a href=\"https://wandb.me/run\" target=\"_blank\">docs</a>)<br/>"
      ],
      "text/plain": [
       "<IPython.core.display.HTML object>"
      ]
     },
     "metadata": {},
     "output_type": "display_data"
    },
    {
     "name": "stdout",
     "output_type": "stream",
     "text": [
      "/libre/dumontj/coco2/dl-input/2km_Lip/valid_dataset.nc\n"
     ]
    },
    {
     "name": "stderr",
     "output_type": "stream",
     "text": [
      "2023-12-05 17:30:57.628009: I tensorflow/core/common_runtime/gpu/gpu_device.cc:1886] Created device /job:localhost/replica:0/task:0/device:GPU:0 with 14628 MB memory:  -> device: 0, name: Quadro RTX 5000, pci bus id: 0000:65:00.0, compute capability: 7.5\n",
      "2023-12-05 17:30:58.290256: I tensorflow/tsl/platform/default/subprocess.cc:304] Start cannot spawn child process: No such file or directory\n",
      "ic| self.train.shape: (1152, 64, 64, 4)\n",
      "\u001b[34m\u001b[1mwandb\u001b[0m: \u001b[33mWARNING\u001b[0m The save_model argument by default saves the model in the HDF5 format that cannot save custom objects like subclassed models and custom layers. This behavior will be deprecated in a future release in favor of the SavedModel format. Meanwhile, the HDF5 model is saved as W&B files and the SavedModel as W&B Artifacts.\n"
     ]
    }
   ],
   "source": [
    "initiate_wb(cfg)\n",
    "model_trainer = Model_training_manager(cfg)"
   ]
  },
  {
   "cell_type": "code",
   "execution_count": 7,
   "id": "60226fdb-073c-48ee-b966-46684d6371b0",
   "metadata": {},
   "outputs": [],
   "source": [
    "model = model_trainer.model\n",
    "data = model_trainer.data"
   ]
  },
  {
   "cell_type": "code",
   "execution_count": 8,
   "id": "addce6ba-0b5a-4c94-8b7f-69973b92bcd0",
   "metadata": {},
   "outputs": [],
   "source": [
    "model.save(\"test.keras\")"
   ]
  },
  {
   "cell_type": "code",
   "execution_count": 10,
   "id": "5271bfd9-d8dd-42f7-8312-10624340c275",
   "metadata": {},
   "outputs": [],
   "source": [
    "model = tf.keras.models.load_model(\n",
    "    \"test.keras\",\n",
    "    custom_objects={\n",
    "        \"TrainingTimeNormalization\": TrainingTimeNormalization(\n",
    "            axis=-1, name=\"preproc_norm\"\n",
    "        ),\n",
    "        \"CloudsLayer\": CloudsLayer(),\n",
    "        \"ConditionalNoiseLayer\": ConditionalNoiseLayer([True, False, False]),\n",
    "    },\n",
    "    compile=False,\n",
    ")"
   ]
  },
  {
   "cell_type": "code",
   "execution_count": 11,
   "id": "5f5d7b6c-ddba-4287-ab44-fa5c0cd61105",
   "metadata": {},
   "outputs": [
    {
     "data": {
      "text/plain": [
       "<keras.src.engine.functional.Functional at 0x7f95b242b100>"
      ]
     },
     "execution_count": 11,
     "metadata": {},
     "output_type": "execute_result"
    },
    {
     "name": "stderr",
     "output_type": "stream",
     "text": [
      "wandb: Waiting for W&B process to finish... (success).\n"
     ]
    }
   ],
   "source": [
    "tf.keras.models.load_model(\n",
    "    \"test.keras\",\n",
    "    custom_objects={\n",
    "        \"ConditionalNoiseLayer\": ConditionalNoiseLayer(\n",
    "            model_trainer.data.x.xco2_noisy_chans\n",
    "        ),\n",
    "        \"CloudsLayer\": CloudsLayer(\n",
    "            model_trainer.data.x.clouds_training, model_trainer.data.x.cloudy_chans\n",
    "        ),\n",
    "        \"TrainingTimeNormalization\": TrainingTimeNormalization(\n",
    "            axis=-1, name=\"preproc_norm\"\n",
    "        ),\n",
    "    },\n",
    "    compile=False,\n",
    ")"
   ]
  },
  {
   "cell_type": "code",
   "execution_count": null,
   "id": "728011ee-5043-4bf7-89eb-0f7f4a150b3f",
   "metadata": {},
   "outputs": [],
   "source": []
  },
  {
   "cell_type": "code",
   "execution_count": null,
   "id": "4a5df29c-859c-4b43-8ce7-e70a01f2b983",
   "metadata": {},
   "outputs": [],
   "source": []
  },
  {
   "cell_type": "markdown",
   "id": "da582424-fac7-4ed9-96e1-0e970de02290",
   "metadata": {},
   "source": [
    "# Fourth test"
   ]
  },
  {
   "cell_type": "code",
   "execution_count": 13,
   "id": "67d92ddc-95c6-40f3-b135-9146ed4dcbe7",
   "metadata": {},
   "outputs": [],
   "source": [
    "class TrainingTimeNormalization(tf.keras.layers.Layer):\n",
    "    def __init__(self, axis=-1, **kwargs):\n",
    "        super(TrainingTimeNormalization, self).__init__(**kwargs)\n",
    "        self.normalization = tf.keras.layers.Normalization(axis=axis)\n",
    "\n",
    "    def build(self, input_shape):\n",
    "        \"\"\"Build the normalization layer.\"\"\"\n",
    "        self.normalization.build(input_shape)\n",
    "\n",
    "    def adapt(self, data):\n",
    "        \"\"\"Adapts the normalization layer to the data.\"\"\"\n",
    "        self.normalization.adapt(data)\n",
    "\n",
    "    def call(self, x, training=None):\n",
    "        \"\"\"Apply or skip normalization based on the training flag.\"\"\"\n",
    "        if training:\n",
    "            return self.normalization(x)\n",
    "        else:\n",
    "            return x\n",
    "\n",
    "    def compute_output_shape(self, input_shape):\n",
    "        \"\"\"Compute the output shape of the layer.\"\"\"\n",
    "        return input_shape"
   ]
  },
  {
   "cell_type": "code",
   "execution_count": 49,
   "id": "ac714660-e793-4d42-b97b-945f9edc7500",
   "metadata": {},
   "outputs": [],
   "source": [
    "class TrainingTimeNormalization(tf.keras.layers.Layer):\n",
    "    \"\"\"Normalisation layer.\"\"\"\n",
    "\n",
    "    def __init__(self, axis=-1, **kwargs):\n",
    "        super().__init__(**kwargs)\n",
    "        self.normalization = tf.keras.layers.Normalization(axis=axis)\n",
    "\n",
    "    def build(self, input_shape):\n",
    "        \"\"\"Build the normalization layer.\"\"\"\n",
    "        self.normalization.build(input_shape)\n",
    "\n",
    "    def adapt(self, data):\n",
    "        self.normalization.adapt(data)\n",
    "\n",
    "    def call(self, x, training=None):\n",
    "        if training:\n",
    "            normalised_x = self.normalization(x)\n",
    "            return normalised_x\n",
    "        else:\n",
    "            return x"
   ]
  },
  {
   "cell_type": "code",
   "execution_count": 50,
   "id": "9ec0a639-d644-4478-802c-d402141a6d20",
   "metadata": {},
   "outputs": [],
   "source": [
    "norm_layer = TrainingTimeNormalization(axis=-1, name=\"preproc_norm\")"
   ]
  },
  {
   "cell_type": "code",
   "execution_count": 51,
   "id": "c697ef6a-44c6-4cda-91e5-dee455bb2c02",
   "metadata": {},
   "outputs": [],
   "source": [
    "data = np.random.random((100, 64, 64, 3))\n",
    "norm_layer.adapt(data)"
   ]
  },
  {
   "cell_type": "code",
   "execution_count": 52,
   "id": "6dac2d71-1a0b-4db0-a8c8-1179d420f873",
   "metadata": {},
   "outputs": [],
   "source": [
    "inputs = tf.keras.layers.Input([64, 64, 3], name=\"input_layer\")\n",
    "outputs = norm_layer(inputs)\n",
    "\n",
    "model = tf.keras.Model(inputs, outputs)"
   ]
  },
  {
   "cell_type": "code",
   "execution_count": 53,
   "id": "fe38a144-afd8-419a-9c40-ee9265f193e5",
   "metadata": {},
   "outputs": [],
   "source": [
    "model.save(\"test.keras\")"
   ]
  },
  {
   "cell_type": "code",
   "execution_count": 54,
   "id": "05a885cb-6871-4454-80bd-4a153380e8b4",
   "metadata": {},
   "outputs": [],
   "source": [
    "model = tf.keras.models.load_model(\n",
    "    \"test.keras\",\n",
    "    custom_objects={\n",
    "        \"TrainingTimeNormalization\": TrainingTimeNormalization(\n",
    "            axis=-1, name=\"preproc_norm\"\n",
    "        ),\n",
    "        \"CloudsLayer\": CloudsLayer(),\n",
    "        \"ConditionalNoiseLayer\": ConditionalNoiseLayer([True, False, False]),\n",
    "    },\n",
    "    compile=False,\n",
    ")"
   ]
  },
  {
   "cell_type": "code",
   "execution_count": 55,
   "id": "4a6dba5e-edb2-4794-a471-962fc5579c22",
   "metadata": {},
   "outputs": [
    {
     "name": "stdout",
     "output_type": "stream",
     "text": [
      "Model: \"model_7\"\n",
      "_________________________________________________________________\n",
      " Layer (type)                Output Shape              Param #   \n",
      "=================================================================\n",
      " input_layer (InputLayer)    [(None, 64, 64, 3)]       0         \n",
      "                                                                 \n",
      " preproc_norm (TrainingTime  (None, 64, 64, 3)         7         \n",
      " Normalization)                                                  \n",
      "                                                                 \n",
      "=================================================================\n",
      "Total params: 7 (32.00 Byte)\n",
      "Trainable params: 0 (0.00 Byte)\n",
      "Non-trainable params: 7 (32.00 Byte)\n",
      "_________________________________________________________________\n"
     ]
    }
   ],
   "source": [
    "model.summary()"
   ]
  },
  {
   "cell_type": "code",
   "execution_count": null,
   "id": "06494590-a6f7-4f8a-9ea6-ea7e415415f1",
   "metadata": {},
   "outputs": [],
   "source": []
  },
  {
   "cell_type": "code",
   "execution_count": 4,
   "id": "5b9f5239-435e-4227-b604-13b03c3b2c46",
   "metadata": {},
   "outputs": [
    {
     "ename": "NameError",
     "evalue": "name 'model_trainer' is not defined",
     "output_type": "error",
     "traceback": [
      "\u001b[0;31m---------------------------------------------------------------------------\u001b[0m",
      "\u001b[0;31mNameError\u001b[0m                                 Traceback (most recent call last)",
      "Cell \u001b[0;32mIn[4], line 2\u001b[0m\n\u001b[1;32m      1\u001b[0m norm_layer \u001b[38;5;241m=\u001b[39m TrainingTimeNormalization(axis\u001b[38;5;241m=\u001b[39m\u001b[38;5;241m-\u001b[39m\u001b[38;5;241m1\u001b[39m, name\u001b[38;5;241m=\u001b[39m\u001b[38;5;124m\"\u001b[39m\u001b[38;5;124mpreproc_norm\u001b[39m\u001b[38;5;124m\"\u001b[39m)\n\u001b[0;32m----> 2\u001b[0m norm_layer\u001b[38;5;241m.\u001b[39madapt(\u001b[43mmodel_trainer\u001b[49m\u001b[38;5;241m.\u001b[39mdata\u001b[38;5;241m.\u001b[39mx\u001b[38;5;241m.\u001b[39mtrain)\n",
      "\u001b[0;31mNameError\u001b[0m: name 'model_trainer' is not defined"
     ]
    }
   ],
   "source": [
    "        norm_layer = TrainingTimeNormalization(axis=-1, name=\"preproc_norm\")\n",
    "        norm_layer.adapt(model_trainer.data.x.train)"
   ]
  },
  {
   "cell_type": "code",
   "execution_count": null,
   "id": "b00b2103-3361-46c5-b0e7-775e7148576d",
   "metadata": {},
   "outputs": [],
   "source": []
  },
  {
   "cell_type": "code",
   "execution_count": null,
   "id": "b229c145-811d-45d8-b38c-4591c70b2d75",
   "metadata": {},
   "outputs": [],
   "source": []
  },
  {
   "cell_type": "code",
   "execution_count": null,
   "id": "33d96170-ab89-4abb-8d06-5ba1c6d589c9",
   "metadata": {},
   "outputs": [],
   "source": []
  },
  {
   "cell_type": "code",
   "execution_count": null,
   "id": "c21ad356-6b46-4b36-b595-5d0d57bf4c53",
   "metadata": {},
   "outputs": [],
   "source": []
  },
  {
   "cell_type": "code",
   "execution_count": null,
   "id": "668e31a1-96b9-41e2-b06a-b9495d8cca55",
   "metadata": {},
   "outputs": [],
   "source": []
  },
  {
   "cell_type": "code",
   "execution_count": null,
   "id": "0d57e4d1-39ce-41b8-ae8a-b08f0350e846",
   "metadata": {},
   "outputs": [],
   "source": []
  },
  {
   "cell_type": "code",
   "execution_count": null,
   "id": "aa651166-4506-49da-a98a-06ec40e6a743",
   "metadata": {},
   "outputs": [],
   "source": []
  },
  {
   "cell_type": "code",
   "execution_count": null,
   "id": "50f8f9f4-6a10-4c39-82e4-4d204b0d5829",
   "metadata": {},
   "outputs": [],
   "source": []
  },
  {
   "cell_type": "code",
   "execution_count": null,
   "id": "74924ee2-63f9-4aab-8fc4-3cd1580a6acc",
   "metadata": {},
   "outputs": [],
   "source": []
  },
  {
   "cell_type": "code",
   "execution_count": null,
   "id": "ba9a654e-a972-4e53-90dd-8f474fb87e27",
   "metadata": {},
   "outputs": [],
   "source": []
  },
  {
   "cell_type": "code",
   "execution_count": null,
   "id": "53a64abd-13ac-4053-a849-3f40f0672e55",
   "metadata": {},
   "outputs": [],
   "source": []
  },
  {
   "cell_type": "code",
   "execution_count": null,
   "id": "eda2f505-f8aa-4954-a14f-7644ab93bd4f",
   "metadata": {},
   "outputs": [],
   "source": []
  },
  {
   "cell_type": "code",
   "execution_count": null,
   "id": "dccaa580-b9d8-4523-a5d4-f11e24934bef",
   "metadata": {},
   "outputs": [],
   "source": []
  },
  {
   "cell_type": "code",
   "execution_count": null,
   "id": "199f2c0b-593b-440a-bb2f-b36291d0b7de",
   "metadata": {},
   "outputs": [],
   "source": []
  },
  {
   "cell_type": "code",
   "execution_count": null,
   "id": "7ed6c22c-ea8d-427f-9bf1-0fd7ddf2a9ee",
   "metadata": {},
   "outputs": [],
   "source": []
  },
  {
   "cell_type": "code",
   "execution_count": null,
   "id": "0fc80b1b-4719-4b38-9b78-742eb23bdf3f",
   "metadata": {},
   "outputs": [],
   "source": []
  },
  {
   "cell_type": "code",
   "execution_count": null,
   "id": "5a04bdd7-d7c9-4a97-8ef8-82399563dcf2",
   "metadata": {},
   "outputs": [],
   "source": []
  },
  {
   "cell_type": "code",
   "execution_count": null,
   "id": "72fec189-a52b-4a5d-a5aa-41fca53a0e2a",
   "metadata": {},
   "outputs": [],
   "source": []
  },
  {
   "cell_type": "code",
   "execution_count": null,
   "id": "c065dca0-b73e-466e-b431-e9b9a0b63712",
   "metadata": {},
   "outputs": [],
   "source": []
  },
  {
   "cell_type": "code",
   "execution_count": null,
   "id": "ed27e1fd-78f8-48c0-bf90-bd05826f208a",
   "metadata": {},
   "outputs": [],
   "source": []
  },
  {
   "cell_type": "code",
   "execution_count": null,
   "id": "9eeeda96-453d-4a29-b736-f298be8a6fc2",
   "metadata": {},
   "outputs": [],
   "source": []
  },
  {
   "cell_type": "code",
   "execution_count": null,
   "id": "682a6cbb-eae1-4f19-b9c0-096de2bc3714",
   "metadata": {},
   "outputs": [],
   "source": []
  },
  {
   "cell_type": "code",
   "execution_count": null,
   "id": "a7502417-ea8c-4024-bd69-774ddee8753e",
   "metadata": {},
   "outputs": [],
   "source": []
  },
  {
   "cell_type": "code",
   "execution_count": null,
   "id": "bbb8a864-9c94-4f47-af05-87c1c6f97aff",
   "metadata": {},
   "outputs": [],
   "source": []
  },
  {
   "cell_type": "code",
   "execution_count": 36,
   "id": "40039df5-73be-4905-893a-e98425cfb063",
   "metadata": {
    "tags": []
   },
   "outputs": [
    {
     "ename": "ValueError",
     "evalue": "Layer 'normalization_17' expected 0 variables, but received 3 variables during loading. Expected: []",
     "output_type": "error",
     "traceback": [
      "\u001b[0;31m---------------------------------------------------------------------------\u001b[0m",
      "\u001b[0;31mValueError\u001b[0m                                Traceback (most recent call last)",
      "Cell \u001b[0;32mIn[36], line 1\u001b[0m\n\u001b[0;32m----> 1\u001b[0m \u001b[43mtf\u001b[49m\u001b[38;5;241;43m.\u001b[39;49m\u001b[43mkeras\u001b[49m\u001b[38;5;241;43m.\u001b[39;49m\u001b[43mmodels\u001b[49m\u001b[38;5;241;43m.\u001b[39;49m\u001b[43mload_model\u001b[49m\u001b[43m(\u001b[49m\n\u001b[1;32m      2\u001b[0m \u001b[43m        \u001b[49m\u001b[38;5;124;43m\"\u001b[39;49m\u001b[38;5;124;43mw_last.keras\u001b[39;49m\u001b[38;5;124;43m\"\u001b[39;49m\u001b[43m,\u001b[49m\n\u001b[1;32m      3\u001b[0m \u001b[43m        \u001b[49m\u001b[43mcustom_objects\u001b[49m\u001b[38;5;241;43m=\u001b[39;49m\u001b[43m{\u001b[49m\n\u001b[1;32m      4\u001b[0m \u001b[43m         \u001b[49m\u001b[38;5;124;43m\"\u001b[39;49m\u001b[38;5;124;43mConditionalNoiseLayer\u001b[39;49m\u001b[38;5;124;43m\"\u001b[39;49m\u001b[43m:\u001b[49m\u001b[43m \u001b[49m\u001b[43mConditionalNoiseLayer\u001b[49m\u001b[43m(\u001b[49m\u001b[43mmodel_trainer\u001b[49m\u001b[38;5;241;43m.\u001b[39;49m\u001b[43mdata\u001b[49m\u001b[38;5;241;43m.\u001b[39;49m\u001b[43mx\u001b[49m\u001b[38;5;241;43m.\u001b[39;49m\u001b[43mxco2_noisy_chans\u001b[49m\u001b[43m)\u001b[49m\u001b[43m,\u001b[49m\n\u001b[1;32m      5\u001b[0m \u001b[43m           \u001b[49m\u001b[38;5;124;43m\"\u001b[39;49m\u001b[38;5;124;43mCloudsLayer\u001b[39;49m\u001b[38;5;124;43m\"\u001b[39;49m\u001b[43m:\u001b[49m\u001b[43m \u001b[49m\u001b[43mCloudsLayer\u001b[49m\u001b[43m(\u001b[49m\u001b[43mmodel_trainer\u001b[49m\u001b[38;5;241;43m.\u001b[39;49m\u001b[43mdata\u001b[49m\u001b[38;5;241;43m.\u001b[39;49m\u001b[43mx\u001b[49m\u001b[38;5;241;43m.\u001b[39;49m\u001b[43mclouds_training\u001b[49m\u001b[43m,\u001b[49m\u001b[43m \u001b[49m\u001b[43mmodel_trainer\u001b[49m\u001b[38;5;241;43m.\u001b[39;49m\u001b[43mdata\u001b[49m\u001b[38;5;241;43m.\u001b[39;49m\u001b[43mx\u001b[49m\u001b[38;5;241;43m.\u001b[39;49m\u001b[43mcloudy_chans\u001b[49m\u001b[43m)\u001b[49m\u001b[43m,\u001b[49m\n\u001b[1;32m      6\u001b[0m \u001b[43m             \u001b[49m\u001b[38;5;124;43m\"\u001b[39;49m\u001b[38;5;124;43mTrainingTimeNormalization\u001b[39;49m\u001b[38;5;124;43m\"\u001b[39;49m\u001b[43m:\u001b[49m\u001b[43m \u001b[49m\u001b[43mTrainingTimeNormalization\u001b[49m\u001b[43m(\u001b[49m\u001b[43maxis\u001b[49m\u001b[38;5;241;43m=\u001b[39;49m\u001b[38;5;241;43m-\u001b[39;49m\u001b[38;5;241;43m1\u001b[39;49m\u001b[43m,\u001b[49m\u001b[43m \u001b[49m\u001b[43mname\u001b[49m\u001b[38;5;241;43m=\u001b[39;49m\u001b[38;5;124;43m\"\u001b[39;49m\u001b[38;5;124;43mpreproc_norm\u001b[39;49m\u001b[38;5;124;43m\"\u001b[39;49m\u001b[43m)\u001b[49m\u001b[43m,\u001b[49m\n\u001b[1;32m      7\u001b[0m \u001b[43m         \u001b[49m\u001b[43m}\u001b[49m\u001b[43m,\u001b[49m\n\u001b[1;32m      8\u001b[0m \u001b[43m        \u001b[49m\u001b[38;5;28;43mcompile\u001b[39;49m\u001b[38;5;241;43m=\u001b[39;49m\u001b[38;5;28;43;01mFalse\u001b[39;49;00m\u001b[43m,\u001b[49m\n\u001b[1;32m      9\u001b[0m \u001b[43m  \u001b[49m\u001b[43m)\u001b[49m\n",
      "File \u001b[0;32m~/mambaforge/envs/gpu/lib/python3.9/site-packages/keras/src/saving/saving_api.py:254\u001b[0m, in \u001b[0;36mload_model\u001b[0;34m(filepath, custom_objects, compile, safe_mode, **kwargs)\u001b[0m\n\u001b[1;32m    249\u001b[0m     \u001b[38;5;28;01mif\u001b[39;00m kwargs:\n\u001b[1;32m    250\u001b[0m         \u001b[38;5;28;01mraise\u001b[39;00m \u001b[38;5;167;01mValueError\u001b[39;00m(\n\u001b[1;32m    251\u001b[0m             \u001b[38;5;124m\"\u001b[39m\u001b[38;5;124mThe following argument(s) are not supported \u001b[39m\u001b[38;5;124m\"\u001b[39m\n\u001b[1;32m    252\u001b[0m             \u001b[38;5;124mf\u001b[39m\u001b[38;5;124m\"\u001b[39m\u001b[38;5;124mwith the native Keras format: \u001b[39m\u001b[38;5;132;01m{\u001b[39;00m\u001b[38;5;28mlist\u001b[39m(kwargs\u001b[38;5;241m.\u001b[39mkeys())\u001b[38;5;132;01m}\u001b[39;00m\u001b[38;5;124m\"\u001b[39m\n\u001b[1;32m    253\u001b[0m         )\n\u001b[0;32m--> 254\u001b[0m     \u001b[38;5;28;01mreturn\u001b[39;00m \u001b[43msaving_lib\u001b[49m\u001b[38;5;241;43m.\u001b[39;49m\u001b[43mload_model\u001b[49m\u001b[43m(\u001b[49m\n\u001b[1;32m    255\u001b[0m \u001b[43m        \u001b[49m\u001b[43mfilepath\u001b[49m\u001b[43m,\u001b[49m\n\u001b[1;32m    256\u001b[0m \u001b[43m        \u001b[49m\u001b[43mcustom_objects\u001b[49m\u001b[38;5;241;43m=\u001b[39;49m\u001b[43mcustom_objects\u001b[49m\u001b[43m,\u001b[49m\n\u001b[1;32m    257\u001b[0m \u001b[43m        \u001b[49m\u001b[38;5;28;43mcompile\u001b[39;49m\u001b[38;5;241;43m=\u001b[39;49m\u001b[38;5;28;43mcompile\u001b[39;49m\u001b[43m,\u001b[49m\n\u001b[1;32m    258\u001b[0m \u001b[43m        \u001b[49m\u001b[43msafe_mode\u001b[49m\u001b[38;5;241;43m=\u001b[39;49m\u001b[43msafe_mode\u001b[49m\u001b[43m,\u001b[49m\n\u001b[1;32m    259\u001b[0m \u001b[43m    \u001b[49m\u001b[43m)\u001b[49m\n\u001b[1;32m    261\u001b[0m \u001b[38;5;66;03m# Legacy case.\u001b[39;00m\n\u001b[1;32m    262\u001b[0m \u001b[38;5;28;01mreturn\u001b[39;00m legacy_sm_saving_lib\u001b[38;5;241m.\u001b[39mload_model(\n\u001b[1;32m    263\u001b[0m     filepath, custom_objects\u001b[38;5;241m=\u001b[39mcustom_objects, \u001b[38;5;28mcompile\u001b[39m\u001b[38;5;241m=\u001b[39m\u001b[38;5;28mcompile\u001b[39m, \u001b[38;5;241m*\u001b[39m\u001b[38;5;241m*\u001b[39mkwargs\n\u001b[1;32m    264\u001b[0m )\n",
      "File \u001b[0;32m~/mambaforge/envs/gpu/lib/python3.9/site-packages/keras/src/saving/saving_lib.py:281\u001b[0m, in \u001b[0;36mload_model\u001b[0;34m(filepath, custom_objects, compile, safe_mode)\u001b[0m\n\u001b[1;32m    278\u001b[0m             asset_store\u001b[38;5;241m.\u001b[39mclose()\n\u001b[1;32m    280\u001b[0m \u001b[38;5;28;01mexcept\u001b[39;00m \u001b[38;5;167;01mException\u001b[39;00m \u001b[38;5;28;01mas\u001b[39;00m e:\n\u001b[0;32m--> 281\u001b[0m     \u001b[38;5;28;01mraise\u001b[39;00m e\n\u001b[1;32m    282\u001b[0m \u001b[38;5;28;01melse\u001b[39;00m:\n\u001b[1;32m    283\u001b[0m     \u001b[38;5;28;01mreturn\u001b[39;00m model\n",
      "File \u001b[0;32m~/mambaforge/envs/gpu/lib/python3.9/site-packages/keras/src/saving/saving_lib.py:269\u001b[0m, in \u001b[0;36mload_model\u001b[0;34m(filepath, custom_objects, compile, safe_mode)\u001b[0m\n\u001b[1;32m    266\u001b[0m \u001b[38;5;28;01melse\u001b[39;00m:\n\u001b[1;32m    267\u001b[0m     asset_store \u001b[38;5;241m=\u001b[39m \u001b[38;5;28;01mNone\u001b[39;00m\n\u001b[0;32m--> 269\u001b[0m \u001b[43m_load_state\u001b[49m\u001b[43m(\u001b[49m\n\u001b[1;32m    270\u001b[0m \u001b[43m    \u001b[49m\u001b[43mmodel\u001b[49m\u001b[43m,\u001b[49m\n\u001b[1;32m    271\u001b[0m \u001b[43m    \u001b[49m\u001b[43mweights_store\u001b[49m\u001b[38;5;241;43m=\u001b[39;49m\u001b[43mweights_store\u001b[49m\u001b[43m,\u001b[49m\n\u001b[1;32m    272\u001b[0m \u001b[43m    \u001b[49m\u001b[43massets_store\u001b[49m\u001b[38;5;241;43m=\u001b[39;49m\u001b[43masset_store\u001b[49m\u001b[43m,\u001b[49m\n\u001b[1;32m    273\u001b[0m \u001b[43m    \u001b[49m\u001b[43minner_path\u001b[49m\u001b[38;5;241;43m=\u001b[39;49m\u001b[38;5;124;43m\"\u001b[39;49m\u001b[38;5;124;43m\"\u001b[39;49m\u001b[43m,\u001b[49m\n\u001b[1;32m    274\u001b[0m \u001b[43m    \u001b[49m\u001b[43mvisited_trackables\u001b[49m\u001b[38;5;241;43m=\u001b[39;49m\u001b[38;5;28;43mset\u001b[39;49m\u001b[43m(\u001b[49m\u001b[43m)\u001b[49m\u001b[43m,\u001b[49m\n\u001b[1;32m    275\u001b[0m \u001b[43m\u001b[49m\u001b[43m)\u001b[49m\n\u001b[1;32m    276\u001b[0m weights_store\u001b[38;5;241m.\u001b[39mclose()\n\u001b[1;32m    277\u001b[0m \u001b[38;5;28;01mif\u001b[39;00m asset_store:\n",
      "File \u001b[0;32m~/mambaforge/envs/gpu/lib/python3.9/site-packages/keras/src/saving/saving_lib.py:466\u001b[0m, in \u001b[0;36m_load_state\u001b[0;34m(trackable, weights_store, assets_store, inner_path, skip_mismatch, visited_trackables)\u001b[0m\n\u001b[1;32m    457\u001b[0m     _load_state(\n\u001b[1;32m    458\u001b[0m         child_obj,\n\u001b[1;32m    459\u001b[0m         weights_store,\n\u001b[0;32m   (...)\u001b[0m\n\u001b[1;32m    463\u001b[0m         visited_trackables\u001b[38;5;241m=\u001b[39mvisited_trackables,\n\u001b[1;32m    464\u001b[0m     )\n\u001b[1;32m    465\u001b[0m \u001b[38;5;28;01melif\u001b[39;00m \u001b[38;5;28misinstance\u001b[39m(child_obj, (\u001b[38;5;28mlist\u001b[39m, \u001b[38;5;28mdict\u001b[39m, \u001b[38;5;28mtuple\u001b[39m, \u001b[38;5;28mset\u001b[39m)):\n\u001b[0;32m--> 466\u001b[0m     \u001b[43m_load_container_state\u001b[49m\u001b[43m(\u001b[49m\n\u001b[1;32m    467\u001b[0m \u001b[43m        \u001b[49m\u001b[43mchild_obj\u001b[49m\u001b[43m,\u001b[49m\n\u001b[1;32m    468\u001b[0m \u001b[43m        \u001b[49m\u001b[43mweights_store\u001b[49m\u001b[43m,\u001b[49m\n\u001b[1;32m    469\u001b[0m \u001b[43m        \u001b[49m\u001b[43massets_store\u001b[49m\u001b[43m,\u001b[49m\n\u001b[1;32m    470\u001b[0m \u001b[43m        \u001b[49m\u001b[43minner_path\u001b[49m\u001b[38;5;241;43m=\u001b[39;49m\u001b[43mtf\u001b[49m\u001b[38;5;241;43m.\u001b[39;49m\u001b[43mio\u001b[49m\u001b[38;5;241;43m.\u001b[39;49m\u001b[43mgfile\u001b[49m\u001b[38;5;241;43m.\u001b[39;49m\u001b[43mjoin\u001b[49m\u001b[43m(\u001b[49m\u001b[43minner_path\u001b[49m\u001b[43m,\u001b[49m\u001b[43m \u001b[49m\u001b[43mchild_attr\u001b[49m\u001b[43m)\u001b[49m\u001b[43m,\u001b[49m\n\u001b[1;32m    471\u001b[0m \u001b[43m        \u001b[49m\u001b[43mskip_mismatch\u001b[49m\u001b[38;5;241;43m=\u001b[39;49m\u001b[43mskip_mismatch\u001b[49m\u001b[43m,\u001b[49m\n\u001b[1;32m    472\u001b[0m \u001b[43m        \u001b[49m\u001b[43mvisited_trackables\u001b[49m\u001b[38;5;241;43m=\u001b[39;49m\u001b[43mvisited_trackables\u001b[49m\u001b[43m,\u001b[49m\n\u001b[1;32m    473\u001b[0m \u001b[43m    \u001b[49m\u001b[43m)\u001b[49m\n",
      "File \u001b[0;32m~/mambaforge/envs/gpu/lib/python3.9/site-packages/keras/src/saving/saving_lib.py:534\u001b[0m, in \u001b[0;36m_load_container_state\u001b[0;34m(container, weights_store, assets_store, inner_path, skip_mismatch, visited_trackables)\u001b[0m\n\u001b[1;32m    532\u001b[0m \u001b[38;5;28;01melse\u001b[39;00m:\n\u001b[1;32m    533\u001b[0m     used_names[name] \u001b[38;5;241m=\u001b[39m \u001b[38;5;241m0\u001b[39m\n\u001b[0;32m--> 534\u001b[0m \u001b[43m_load_state\u001b[49m\u001b[43m(\u001b[49m\n\u001b[1;32m    535\u001b[0m \u001b[43m    \u001b[49m\u001b[43mtrackable\u001b[49m\u001b[43m,\u001b[49m\n\u001b[1;32m    536\u001b[0m \u001b[43m    \u001b[49m\u001b[43mweights_store\u001b[49m\u001b[43m,\u001b[49m\n\u001b[1;32m    537\u001b[0m \u001b[43m    \u001b[49m\u001b[43massets_store\u001b[49m\u001b[43m,\u001b[49m\n\u001b[1;32m    538\u001b[0m \u001b[43m    \u001b[49m\u001b[43minner_path\u001b[49m\u001b[38;5;241;43m=\u001b[39;49m\u001b[43mtf\u001b[49m\u001b[38;5;241;43m.\u001b[39;49m\u001b[43mio\u001b[49m\u001b[38;5;241;43m.\u001b[39;49m\u001b[43mgfile\u001b[49m\u001b[38;5;241;43m.\u001b[39;49m\u001b[43mjoin\u001b[49m\u001b[43m(\u001b[49m\u001b[43minner_path\u001b[49m\u001b[43m,\u001b[49m\u001b[43m \u001b[49m\u001b[43mname\u001b[49m\u001b[43m)\u001b[49m\u001b[43m,\u001b[49m\n\u001b[1;32m    539\u001b[0m \u001b[43m    \u001b[49m\u001b[43mskip_mismatch\u001b[49m\u001b[38;5;241;43m=\u001b[39;49m\u001b[43mskip_mismatch\u001b[49m\u001b[43m,\u001b[49m\n\u001b[1;32m    540\u001b[0m \u001b[43m    \u001b[49m\u001b[43mvisited_trackables\u001b[49m\u001b[38;5;241;43m=\u001b[39;49m\u001b[43mvisited_trackables\u001b[49m\u001b[43m,\u001b[49m\n\u001b[1;32m    541\u001b[0m \u001b[43m\u001b[49m\u001b[43m)\u001b[49m\n",
      "File \u001b[0;32m~/mambaforge/envs/gpu/lib/python3.9/site-packages/keras/src/saving/saving_lib.py:457\u001b[0m, in \u001b[0;36m_load_state\u001b[0;34m(trackable, weights_store, assets_store, inner_path, skip_mismatch, visited_trackables)\u001b[0m\n\u001b[1;32m    455\u001b[0m \u001b[38;5;28;01mfor\u001b[39;00m child_attr, child_obj \u001b[38;5;129;01min\u001b[39;00m _walk_trackable(trackable):\n\u001b[1;32m    456\u001b[0m     \u001b[38;5;28;01mif\u001b[39;00m _is_keras_trackable(child_obj):\n\u001b[0;32m--> 457\u001b[0m         \u001b[43m_load_state\u001b[49m\u001b[43m(\u001b[49m\n\u001b[1;32m    458\u001b[0m \u001b[43m            \u001b[49m\u001b[43mchild_obj\u001b[49m\u001b[43m,\u001b[49m\n\u001b[1;32m    459\u001b[0m \u001b[43m            \u001b[49m\u001b[43mweights_store\u001b[49m\u001b[43m,\u001b[49m\n\u001b[1;32m    460\u001b[0m \u001b[43m            \u001b[49m\u001b[43massets_store\u001b[49m\u001b[43m,\u001b[49m\n\u001b[1;32m    461\u001b[0m \u001b[43m            \u001b[49m\u001b[43minner_path\u001b[49m\u001b[38;5;241;43m=\u001b[39;49m\u001b[43mtf\u001b[49m\u001b[38;5;241;43m.\u001b[39;49m\u001b[43mio\u001b[49m\u001b[38;5;241;43m.\u001b[39;49m\u001b[43mgfile\u001b[49m\u001b[38;5;241;43m.\u001b[39;49m\u001b[43mjoin\u001b[49m\u001b[43m(\u001b[49m\u001b[43minner_path\u001b[49m\u001b[43m,\u001b[49m\u001b[43m \u001b[49m\u001b[43mchild_attr\u001b[49m\u001b[43m)\u001b[49m\u001b[43m,\u001b[49m\n\u001b[1;32m    462\u001b[0m \u001b[43m            \u001b[49m\u001b[43mskip_mismatch\u001b[49m\u001b[38;5;241;43m=\u001b[39;49m\u001b[43mskip_mismatch\u001b[49m\u001b[43m,\u001b[49m\n\u001b[1;32m    463\u001b[0m \u001b[43m            \u001b[49m\u001b[43mvisited_trackables\u001b[49m\u001b[38;5;241;43m=\u001b[39;49m\u001b[43mvisited_trackables\u001b[49m\u001b[43m,\u001b[49m\n\u001b[1;32m    464\u001b[0m \u001b[43m        \u001b[49m\u001b[43m)\u001b[49m\n\u001b[1;32m    465\u001b[0m     \u001b[38;5;28;01melif\u001b[39;00m \u001b[38;5;28misinstance\u001b[39m(child_obj, (\u001b[38;5;28mlist\u001b[39m, \u001b[38;5;28mdict\u001b[39m, \u001b[38;5;28mtuple\u001b[39m, \u001b[38;5;28mset\u001b[39m)):\n\u001b[1;32m    466\u001b[0m         _load_container_state(\n\u001b[1;32m    467\u001b[0m             child_obj,\n\u001b[1;32m    468\u001b[0m             weights_store,\n\u001b[0;32m   (...)\u001b[0m\n\u001b[1;32m    472\u001b[0m             visited_trackables\u001b[38;5;241m=\u001b[39mvisited_trackables,\n\u001b[1;32m    473\u001b[0m         )\n",
      "File \u001b[0;32m~/mambaforge/envs/gpu/lib/python3.9/site-packages/keras/src/saving/saving_lib.py:435\u001b[0m, in \u001b[0;36m_load_state\u001b[0;34m(trackable, weights_store, assets_store, inner_path, skip_mismatch, visited_trackables)\u001b[0m\n\u001b[1;32m    428\u001b[0m             warnings\u001b[38;5;241m.\u001b[39mwarn(\n\u001b[1;32m    429\u001b[0m                 \u001b[38;5;124mf\u001b[39m\u001b[38;5;124m\"\u001b[39m\u001b[38;5;124mCould not load weights in object \u001b[39m\u001b[38;5;132;01m{\u001b[39;00mtrackable\u001b[38;5;132;01m}\u001b[39;00m\u001b[38;5;124m. \u001b[39m\u001b[38;5;124m\"\u001b[39m\n\u001b[1;32m    430\u001b[0m                 \u001b[38;5;124m\"\u001b[39m\u001b[38;5;124mSkipping object. \u001b[39m\u001b[38;5;124m\"\u001b[39m\n\u001b[1;32m    431\u001b[0m                 \u001b[38;5;124mf\u001b[39m\u001b[38;5;124m\"\u001b[39m\u001b[38;5;124mException encountered: \u001b[39m\u001b[38;5;132;01m{\u001b[39;00me\u001b[38;5;132;01m}\u001b[39;00m\u001b[38;5;124m\"\u001b[39m,\n\u001b[1;32m    432\u001b[0m                 stacklevel\u001b[38;5;241m=\u001b[39m\u001b[38;5;241m2\u001b[39m,\n\u001b[1;32m    433\u001b[0m             )\n\u001b[1;32m    434\u001b[0m     \u001b[38;5;28;01melse\u001b[39;00m:\n\u001b[0;32m--> 435\u001b[0m         \u001b[43mtrackable\u001b[49m\u001b[38;5;241;43m.\u001b[39;49m\u001b[43mload_own_variables\u001b[49m\u001b[43m(\u001b[49m\u001b[43mweights_store\u001b[49m\u001b[38;5;241;43m.\u001b[39;49m\u001b[43mget\u001b[49m\u001b[43m(\u001b[49m\u001b[43minner_path\u001b[49m\u001b[43m)\u001b[49m\u001b[43m)\u001b[49m\n\u001b[1;32m    437\u001b[0m \u001b[38;5;28;01mif\u001b[39;00m \u001b[38;5;28mhasattr\u001b[39m(trackable, \u001b[38;5;124m\"\u001b[39m\u001b[38;5;124mload_assets\u001b[39m\u001b[38;5;124m\"\u001b[39m) \u001b[38;5;129;01mand\u001b[39;00m assets_store:\n\u001b[1;32m    438\u001b[0m     \u001b[38;5;28;01mif\u001b[39;00m skip_mismatch:\n",
      "File \u001b[0;32m~/mambaforge/envs/gpu/lib/python3.9/site-packages/keras/src/layers/preprocessing/normalization.py:392\u001b[0m, in \u001b[0;36mNormalization.load_own_variables\u001b[0;34m(self, store)\u001b[0m\n\u001b[1;32m    390\u001b[0m \u001b[38;5;28;01mdef\u001b[39;00m \u001b[38;5;21mload_own_variables\u001b[39m(\u001b[38;5;28mself\u001b[39m, store):\n\u001b[1;32m    391\u001b[0m     \u001b[38;5;66;03m# Ensure that we call finalize_state after variable loading.\u001b[39;00m\n\u001b[0;32m--> 392\u001b[0m     \u001b[38;5;28;43msuper\u001b[39;49m\u001b[43m(\u001b[49m\u001b[43m)\u001b[49m\u001b[38;5;241;43m.\u001b[39;49m\u001b[43mload_own_variables\u001b[49m\u001b[43m(\u001b[49m\u001b[43mstore\u001b[49m\u001b[43m)\u001b[49m\n\u001b[1;32m    393\u001b[0m     \u001b[38;5;28mself\u001b[39m\u001b[38;5;241m.\u001b[39mfinalize_state()\n",
      "File \u001b[0;32m~/mambaforge/envs/gpu/lib/python3.9/site-packages/keras/src/engine/base_layer.py:3531\u001b[0m, in \u001b[0;36mLayer.load_own_variables\u001b[0;34m(self, store)\u001b[0m\n\u001b[1;32m   3529\u001b[0m all_vars \u001b[38;5;241m=\u001b[39m \u001b[38;5;28mself\u001b[39m\u001b[38;5;241m.\u001b[39m_trainable_weights \u001b[38;5;241m+\u001b[39m \u001b[38;5;28mself\u001b[39m\u001b[38;5;241m.\u001b[39m_non_trainable_weights\n\u001b[1;32m   3530\u001b[0m \u001b[38;5;28;01mif\u001b[39;00m \u001b[38;5;28mlen\u001b[39m(store\u001b[38;5;241m.\u001b[39mkeys()) \u001b[38;5;241m!=\u001b[39m \u001b[38;5;28mlen\u001b[39m(all_vars):\n\u001b[0;32m-> 3531\u001b[0m     \u001b[38;5;28;01mraise\u001b[39;00m \u001b[38;5;167;01mValueError\u001b[39;00m(\n\u001b[1;32m   3532\u001b[0m         \u001b[38;5;124mf\u001b[39m\u001b[38;5;124m\"\u001b[39m\u001b[38;5;124mLayer \u001b[39m\u001b[38;5;124m'\u001b[39m\u001b[38;5;132;01m{\u001b[39;00m\u001b[38;5;28mself\u001b[39m\u001b[38;5;241m.\u001b[39mname\u001b[38;5;132;01m}\u001b[39;00m\u001b[38;5;124m'\u001b[39m\u001b[38;5;124m expected \u001b[39m\u001b[38;5;132;01m{\u001b[39;00m\u001b[38;5;28mlen\u001b[39m(all_vars)\u001b[38;5;132;01m}\u001b[39;00m\u001b[38;5;124m variables, \u001b[39m\u001b[38;5;124m\"\u001b[39m\n\u001b[1;32m   3533\u001b[0m         \u001b[38;5;124m\"\u001b[39m\u001b[38;5;124mbut received \u001b[39m\u001b[38;5;124m\"\u001b[39m\n\u001b[1;32m   3534\u001b[0m         \u001b[38;5;124mf\u001b[39m\u001b[38;5;124m\"\u001b[39m\u001b[38;5;132;01m{\u001b[39;00m\u001b[38;5;28mlen\u001b[39m(store\u001b[38;5;241m.\u001b[39mkeys())\u001b[38;5;132;01m}\u001b[39;00m\u001b[38;5;124m variables during loading. \u001b[39m\u001b[38;5;124m\"\u001b[39m\n\u001b[1;32m   3535\u001b[0m         \u001b[38;5;124mf\u001b[39m\u001b[38;5;124m\"\u001b[39m\u001b[38;5;124mExpected: \u001b[39m\u001b[38;5;132;01m{\u001b[39;00m[v\u001b[38;5;241m.\u001b[39mname\u001b[38;5;250m \u001b[39m\u001b[38;5;28;01mfor\u001b[39;00m\u001b[38;5;250m \u001b[39mv\u001b[38;5;250m \u001b[39m\u001b[38;5;129;01min\u001b[39;00m\u001b[38;5;250m \u001b[39mall_vars]\u001b[38;5;132;01m}\u001b[39;00m\u001b[38;5;124m\"\u001b[39m\n\u001b[1;32m   3536\u001b[0m     )\n\u001b[1;32m   3537\u001b[0m \u001b[38;5;28;01mfor\u001b[39;00m i, v \u001b[38;5;129;01min\u001b[39;00m \u001b[38;5;28menumerate\u001b[39m(all_vars):\n\u001b[1;32m   3538\u001b[0m     \u001b[38;5;66;03m# TODO(rchao): check shapes and raise errors.\u001b[39;00m\n\u001b[1;32m   3539\u001b[0m     v\u001b[38;5;241m.\u001b[39massign(store[\u001b[38;5;124mf\u001b[39m\u001b[38;5;124m\"\u001b[39m\u001b[38;5;132;01m{\u001b[39;00mi\u001b[38;5;132;01m}\u001b[39;00m\u001b[38;5;124m\"\u001b[39m])\n",
      "\u001b[0;31mValueError\u001b[0m: Layer 'normalization_17' expected 0 variables, but received 3 variables during loading. Expected: []"
     ]
    }
   ],
   "source": [
    "tf.keras.models.load_model(\n",
    "        \"w_last.keras\",\n",
    "        custom_objects={\n",
    "         \"ConditionalNoiseLayer\": ConditionalNoiseLayer(model_trainer.data.x.xco2_noisy_chans),\n",
    "           \"CloudsLayer\": CloudsLayer(model_trainer.data.x.clouds_training, model_trainer.data.x.cloudy_chans),\n",
    "             \"TrainingTimeNormalization\": TrainingTimeNormalization(axis=-1, name=\"preproc_norm\"),\n",
    "         },\n",
    "        compile=False,\n",
    "  )"
   ]
  },
  {
   "cell_type": "code",
   "execution_count": 18,
   "id": "367946ae-1d55-4b0f-ba0d-b4d09d8c328b",
   "metadata": {},
   "outputs": [
    {
     "name": "stdout",
     "output_type": "stream",
     "text": [
      "INFO:tensorflow:Assets written to: test_classic/assets\n"
     ]
    },
    {
     "name": "stderr",
     "output_type": "stream",
     "text": [
      "INFO:tensorflow:Assets written to: test_classic/assets\n"
     ]
    }
   ],
   "source": [
    "tf.keras.models.save_model(model_trainer.model, \"test_classic\")"
   ]
  },
  {
   "cell_type": "code",
   "execution_count": 23,
   "id": "f3794632-0633-42c6-8dbc-3781f79be91d",
   "metadata": {},
   "outputs": [],
   "source": [
    "model_trainer.model.save(\"w_last.keras\")"
   ]
  },
  {
   "cell_type": "code",
   "execution_count": 7,
   "id": "fba7b521-f86a-4bf5-827c-c8b2921aef37",
   "metadata": {},
   "outputs": [
    {
     "name": "stdout",
     "output_type": "stream",
     "text": [
      "INFO:tensorflow:Assets written to: test_saved_model/assets\n"
     ]
    },
    {
     "name": "stderr",
     "output_type": "stream",
     "text": [
      "INFO:tensorflow:Assets written to: test_saved_model/assets\n"
     ]
    }
   ],
   "source": [
    "tf.saved_model.save(model_trainer.model, \"test_saved_model\")"
   ]
  },
  {
   "cell_type": "code",
   "execution_count": 15,
   "id": "6ec0d471-4e37-49e0-9dfa-e24256a46406",
   "metadata": {},
   "outputs": [],
   "source": [
    "loaded_model = tf.saved_model.load(\"test_saved_model\")"
   ]
  },
  {
   "cell_type": "code",
   "execution_count": 16,
   "id": "296bab55-7c7e-4c09-84f6-d340c5a37c99",
   "metadata": {},
   "outputs": [
    {
     "ename": "AttributeError",
     "evalue": "'_UserObject' object has no attribute 'summary'",
     "output_type": "error",
     "traceback": [
      "\u001b[0;31m---------------------------------------------------------------------------\u001b[0m",
      "\u001b[0;31mAttributeError\u001b[0m                            Traceback (most recent call last)",
      "Cell \u001b[0;32mIn[16], line 1\u001b[0m\n\u001b[0;32m----> 1\u001b[0m \u001b[43mloaded_model\u001b[49m\u001b[38;5;241;43m.\u001b[39;49m\u001b[43msummary\u001b[49m()\n",
      "\u001b[0;31mAttributeError\u001b[0m: '_UserObject' object has no attribute 'summary'"
     ]
    }
   ],
   "source": [
    "loaded_model.summary()"
   ]
  }
 ],
 "metadata": {
  "kernelspec": {
   "display_name": "Python 3 (ipykernel)",
   "language": "python",
   "name": "python3"
  },
  "language_info": {
   "codemirror_mode": {
    "name": "ipython",
    "version": 3
   },
   "file_extension": ".py",
   "mimetype": "text/x-python",
   "name": "python",
   "nbconvert_exporter": "python",
   "pygments_lexer": "ipython3",
   "version": "3.9.15"
  }
 },
 "nbformat": 4,
 "nbformat_minor": 5
}
