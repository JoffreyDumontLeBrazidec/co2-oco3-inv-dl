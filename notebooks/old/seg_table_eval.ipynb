{
 "cells": [
  {
   "cell_type": "markdown",
   "id": "223fb8ae-abc6-4565-a95a-fd5a35a8e5eb",
   "metadata": {},
   "source": [
    "### Import lib"
   ]
  },
  {
   "cell_type": "code",
   "execution_count": 1,
   "id": "feb2ab78-1f9d-44a9-b82e-7dfe09aa80cf",
   "metadata": {},
   "outputs": [],
   "source": [
    "import os\n",
    "os.chdir(\"/cerea_raid/users/dumontj/dev/coco2/dl\")\n",
    "import numpy as np\n",
    "import sys\n",
    "import pandas as pd\n",
    "import xarray as xr\n",
    "import tensorflow as tf\n",
    "from tensorflow import keras\n",
    "import keras.backend as K\n",
    "import matplotlib.pyplot as plt\n",
    "import seaborn as sns\n",
    "from treeconfigparser import TreeConfigParser\n",
    "import joblib\n",
    "\n",
    "import models.reg as rg\n",
    "import models.seg as sg\n",
    "from data.Data import Data\n",
    "from include.loss import pixel_weighted_cross_entropy"
   ]
  },
  {
   "cell_type": "markdown",
   "id": "86c1fa3f-095f-4206-bd2e-4b8bb8373178",
   "metadata": {
    "tags": []
   },
   "source": [
    "## Download func"
   ]
  },
  {
   "cell_type": "code",
   "execution_count": 2,
   "id": "5756e201-25ec-4c65-8379-e1440fa14a17",
   "metadata": {},
   "outputs": [],
   "source": [
    "path_res = \"/cerea_raid/users/dumontj/dev/coco2/dl/res\""
   ]
  },
  {
   "cell_type": "code",
   "execution_count": 3,
   "id": "19c7b1b4-6ddd-45a5-ae63-233a26b6a584",
   "metadata": {},
   "outputs": [],
   "source": [
    "def get_data(ds: str, scaler):\n",
    "    config = TreeConfigParser()\n",
    "    config.readfiles(os.path.join(path_res, ds, \"config.cfg\"))\n",
    "    shuffle_indices = np.fromfile(os.path.join(path_res, ds, \"shuffle_indices.bin\")).astype(np.int64)\n",
    "    data = Data(config, shuffle_indices)\n",
    "    data.prepare_input(scaler)\n",
    "    data.prepare_output()\n",
    "    print(\"xco2 valid mean\", np.mean(data.y.valid[0]))\n",
    "    return data"
   ]
  },
  {
   "cell_type": "code",
   "execution_count": 4,
   "id": "dab66a53-7338-4f7c-a5a9-0d7941511cc4",
   "metadata": {},
   "outputs": [],
   "source": [
    "def get_model(path_w: str):\n",
    "    model = keras.models.load_model(os.path.join(path_w, \"weights_cp_best.h5\"), compile=False)\n",
    "    model.compile('adam', loss=pixel_weighted_cross_entropy)    \n",
    "    return model\n",
    "\n",
    "def get_scaler(path_w: str):\n",
    "    scaler = joblib.load(os.path.join(path_w, \"scaler.save\"))\n",
    "    return scaler"
   ]
  },
  {
   "cell_type": "code",
   "execution_count": 5,
   "id": "813fed69-47ca-4825-b571-d55d13a45f1b",
   "metadata": {},
   "outputs": [],
   "source": [
    "def eval_ds_with_model(data, model):\n",
    "    x_valid = tf.convert_to_tensor(data.x.valid[0], np.float32)\n",
    "    y_valid = tf.convert_to_tensor(data.y.valid, np.float32)\n",
    "    loss_valid = model.evaluate(x=x_valid, y=y_valid, batch_size=64)\n",
    "    return loss_valid"
   ]
  },
  {
   "cell_type": "code",
   "execution_count": 7,
   "id": "85409b19-fed2-437d-ba82-732146bcd61b",
   "metadata": {},
   "outputs": [],
   "source": [
    "def eval_ds_with_baseline(data):\n",
    "    x_valid = tf.convert_to_tensor(data.x.valid[0], np.float32)\n",
    "    y_valid = tf.convert_to_tensor(data.y.valid, np.float32)\n",
    "    rt = 0.9\n",
    "    x_valid = x_valid.numpy()\n",
    "    x_save = x_valid.copy()\n",
    "    x_valid[x_valid<0] = 0    \n",
    "    x_valid = x_valid.reshape(-1, x_valid.shape[1]*x_valid.shape[2])\n",
    "    evo_diff_cummass_rt = np.sort(x_valid, axis=1).cumsum(axis=1) - rt * np.sum(\n",
    "        x_valid, axis=1\n",
    "    ).reshape(-1, 1)\n",
    "    N_drop_val = (\n",
    "        np.where(evo_diff_cummass_rt < 0, evo_diff_cummass_rt, -np.inf).argmin(\n",
    "            axis=1\n",
    "        )\n",
    "    )\n",
    "    x_valid[\n",
    "        x_valid.argsort(axis=1).argsort(axis=1) < N_drop_val.reshape(-1, 1)\n",
    "    ] = 0\n",
    "    pred_baseline_2 = x_valid.reshape(-1, x_save.shape[1], x_save.shape[2], 1)\n",
    "    pred_baseline_2[pred_baseline_2>0] = 1\n",
    "    baseline_10p_valid = tf.convert_to_tensor(pred_baseline_2, np.float32)\n",
    "    return model.compute_loss(y=y_valid, y_pred=baseline_10p_valid).numpy()"
   ]
  },
  {
   "cell_type": "markdown",
   "id": "248075c7-f977-4fb4-a51b-095ec7f288b3",
   "metadata": {},
   "source": [
    "### Case choices"
   ]
  },
  {
   "cell_type": "markdown",
   "id": "0a10377c-47fe-4caa-b9e8-4767a0e8c91e",
   "metadata": {},
   "source": [
    "### SEG basic"
   ]
  },
  {
   "cell_type": "code",
   "execution_count": 8,
   "id": "b74859e4-40bb-4e8a-ba7d-4de3db0e7555",
   "metadata": {},
   "outputs": [],
   "source": [
    "names_ds = [\"par\", \"ber\", \"pw\"]\n",
    "df_indices_ds = [\"ds_\" + case for case in names_ds]\n",
    "keys_ds = [\"seg_\" + case for case in names_ds]\n",
    "\n",
    "names_w = [\"par\", \"ber\", \"pw\", \"ber_DA\"]\n",
    "df_indices_w = [\"w_\" + case for case in names_w]\n",
    "keys_w = [\"seg_\" + case for case in names_w]"
   ]
  },
  {
   "cell_type": "markdown",
   "id": "9b8a3db9-cce8-43ce-8738-6e49358c0d18",
   "metadata": {},
   "source": [
    "### SEG advanced"
   ]
  },
  {
   "cell_type": "code",
   "execution_count": 9,
   "id": "b9540378-654d-41d3-aa28-1bcb36f4b815",
   "metadata": {},
   "outputs": [],
   "source": [
    "names_ds = [\"ber\", \"PGIPW\"]\n",
    "df_indices_ds = [\"ds_\" + case for case in names_ds]\n",
    "keys_ds = [\"seg_\" + case for case in names_ds]\n",
    "\n",
    "names_w = [\"ber\", \"ber_DA\", \"PGIPW\", \"PGIPW_DA\", \"PGIPW_DA2\"]\n",
    "df_indices_w = [\"w_\" + case for case in names_w]\n",
    "keys_w = [\"seg_\" + case for case in names_w]"
   ]
  },
  {
   "cell_type": "markdown",
   "id": "d84eff66-e307-46e5-8340-10da669bd742",
   "metadata": {},
   "source": [
    "### Make df of results"
   ]
  },
  {
   "cell_type": "code",
   "execution_count": 10,
   "id": "4e72d450-24ef-4692-98bb-659624c7ed06",
   "metadata": {},
   "outputs": [
    {
     "name": "stderr",
     "output_type": "stream",
     "text": [
      "2022-06-24 22:04:16.629760: I tensorflow/core/platform/cpu_feature_guard.cc:151] This TensorFlow binary is optimized with oneAPI Deep Neural Network Library (oneDNN) to use the following CPU instructions in performance-critical operations:  AVX2 AVX512F FMA\n",
      "To enable them in other operations, rebuild TensorFlow with the appropriate compiler flags.\n",
      "2022-06-24 22:04:17.103782: I tensorflow/core/common_runtime/gpu/gpu_device.cc:1525] Created device /job:localhost/replica:0/task:0/device:GPU:0 with 14488 MB memory:  -> device: 0, name: Quadro RTX 5000, pci bus id: 0000:65:00.0, compute capability: 7.5\n"
     ]
    },
    {
     "name": "stdout",
     "output_type": "stream",
     "text": [
      "mean, var xco2 402.0255 12.423682\n",
      "data.inp.train.shape[0] (6874, 160, 160, 1)\n",
      "data.out.train.shape (6874, 160, 160, 1)\n",
      "xco2 valid mean 0.12690587980800166\n"
     ]
    },
    {
     "name": "stderr",
     "output_type": "stream",
     "text": [
      "2022-06-24 22:04:34.100839: I tensorflow/stream_executor/cuda/cuda_dnn.cc:368] Loaded cuDNN version 8202\n",
      "2022-06-24 22:04:34.537600: I tensorflow/core/platform/default/subprocess.cc:304] Start cannot spawn child process: No such file or directory\n"
     ]
    },
    {
     "name": "stdout",
     "output_type": "stream",
     "text": [
      "27/27 [==============================] - 4s 62ms/step - loss: 0.2094\n",
      "mean, var xco2 402.8727 13.941546\n",
      "data.inp.train.shape[0] (24194, 160, 160, 1)\n",
      "data.out.train.shape (24194, 160, 160, 1)\n",
      "xco2 valid mean 0.3894021287448883\n",
      "95/95 [==============================] - 4s 42ms/step - loss: 0.5347\n",
      "mean, var xco2 402.0255 12.423682\n",
      "data.inp.train.shape[0] (6874, 160, 160, 1)\n",
      "data.out.train.shape (6874, 160, 160, 1)\n",
      "xco2 valid mean 0.12690587980800166\n",
      "27/27 [==============================] - 1s 37ms/step - loss: 0.1715\n",
      "mean, var xco2 402.8727 13.941546\n",
      "data.inp.train.shape[0] (24194, 160, 160, 1)\n",
      "data.out.train.shape (24194, 160, 160, 1)\n",
      "xco2 valid mean 0.3894021287448883\n",
      "95/95 [==============================] - 4s 37ms/step - loss: 0.7054\n",
      "mean, var xco2 402.0255 12.423682\n",
      "data.inp.train.shape[0] (6874, 160, 160, 1)\n",
      "data.out.train.shape (6874, 160, 160, 1)\n",
      "xco2 valid mean 0.12690587980800166\n",
      "27/27 [==============================] - 1s 37ms/step - loss: 0.3749\n",
      "mean, var xco2 402.8727 13.941546\n",
      "data.inp.train.shape[0] (24194, 160, 160, 1)\n",
      "data.out.train.shape (24194, 160, 160, 1)\n",
      "xco2 valid mean 0.3894021287448883\n",
      "95/95 [==============================] - 4s 37ms/step - loss: 0.1999\n",
      "mean, var xco2 402.0255 12.423682\n",
      "data.inp.train.shape[0] (6874, 160, 160, 1)\n",
      "data.out.train.shape (6874, 160, 160, 1)\n",
      "xco2 valid mean 0.12690587980800166\n",
      "27/27 [==============================] - 1s 37ms/step - loss: 0.4025\n",
      "mean, var xco2 402.8727 13.941546\n",
      "data.inp.train.shape[0] (24194, 160, 160, 1)\n",
      "data.out.train.shape (24194, 160, 160, 1)\n",
      "xco2 valid mean 0.3894021287448883\n",
      "95/95 [==============================] - 4s 37ms/step - loss: 0.1981\n",
      "mean, var xco2 402.0255 12.423682\n",
      "data.inp.train.shape[0] (6874, 160, 160, 1)\n",
      "data.out.train.shape (6874, 160, 160, 1)\n",
      "xco2 valid mean 0.12690587980800166\n",
      "27/27 [==============================] - 1s 38ms/step - loss: 0.4217\n",
      "mean, var xco2 402.8727 13.941546\n",
      "data.inp.train.shape[0] (24194, 160, 160, 1)\n",
      "data.out.train.shape (24194, 160, 160, 1)\n",
      "xco2 valid mean 0.3894021287448883\n",
      "95/95 [==============================] - 4s 37ms/step - loss: 0.4693\n"
     ]
    }
   ],
   "source": [
    "df = pd.DataFrame(dict(zip(df_indices_w, [[-1.]*len(names_ds)]*len(names_w))))\n",
    "df.index = df_indices_ds\n",
    "for df_idx_w, key_w in zip(df_indices_w, keys_w):\n",
    "    full_path_w = os.path.join(\"/cerea_raid/users/dumontj/dev/coco2/dl/res\", key_w)\n",
    "    model = get_model(full_path_w)\n",
    "    scaler = get_scaler(full_path_w)\n",
    "    for df_idx_ds, key_ds in zip(df_indices_ds, keys_ds):\n",
    "        data = get_data(key_ds, scaler)\n",
    "        loss_valid = eval_ds_with_model(data, model)\n",
    "        df.loc[df_idx_ds, df_idx_w] = loss_valid  "
   ]
  },
  {
   "cell_type": "code",
   "execution_count": 11,
   "id": "e69f4064-e22c-47ec-bc5f-71f82422b248",
   "metadata": {},
   "outputs": [
    {
     "data": {
      "text/html": [
       "<div>\n",
       "<style scoped>\n",
       "    .dataframe tbody tr th:only-of-type {\n",
       "        vertical-align: middle;\n",
       "    }\n",
       "\n",
       "    .dataframe tbody tr th {\n",
       "        vertical-align: top;\n",
       "    }\n",
       "\n",
       "    .dataframe thead th {\n",
       "        text-align: right;\n",
       "    }\n",
       "</style>\n",
       "<table border=\"1\" class=\"dataframe\">\n",
       "  <thead>\n",
       "    <tr style=\"text-align: right;\">\n",
       "      <th></th>\n",
       "      <th>w_ber</th>\n",
       "      <th>w_ber_DA</th>\n",
       "      <th>w_PGIPW</th>\n",
       "      <th>w_PGIPW_DA</th>\n",
       "      <th>w_PGIPW_DA2</th>\n",
       "    </tr>\n",
       "  </thead>\n",
       "  <tbody>\n",
       "    <tr>\n",
       "      <th>ds_ber</th>\n",
       "      <td>0.209408</td>\n",
       "      <td>0.171506</td>\n",
       "      <td>0.374899</td>\n",
       "      <td>0.402481</td>\n",
       "      <td>0.421684</td>\n",
       "    </tr>\n",
       "    <tr>\n",
       "      <th>ds_PGIPW</th>\n",
       "      <td>0.534741</td>\n",
       "      <td>0.705443</td>\n",
       "      <td>0.199857</td>\n",
       "      <td>0.198121</td>\n",
       "      <td>0.469269</td>\n",
       "    </tr>\n",
       "  </tbody>\n",
       "</table>\n",
       "</div>"
      ],
      "text/plain": [
       "             w_ber  w_ber_DA   w_PGIPW  w_PGIPW_DA  w_PGIPW_DA2\n",
       "ds_ber    0.209408  0.171506  0.374899    0.402481     0.421684\n",
       "ds_PGIPW  0.534741  0.705443  0.199857    0.198121     0.469269"
      ]
     },
     "execution_count": 11,
     "metadata": {},
     "output_type": "execute_result"
    }
   ],
   "source": [
    "df"
   ]
  },
  {
   "cell_type": "markdown",
   "id": "aaa4c867-39f5-420b-83dc-3f05e57a1373",
   "metadata": {},
   "source": [
    "#### Add baseline"
   ]
  },
  {
   "cell_type": "code",
   "execution_count": 12,
   "id": "fff4c660-449f-4235-b979-63f85764fcdf",
   "metadata": {},
   "outputs": [
    {
     "name": "stdout",
     "output_type": "stream",
     "text": [
      "mean, var xco2 402.0255 12.423682\n",
      "data.inp.train.shape[0] (6874, 160, 160, 1)\n",
      "data.out.train.shape (6874, 160, 160, 1)\n",
      "mean, var xco2 402.8727 13.941546\n",
      "data.inp.train.shape[0] (24194, 160, 160, 1)\n",
      "data.out.train.shape (24194, 160, 160, 1)\n"
     ]
    }
   ],
   "source": [
    "df[\"10p_bl\"] = [-1.]*len(df.index)\n",
    "for df_idx_ds, key_ds in zip(df_indices_ds, keys_ds):\n",
    "    config_file = os.path.join(\"/cerea_raid/users/dumontj/dev/coco2/dl/cfg\", key_ds + \".cfg\")\n",
    "    config = TreeConfigParser()\n",
    "    config.readfiles(config_file)\n",
    "    data = Data(config)\n",
    "    data.prepare_input()\n",
    "    data.prepare_output()\n",
    "    \n",
    "    mean_bl = eval_ds_with_baseline(data)\n",
    "    df.loc[df_idx_ds, \"10p_bl\"] = mean_bl"
   ]
  },
  {
   "cell_type": "code",
   "execution_count": 13,
   "id": "3b7f1b88-3218-4a49-b206-fcae2466c6f3",
   "metadata": {},
   "outputs": [
    {
     "data": {
      "text/html": [
       "<div>\n",
       "<style scoped>\n",
       "    .dataframe tbody tr th:only-of-type {\n",
       "        vertical-align: middle;\n",
       "    }\n",
       "\n",
       "    .dataframe tbody tr th {\n",
       "        vertical-align: top;\n",
       "    }\n",
       "\n",
       "    .dataframe thead th {\n",
       "        text-align: right;\n",
       "    }\n",
       "</style>\n",
       "<table border=\"1\" class=\"dataframe\">\n",
       "  <thead>\n",
       "    <tr style=\"text-align: right;\">\n",
       "      <th></th>\n",
       "      <th>w_ber</th>\n",
       "      <th>w_ber_DA</th>\n",
       "      <th>w_PGIPW</th>\n",
       "      <th>w_PGIPW_DA</th>\n",
       "      <th>w_PGIPW_DA2</th>\n",
       "      <th>10p_bl</th>\n",
       "    </tr>\n",
       "  </thead>\n",
       "  <tbody>\n",
       "    <tr>\n",
       "      <th>ds_ber</th>\n",
       "      <td>0.209408</td>\n",
       "      <td>0.171506</td>\n",
       "      <td>0.374899</td>\n",
       "      <td>0.402481</td>\n",
       "      <td>0.421684</td>\n",
       "      <td>2.902987</td>\n",
       "    </tr>\n",
       "    <tr>\n",
       "      <th>ds_PGIPW</th>\n",
       "      <td>0.534741</td>\n",
       "      <td>0.705443</td>\n",
       "      <td>0.199857</td>\n",
       "      <td>0.198121</td>\n",
       "      <td>0.469269</td>\n",
       "      <td>3.628656</td>\n",
       "    </tr>\n",
       "  </tbody>\n",
       "</table>\n",
       "</div>"
      ],
      "text/plain": [
       "             w_ber  w_ber_DA   w_PGIPW  w_PGIPW_DA  w_PGIPW_DA2    10p_bl\n",
       "ds_ber    0.209408  0.171506  0.374899    0.402481     0.421684  2.902987\n",
       "ds_PGIPW  0.534741  0.705443  0.199857    0.198121     0.469269  3.628656"
      ]
     },
     "execution_count": 13,
     "metadata": {},
     "output_type": "execute_result"
    }
   ],
   "source": [
    "df"
   ]
  },
  {
   "cell_type": "code",
   "execution_count": null,
   "id": "e258cf0a-757d-4e5a-b88b-0010106e3812",
   "metadata": {},
   "outputs": [],
   "source": []
  },
  {
   "cell_type": "code",
   "execution_count": null,
   "id": "55fd829b-18e4-4861-8955-3108f78ee427",
   "metadata": {},
   "outputs": [],
   "source": []
  }
 ],
 "metadata": {
  "kernelspec": {
   "display_name": "Python 3 (ipykernel)",
   "language": "python",
   "name": "python3"
  },
  "language_info": {
   "codemirror_mode": {
    "name": "ipython",
    "version": 3
   },
   "file_extension": ".py",
   "mimetype": "text/x-python",
   "name": "python",
   "nbconvert_exporter": "python",
   "pygments_lexer": "ipython3",
   "version": "3.8.13"
  }
 },
 "nbformat": 4,
 "nbformat_minor": 5
}
