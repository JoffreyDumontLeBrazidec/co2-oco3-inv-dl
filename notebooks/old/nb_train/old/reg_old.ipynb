{
 "cells": [
  {
   "cell_type": "code",
   "execution_count": null,
   "id": "32f61f42-8c85-44cf-be77-73694567c1c7",
   "metadata": {},
   "outputs": [],
   "source": [
    "model = rg.classic_CNN(\"EfficientNetB0\", data.x.fields_input_shape, data.y.classes, None)\n",
    "model.compile(\"adam\", loss=tf.keras.losses.MeanSquaredLogarithmicError())"
   ]
  }
 ],
 "metadata": {
  "kernelspec": {
   "display_name": "Python 3 (ipykernel)",
   "language": "python",
   "name": "python3"
  },
  "language_info": {
   "codemirror_mode": {
    "name": "ipython",
    "version": 3
   },
   "file_extension": ".py",
   "mimetype": "text/x-python",
   "name": "python",
   "nbconvert_exporter": "python",
   "pygments_lexer": "ipython3",
   "version": "3.8.13"
  }
 },
 "nbformat": 4,
 "nbformat_minor": 5
}
