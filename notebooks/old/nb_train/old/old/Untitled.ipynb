{
 "cells": [
  {
   "cell_type": "code",
   "execution_count": 1,
   "id": "370c39b9-98a7-4ccf-b5c4-663bf0d42e69",
   "metadata": {},
   "outputs": [],
   "source": [
    "import numpy as np"
   ]
  },
  {
   "cell_type": "code",
   "execution_count": 13,
   "id": "50e08d7c-460a-4070-a01c-3163fe77bc71",
   "metadata": {},
   "outputs": [
    {
     "name": "stdout",
     "output_type": "stream",
     "text": [
      "[[[-0.14276141 -0.00527125  0.0771284  -0.70219174]\n",
      "  [ 0.60262087  0.91520695  0.44399787 -0.43525742]\n",
      "  [ 0.64639082  0.65744268  0.84789291  0.1401115 ]\n",
      "  [-0.37368607 -0.01554186 -0.98678487  0.10339816]]\n",
      "\n",
      " [[ 0.78058096  0.25642068  0.72773769  0.46129048]\n",
      "  [-0.67341891 -0.0587437  -0.11326865 -0.06869009]\n",
      "  [-0.15859801 -0.17702731  0.65095821 -0.04657511]\n",
      "  [ 0.28182958  0.52384463 -0.11897385  0.99509818]]]\n"
     ]
    }
   ],
   "source": [
    "X = np.random.uniform(-1,1, size=(2,4,4))\n",
    "print(X)"
   ]
  },
  {
   "cell_type": "code",
   "execution_count": 14,
   "id": "88e3f8a3-a6cf-4fb1-9370-ae0837e304d1",
   "metadata": {},
   "outputs": [
    {
     "data": {
      "text/plain": [
       "array([[[0., 0., 0., 0.],\n",
       "        [0., 1., 0., 0.],\n",
       "        [0., 0., 0., 0.],\n",
       "        [0., 0., 0., 0.]],\n",
       "\n",
       "       [[0., 0., 0., 0.],\n",
       "        [0., 0., 0., 0.],\n",
       "        [0., 0., 0., 0.],\n",
       "        [0., 0., 0., 1.]]])"
      ]
     },
     "execution_count": 14,
     "metadata": {},
     "output_type": "execute_result"
    }
   ],
   "source": [
    "def baseline_2(x_valid):\n",
    "    rt = 0.9\n",
    "    x_valid[x_valid<0] = 0\n",
    "    x_save = x_valid.copy()\n",
    "    x_valid = x_valid.reshape(-1, x_valid.shape[1]*x_valid.shape[2])\n",
    "    evo_diff_cummass_rt = np.sort(x_valid, axis=1).cumsum(axis=1) - rt * np.sum(\n",
    "        x_valid, axis=1\n",
    "    ).reshape(-1, 1)\n",
    "    N_drop_val = (\n",
    "        np.where(evo_diff_cummass_rt < 0, evo_diff_cummass_rt, -np.inf).argmin(\n",
    "            axis=1\n",
    "        )\n",
    "    )\n",
    "    x_valid[\n",
    "        x_valid.argsort(axis=1).argsort(axis=1) < N_drop_val.reshape(-1, 1)\n",
    "    ] = 0\n",
    "    pred_baseline_2 = x_valid.reshape(-1, x_save.shape[1], x_save.shape[2])\n",
    "    pred_baseline_2[pred_baseline_2>0] = 1\n",
    "    return pred_baseline_2\n",
    "\n",
    "baseline_2(X)"
   ]
  },
  {
   "cell_type": "code",
   "execution_count": 50,
   "id": "c0fcb063-c28b-44ba-b0de-3d65dfacf843",
   "metadata": {},
   "outputs": [
    {
     "data": {
      "text/plain": [
       "array([[-8.09473399, -8.02557216, -7.83330812, -7.56449789, -7.26268239,\n",
       "        -6.90052201, -6.46512968, -5.78849703, -5.01157318, -4.21314362,\n",
       "        -3.41209242, -2.59440215, -1.75063016, -0.90029021, -0.04515572,\n",
       "         0.90460182],\n",
       "       [-6.78006373, -6.73923906, -6.61874399, -6.31671967, -6.01335729,\n",
       "        -5.5597973 , -5.08660913, -4.59890479, -4.0892032 , -3.56929723,\n",
       "        -2.96720349, -2.31929398, -1.6204062 , -0.85927253, -0.07158817,\n",
       "         0.75422574]])"
      ]
     },
     "execution_count": 50,
     "metadata": {},
     "output_type": "execute_result"
    }
   ],
   "source": [
    "evo_diff_cummass_rt"
   ]
  },
  {
   "cell_type": "code",
   "execution_count": null,
   "id": "63184a94-5464-4376-ae37-c8b480a89dfc",
   "metadata": {},
   "outputs": [],
   "source": []
  }
 ],
 "metadata": {
  "kernelspec": {
   "display_name": "Python 3 (ipykernel)",
   "language": "python",
   "name": "python3"
  },
  "language_info": {
   "codemirror_mode": {
    "name": "ipython",
    "version": 3
   },
   "file_extension": ".py",
   "mimetype": "text/x-python",
   "name": "python",
   "nbconvert_exporter": "python",
   "pygments_lexer": "ipython3",
   "version": "3.8.13"
  }
 },
 "nbformat": 4,
 "nbformat_minor": 5
}
