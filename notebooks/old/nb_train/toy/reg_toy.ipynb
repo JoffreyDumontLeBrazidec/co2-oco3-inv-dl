{
 "cells": [
  {
   "cell_type": "markdown",
   "id": "223fb8ae-abc6-4565-a95a-fd5a35a8e5eb",
   "metadata": {},
   "source": [
    "### Import lib"
   ]
  },
  {
   "cell_type": "code",
   "execution_count": 32,
   "id": "feb2ab78-1f9d-44a9-b82e-7dfe09aa80cf",
   "metadata": {},
   "outputs": [],
   "source": [
    "import os\n",
    "os.chdir(\"/cerea_raid/users/dumontj/dev/coco2/dl\")\n",
    "import numpy as np\n",
    "import sys\n",
    "import tensorflow as tf\n",
    "from tensorflow import keras\n",
    "import keras.backend as K\n",
    "import matplotlib.pyplot as plt\n",
    "import models.reg as rg "
   ]
  },
  {
   "cell_type": "markdown",
   "id": "0c445640-e213-4047-8733-4e9ba562fddf",
   "metadata": {
    "tags": []
   },
   "source": [
    "### Loss functions"
   ]
  },
  {
   "cell_type": "markdown",
   "id": "57bbc77d-77ad-44a7-9b58-5f9e32fd55f0",
   "metadata": {
    "tags": []
   },
   "source": [
    "### Data generation"
   ]
  },
  {
   "cell_type": "code",
   "execution_count": 64,
   "id": "19c7b1b4-6ddd-45a5-ae63-233a26b6a584",
   "metadata": {},
   "outputs": [],
   "source": [
    "# general param\n",
    "N_img = 10_000\n",
    "Ny = 32\n",
    "Nx = 32\n",
    "y, x = np.indices((Ny,Nx))\n",
    "\n",
    "# data\n",
    "magni = np.random.uniform(0.2, 3, N_img).reshape(1,1,-1)\n",
    "center_Y = np.random.uniform(0,Ny, N_img).reshape(1,1,-1)\n",
    "center_X = np.random.uniform(0,Nx, N_img).reshape(1,1,-1)\n",
    "var_Y = np.random.uniform(0,20, N_img).reshape(1,1,-1)\n",
    "var_X = np.random.uniform(0,20, N_img).reshape(1,1,-1)\n",
    "\n",
    "data = magni * np.exp(-0.5*((np.expand_dims(x, axis=-1)-center_X)**2/var_X \n",
    "                            + (np.expand_dims(y, axis=-1)-center_Y)**2/var_Y))\n",
    "data = np.where(data>0, data, 0)\n",
    "# noise\n",
    "noise = np.random.normal(0, 0.01, size=(N_img, Ny,Nx))\n",
    "\n",
    "\n",
    "# datasets\n",
    "data = np.transpose(data, (2,0,1))\n",
    "data_X = (data + noise).reshape(N_img,Ny,Nx,1).astype(np.float32)\n",
    "data_X = np.where(data_X>0, data_X, 0)\n",
    "\n",
    "N_classes = 2\n",
    "data_Y = np.exp(np.squeeze(magni).reshape(-1,1)) \n",
    "#data_Y = data_Y + np.random.normal(0, 0.1, size=(N_img,1))*data_Y\n",
    "data_Y = np.tile(data_Y, (1, N_classes))\n",
    "data_Y = np.log(data_Y)\n",
    "data_Y = data_Y / np.max(data_Y)\n",
    "\n",
    "ratio_train = 0.8\n",
    "train_X = data_X[:int(ratio_train*N_img)]\n",
    "train_Y = data_Y[:int(ratio_train*N_img)]\n",
    "test_X = data_X[int(ratio_train*N_img):]\n",
    "test_Y = data_Y[int(ratio_train*N_img):]\n"
   ]
  },
  {
   "cell_type": "markdown",
   "id": "cb2bece4-8b7f-47f3-b0c6-b67ccd7724ec",
   "metadata": {
    "tags": []
   },
   "source": [
    "### Model def"
   ]
  },
  {
   "cell_type": "code",
   "execution_count": 65,
   "id": "f852adca-5153-4566-83f0-ee3769a87b1f",
   "metadata": {},
   "outputs": [],
   "source": [
    "#model = rg.standard_CNN(2, (Ny, Nx, 1))\n",
    "model = rg.classic_CNN(\"EfficientNetB0\", 2, (Ny, Nx, 1), \"random\")\n",
    "model.compile(\"adam\", loss=tf.keras.losses.MeanAbsoluteError())\n",
    "#model.compile(\"adam\", loss=my_mse)"
   ]
  },
  {
   "cell_type": "markdown",
   "id": "4e6b7980-70e1-4344-b63c-3de352e5339a",
   "metadata": {},
   "source": [
    "### Training"
   ]
  },
  {
   "cell_type": "code",
   "execution_count": 66,
   "id": "cb5e80c2-85b5-4b75-9a01-25fc61e7eba9",
   "metadata": {},
   "outputs": [
    {
     "name": "stdout",
     "output_type": "stream",
     "text": [
      "Model: \"model_9\"\n",
      "_________________________________________________________________\n",
      " Layer (type)                Output Shape              Param #   \n",
      "=================================================================\n",
      " input_layer (InputLayer)    [(None, 32, 32, 1)]       0         \n",
      "                                                                 \n",
      " efficientnetb0 (Functional)  (None, 1, 1, 1280)       4048991   \n",
      "                                                                 \n",
      " pooling_layer (GlobalAverag  (None, 1280)             0         \n",
      " ePooling2D)                                                     \n",
      "                                                                 \n",
      " output_layer (Dense)        (None, 2)                 2562      \n",
      "                                                                 \n",
      " activation_layer (Activatio  (None, 2)                0         \n",
      " n)                                                              \n",
      "                                                                 \n",
      "=================================================================\n",
      "Total params: 4,051,553\n",
      "Trainable params: 4,009,534\n",
      "Non-trainable params: 42,019\n",
      "_________________________________________________________________\n"
     ]
    }
   ],
   "source": [
    "model.summary()"
   ]
  },
  {
   "cell_type": "code",
   "execution_count": 67,
   "id": "96de3ee1-99a3-4dd7-ac1a-bcbda9a07f77",
   "metadata": {},
   "outputs": [
    {
     "name": "stdout",
     "output_type": "stream",
     "text": [
      "Epoch 1/50\n",
      "250/250 [==============================] - 17s 46ms/step - loss: 0.3162 - val_loss: 0.2302\n",
      "Epoch 2/50\n",
      "250/250 [==============================] - 10s 41ms/step - loss: 0.1419 - val_loss: 0.2644\n",
      "Epoch 3/50\n",
      "250/250 [==============================] - 9s 38ms/step - loss: 0.1233 - val_loss: 0.2278\n",
      "Epoch 4/50\n",
      "250/250 [==============================] - 10s 42ms/step - loss: 0.1311 - val_loss: 0.2093\n",
      "Epoch 5/50\n",
      "250/250 [==============================] - 11s 44ms/step - loss: 0.1172 - val_loss: 0.0833\n",
      "Epoch 6/50\n",
      "250/250 [==============================] - 11s 44ms/step - loss: 0.1086 - val_loss: 0.3705\n",
      "Epoch 7/50\n",
      "250/250 [==============================] - 11s 42ms/step - loss: 0.1072 - val_loss: 0.2877\n",
      "Epoch 8/50\n",
      "250/250 [==============================] - 10s 42ms/step - loss: 0.0953 - val_loss: 0.3760\n",
      "Epoch 9/50\n",
      "250/250 [==============================] - 11s 44ms/step - loss: 0.0953 - val_loss: 0.0838\n",
      "Epoch 10/50\n",
      "250/250 [==============================] - 10s 39ms/step - loss: 0.0896 - val_loss: 0.1463\n",
      "Epoch 11/50\n",
      "250/250 [==============================] - 10s 41ms/step - loss: 0.0814 - val_loss: 0.2314\n",
      "Epoch 12/50\n",
      "250/250 [==============================] - 10s 39ms/step - loss: 0.0895 - val_loss: 0.0803\n",
      "Epoch 13/50\n",
      "250/250 [==============================] - 10s 39ms/step - loss: 0.1003 - val_loss: 0.1536\n",
      "Epoch 14/50\n",
      "250/250 [==============================] - 11s 43ms/step - loss: 0.1078 - val_loss: 0.0792\n",
      "Epoch 15/50\n",
      "250/250 [==============================] - 10s 42ms/step - loss: 0.1148 - val_loss: 0.1090\n",
      "Epoch 16/50\n",
      "250/250 [==============================] - 10s 41ms/step - loss: 0.1142 - val_loss: 0.0989\n",
      "Epoch 17/50\n",
      "250/250 [==============================] - 10s 41ms/step - loss: 0.1316 - val_loss: 0.1272\n",
      "Epoch 18/50\n",
      "250/250 [==============================] - 11s 43ms/step - loss: 0.1217 - val_loss: 0.1294\n",
      "Epoch 19/50\n",
      "250/250 [==============================] - 9s 37ms/step - loss: 0.1064 - val_loss: 0.1120\n",
      "Epoch 20/50\n",
      "250/250 [==============================] - 11s 44ms/step - loss: 0.1042 - val_loss: 0.1175\n",
      "Epoch 21/50\n",
      "250/250 [==============================] - 11s 43ms/step - loss: 0.1148 - val_loss: 0.2176\n",
      "Epoch 22/50\n",
      "250/250 [==============================] - 10s 40ms/step - loss: 0.1360 - val_loss: 0.1425\n",
      "Epoch 23/50\n",
      "250/250 [==============================] - 11s 42ms/step - loss: 0.1251 - val_loss: 0.0966\n",
      "Epoch 24/50\n",
      "250/250 [==============================] - 11s 42ms/step - loss: 0.1207 - val_loss: 0.0950\n",
      "Epoch 25/50\n",
      "250/250 [==============================] - 10s 41ms/step - loss: 0.0966 - val_loss: 0.0999\n",
      "Epoch 26/50\n",
      "250/250 [==============================] - 10s 41ms/step - loss: 0.1045 - val_loss: 0.1080\n",
      "Epoch 27/50\n",
      "250/250 [==============================] - 10s 39ms/step - loss: 0.0910 - val_loss: 0.0621\n",
      "Epoch 28/50\n",
      "250/250 [==============================] - 10s 40ms/step - loss: 0.0979 - val_loss: 0.0827\n",
      "Epoch 29/50\n",
      "250/250 [==============================] - 10s 40ms/step - loss: 0.1285 - val_loss: 0.1765\n",
      "Epoch 30/50\n",
      "250/250 [==============================] - 10s 41ms/step - loss: 0.1364 - val_loss: 0.1883\n",
      "Epoch 31/50\n",
      "250/250 [==============================] - 10s 42ms/step - loss: 0.1165 - val_loss: 0.1328\n",
      "Epoch 32/50\n",
      "250/250 [==============================] - 10s 39ms/step - loss: 0.0992 - val_loss: 0.0900\n",
      "Epoch 33/50\n",
      "250/250 [==============================] - 9s 38ms/step - loss: 0.1235 - val_loss: 0.0764\n",
      "Epoch 34/50\n",
      "250/250 [==============================] - 10s 42ms/step - loss: 0.1101 - val_loss: 0.1043\n",
      "Epoch 35/50\n",
      "250/250 [==============================] - 11s 42ms/step - loss: 0.1062 - val_loss: 0.1041\n",
      "Epoch 36/50\n",
      "250/250 [==============================] - 11s 43ms/step - loss: 0.1047 - val_loss: 0.1400\n",
      "Epoch 37/50\n",
      "250/250 [==============================] - 11s 43ms/step - loss: 0.1196 - val_loss: 0.1136\n",
      "Epoch 38/50\n",
      "250/250 [==============================] - 10s 41ms/step - loss: 0.1104 - val_loss: 0.0988\n",
      "Epoch 39/50\n",
      "250/250 [==============================] - 10s 41ms/step - loss: 0.1066 - val_loss: 0.0819\n",
      "Epoch 40/50\n",
      "250/250 [==============================] - 10s 41ms/step - loss: 0.1018 - val_loss: 0.0809\n",
      "Epoch 41/50\n",
      "250/250 [==============================] - 10s 42ms/step - loss: 0.0954 - val_loss: 0.0909\n",
      "Epoch 42/50\n",
      "250/250 [==============================] - 10s 39ms/step - loss: 0.0902 - val_loss: 0.0737\n",
      "Epoch 43/50\n",
      "250/250 [==============================] - 11s 42ms/step - loss: 0.0907 - val_loss: 0.0705\n",
      "Epoch 44/50\n",
      "250/250 [==============================] - 10s 42ms/step - loss: 0.0977 - val_loss: 0.1672\n",
      "Epoch 45/50\n",
      "250/250 [==============================] - 11s 43ms/step - loss: 0.0985 - val_loss: 0.1028\n",
      "Epoch 46/50\n",
      "250/250 [==============================] - 10s 42ms/step - loss: 0.0965 - val_loss: 0.0881\n",
      "Epoch 47/50\n",
      "250/250 [==============================] - 11s 44ms/step - loss: 0.1051 - val_loss: 0.1094\n",
      "Epoch 48/50\n",
      "250/250 [==============================] - 11s 43ms/step - loss: 0.1023 - val_loss: 0.1010\n",
      "Epoch 49/50\n",
      "250/250 [==============================] - 9s 36ms/step - loss: 0.1132 - val_loss: 0.1791\n",
      "Epoch 50/50\n",
      "250/250 [==============================] - 10s 40ms/step - loss: 0.1104 - val_loss: 0.1303\n"
     ]
    },
    {
     "data": {
      "text/plain": [
       "<keras.callbacks.History at 0x7f767e8d1c40>"
      ]
     },
     "execution_count": 67,
     "metadata": {},
     "output_type": "execute_result"
    }
   ],
   "source": [
    "model.fit(x=train_X, y=train_Y, epochs=50, validation_data=(test_X, test_Y))"
   ]
  },
  {
   "cell_type": "markdown",
   "id": "6e9c4535-ac78-4437-896a-43ec83db9fdf",
   "metadata": {},
   "source": [
    "### Evaluation"
   ]
  },
  {
   "cell_type": "code",
   "execution_count": 36,
   "id": "f69d402c-0599-4277-bd23-d5851a58c00e",
   "metadata": {},
   "outputs": [
    {
     "name": "stdout",
     "output_type": "stream",
     "text": [
      "[0.48692225 0.48692225]\n",
      "tf.Tensor([[0.3214987  0.32310516]], shape=(1, 2), dtype=float32)\n"
     ]
    },
    {
     "data": {
      "text/plain": [
       "Text(0.5, 1.0, 'image')"
      ]
     },
     "execution_count": 36,
     "metadata": {},
     "output_type": "execute_result"
    },
    {
     "data": {
      "image/png": "[encoded data removed]",
      "text/plain": [
       "<Figure size 432x288 with 2 Axes>"
      ]
     },
     "metadata": {
      "needs_background": "light"
     },
     "output_type": "display_data"
    }
   ],
   "source": [
    "idx = int(np.random.uniform(0,N_img*0.2))\n",
    "\n",
    "print(np.squeeze(test_Y[idx]))\n",
    "\n",
    "print(model(tf.expand_dims(test_X[idx], 0)))\n",
    "\n",
    "plt.figure()\n",
    "plt.imshow(np.squeeze(test_X[idx]))\n",
    "plt.colorbar()\n",
    "plt.title(\"image\")"
   ]
  },
  {
   "cell_type": "code",
   "execution_count": 37,
   "id": "b607a532-b7f6-43f8-9ef7-386e7812aa1e",
   "metadata": {},
   "outputs": [
    {
     "name": "stdout",
     "output_type": "stream",
     "text": [
      "Model: \"model_5\"\n",
      "_________________________________________________________________\n",
      " Layer (type)                Output Shape              Param #   \n",
      "=================================================================\n",
      " input_7 (InputLayer)        [(None, 32, 32, 1)]       0         \n",
      "                                                                 \n",
      " conv2d_36 (Conv2D)          (None, 30, 30, 32)        320       \n",
      "                                                                 \n",
      " dropout_18 (Dropout)        (None, 30, 30, 32)        0         \n",
      "                                                                 \n",
      " conv2d_37 (Conv2D)          (None, 28, 28, 32)        9248      \n",
      "                                                                 \n",
      " max_pooling2d_12 (MaxPoolin  (None, 14, 14, 32)       0         \n",
      " g2D)                                                            \n",
      "                                                                 \n",
      " batch_normalization_12 (Bat  (None, 14, 14, 32)       128       \n",
      " chNormalization)                                                \n",
      "                                                                 \n",
      " conv2d_38 (Conv2D)          (None, 12, 12, 32)        9248      \n",
      "                                                                 \n",
      " dropout_19 (Dropout)        (None, 12, 12, 32)        0         \n",
      "                                                                 \n",
      " conv2d_39 (Conv2D)          (None, 10, 10, 64)        18496     \n",
      "                                                                 \n",
      " batch_normalization_13 (Bat  (None, 10, 10, 64)       256       \n",
      " chNormalization)                                                \n",
      "                                                                 \n",
      " conv2d_40 (Conv2D)          (None, 8, 8, 64)          36928     \n",
      "                                                                 \n",
      " dropout_20 (Dropout)        (None, 8, 8, 64)          0         \n",
      "                                                                 \n",
      " conv2d_41 (Conv2D)          (None, 6, 6, 64)          36928     \n",
      "                                                                 \n",
      " max_pooling2d_13 (MaxPoolin  (None, 3, 3, 64)         0         \n",
      " g2D)                                                            \n",
      "                                                                 \n",
      " flatten_6 (Flatten)         (None, 576)               0         \n",
      "                                                                 \n",
      " dense_6 (Dense)             (None, 2)                 1154      \n",
      "                                                                 \n",
      "=================================================================\n",
      "Total params: 112,706\n",
      "Trainable params: 112,514\n",
      "Non-trainable params: 192\n",
      "_________________________________________________________________\n"
     ]
    }
   ],
   "source": [
    "model.summary()"
   ]
  },
  {
   "cell_type": "code",
   "execution_count": null,
   "id": "bba3f411-69e3-4a11-b3e5-ffbc2a292c10",
   "metadata": {},
   "outputs": [],
   "source": []
  }
 ],
 "metadata": {
  "kernelspec": {
   "display_name": "Python 3 (ipykernel)",
   "language": "python",
   "name": "python3"
  },
  "language_info": {
   "codemirror_mode": {
    "name": "ipython",
    "version": 3
   },
   "file_extension": ".py",
   "mimetype": "text/x-python",
   "name": "python",
   "nbconvert_exporter": "python",
   "pygments_lexer": "ipython3",
   "version": "3.8.13"
  }
 },
 "nbformat": 4,
 "nbformat_minor": 5
}
