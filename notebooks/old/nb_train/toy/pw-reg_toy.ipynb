{
 "cells": [
  {
   "cell_type": "markdown",
   "id": "223fb8ae-abc6-4565-a95a-fd5a35a8e5eb",
   "metadata": {},
   "source": [
    "### Import lib"
   ]
  },
  {
   "cell_type": "code",
   "execution_count": 2,
   "id": "feb2ab78-1f9d-44a9-b82e-7dfe09aa80cf",
   "metadata": {},
   "outputs": [],
   "source": [
    "import os\n",
    "os.chdir(\"/cerea_raid/users/dumontj/dev/coco2/dl\")\n",
    "import numpy as np\n",
    "import sys\n",
    "import tensorflow as tf\n",
    "from tensorflow import keras\n",
    "import keras.backend as K\n",
    "import matplotlib.pyplot as plt\n",
    "import models.pw_reg as pwrg"
   ]
  },
  {
   "cell_type": "markdown",
   "id": "0c445640-e213-4047-8733-4e9ba562fddf",
   "metadata": {
    "tags": []
   },
   "source": [
    "### Loss functions"
   ]
  },
  {
   "cell_type": "code",
   "execution_count": 104,
   "id": "eb2fe174-5690-49d2-a7fe-ec2d502dd073",
   "metadata": {},
   "outputs": [],
   "source": [
    "def my_mse(y_true,y_pred):\n",
    "    return tf.reduce_mean(tf.square(y_pred-y_true)*(y_true+0.5))"
   ]
  },
  {
   "cell_type": "markdown",
   "id": "57bbc77d-77ad-44a7-9b58-5f9e32fd55f0",
   "metadata": {
    "tags": []
   },
   "source": [
    "### Data generation"
   ]
  },
  {
   "cell_type": "code",
   "execution_count": 105,
   "id": "19c7b1b4-6ddd-45a5-ae63-233a26b6a584",
   "metadata": {},
   "outputs": [],
   "source": [
    "# general param\n",
    "N_img = 10_000\n",
    "Ny = 32\n",
    "Nx = 32\n",
    "y, x = np.indices((Ny,Nx))\n",
    "\n",
    "# data\n",
    "magni = 3\n",
    "center_Y = np.random.uniform(0,Ny, N_img).reshape(1,1,-1)\n",
    "center_X = np.random.uniform(0,Nx, N_img).reshape(1,1,-1)\n",
    "var_Y = np.random.uniform(0,20, N_img).reshape(1,1,-1)\n",
    "var_X = np.random.uniform(0,20, N_img).reshape(1,1,-1)\n",
    "\n",
    "data = magni * np.exp(-0.5*((np.expand_dims(x, axis=-1)-center_X)**2/var_X \n",
    "                            + (np.expand_dims(y, axis=-1)-center_Y)**2/var_Y))\n",
    "data = np.where(data>0, data, 0)\n",
    "# noise\n",
    "noise = np.random.normal(0, 1, size=(N_img, Ny,Nx))\n",
    "\n",
    "\n",
    "# datasets\n",
    "data = np.transpose(data, (2,0,1))\n",
    "data_X = (data + noise).reshape(N_img,Ny,Nx,1).astype(np.float32)\n",
    "data_X = np.where(data_X>0, data_X, 0)\n",
    "\n",
    "bin_data_Y = np.where(data.reshape(N_img,Ny,Nx,1)>0.1, 1., 0.).astype(np.float32)\n",
    "reg_data_Y = np.where(data.reshape(N_img,Ny,Nx,1)>0.1, data.reshape(N_img,Ny,Nx,1), 0.).astype(np.float32)\n",
    "\n",
    "data_Y = reg_data_Y \n",
    "#data_Y = bin_data_Y\n",
    "\n",
    "ratio_train = 0.8\n",
    "train_X = data_X[:int(ratio_train*N_img)]\n",
    "train_Y = data_Y[:int(ratio_train*N_img)]\n",
    "test_X = data_X[int(ratio_train*N_img):]\n",
    "test_Y = data_Y[int(ratio_train*N_img):]\n"
   ]
  },
  {
   "cell_type": "markdown",
   "id": "cb2bece4-8b7f-47f3-b0c6-b67ccd7724ec",
   "metadata": {
    "tags": []
   },
   "source": [
    "### Model def"
   ]
  },
  {
   "cell_type": "code",
   "execution_count": 106,
   "id": "f852adca-5153-4566-83f0-ee3769a87b1f",
   "metadata": {},
   "outputs": [],
   "source": [
    "model = pwrg.Unet_2(1, Ny, Nx, 1)\n",
    "#model.compile(\"adam\", loss=tf.keras.losses.MeanSquaredLogarithmicError())\n",
    "model.compile(\"adam\", loss=my_mse)"
   ]
  },
  {
   "cell_type": "markdown",
   "id": "4e6b7980-70e1-4344-b63c-3de352e5339a",
   "metadata": {},
   "source": [
    "### Training"
   ]
  },
  {
   "cell_type": "code",
   "execution_count": 107,
   "id": "96de3ee1-99a3-4dd7-ac1a-bcbda9a07f77",
   "metadata": {},
   "outputs": [
    {
     "name": "stdout",
     "output_type": "stream",
     "text": [
      "Epoch 1/5\n",
      "250/250 [==============================] - 5s 18ms/step - loss: 0.0904 - val_loss: 0.0163\n",
      "Epoch 2/5\n",
      "250/250 [==============================] - 4s 17ms/step - loss: 0.0191 - val_loss: 0.0134\n",
      "Epoch 3/5\n",
      "250/250 [==============================] - 4s 16ms/step - loss: 0.0153 - val_loss: 0.0110\n",
      "Epoch 4/5\n",
      "250/250 [==============================] - 4s 16ms/step - loss: 0.0135 - val_loss: 0.0101\n",
      "Epoch 5/5\n",
      "250/250 [==============================] - 4s 17ms/step - loss: 0.0124 - val_loss: 0.0098\n"
     ]
    },
    {
     "data": {
      "text/plain": [
       "<keras.callbacks.History at 0x7f8478f5a7c0>"
      ]
     },
     "execution_count": 107,
     "metadata": {},
     "output_type": "execute_result"
    }
   ],
   "source": [
    "model.fit(x=train_X, y=train_Y, epochs=5, validation_data=(test_X, test_Y))"
   ]
  },
  {
   "cell_type": "markdown",
   "id": "6e9c4535-ac78-4437-896a-43ec83db9fdf",
   "metadata": {},
   "source": [
    "### Evaluation"
   ]
  },
  {
   "cell_type": "code",
   "execution_count": 109,
   "id": "f69d402c-0599-4277-bd23-d5851a58c00e",
   "metadata": {},
   "outputs": [
    {
     "name": "stdout",
     "output_type": "stream",
     "text": [
      "error: tf.Tensor(0.0041648373, shape=(), dtype=float32)\n"
     ]
    },
    {
     "data": {
      "text/plain": [
       "Text(0.5, 1.0, 'image')"
      ]
     },
     "execution_count": 109,
     "metadata": {},
     "output_type": "execute_result"
    },
    {
     "data": {
      "image/png": "[encoded data removed]",
      "text/plain": [
       "<Figure size 432x288 with 1 Axes>"
      ]
     },
     "metadata": {
      "needs_background": "light"
     },
     "output_type": "display_data"
    },
    {
     "data": {
      "image/png": "[encoded data removed]",
      "text/plain": [
       "<Figure size 432x288 with 1 Axes>"
      ]
     },
     "metadata": {
      "needs_background": "light"
     },
     "output_type": "display_data"
    },
    {
     "data": {
      "image/png": "[encoded data removed]",
      "text/plain": [
       "<Figure size 432x288 with 1 Axes>"
      ]
     },
     "metadata": {
      "needs_background": "light"
     },
     "output_type": "display_data"
    }
   ],
   "source": [
    "idx = int(np.random.uniform(0,N_img*0.2))\n",
    "y_true = np.squeeze(test_Y[idx])\n",
    "y_pred = np.squeeze(model(tf.expand_dims(test_X[idx], 0)))\n",
    "\n",
    "# error\n",
    "mse = tf.keras.losses.MeanSquaredError()\n",
    "error = mse(y_true=y_true, y_pred=y_pred)\n",
    "print(\"error:\", error)\n",
    "\n",
    "# plots\n",
    "plt.figure()\n",
    "plt.imshow(np.squeeze(test_Y[idx]))\n",
    "plt.title(\"truth\")\n",
    "plt.figure()\n",
    "plt.imshow(np.squeeze(model(tf.expand_dims(test_X[idx], 0))[0]))\n",
    "plt.title(\"pred\")\n",
    "plt.figure()\n",
    "plt.imshow(np.squeeze(test_X[idx]))\n",
    "plt.title(\"image\")"
   ]
  },
  {
   "cell_type": "code",
   "execution_count": null,
   "id": "dd19030c-fdd5-4926-b886-cce37170718c",
   "metadata": {},
   "outputs": [],
   "source": []
  }
 ],
 "metadata": {
  "kernelspec": {
   "display_name": "Python 3 (ipykernel)",
   "language": "python",
   "name": "python3"
  },
  "language_info": {
   "codemirror_mode": {
    "name": "ipython",
    "version": 3
   },
   "file_extension": ".py",
   "mimetype": "text/x-python",
   "name": "python",
   "nbconvert_exporter": "python",
   "pygments_lexer": "ipython3",
   "version": "3.8.13"
  }
 },
 "nbformat": 4,
 "nbformat_minor": 5
}
