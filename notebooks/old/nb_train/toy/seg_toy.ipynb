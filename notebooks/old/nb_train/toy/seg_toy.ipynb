{
 "cells": [
  {
   "cell_type": "markdown",
   "id": "223fb8ae-abc6-4565-a95a-fd5a35a8e5eb",
   "metadata": {},
   "source": [
    "### Import lib"
   ]
  },
  {
   "cell_type": "code",
   "execution_count": 1,
   "id": "feb2ab78-1f9d-44a9-b82e-7dfe09aa80cf",
   "metadata": {},
   "outputs": [],
   "source": [
    "import os\n",
    "os.chdir(\"/cerea_raid/users/dumontj/dev/coco2/dl\")\n",
    "import numpy as np\n",
    "import sys\n",
    "import tensorflow as tf\n",
    "from tensorflow import keras\n",
    "import keras.backend as K\n",
    "import matplotlib.pyplot as plt\n",
    "import models.seg as sm"
   ]
  },
  {
   "cell_type": "markdown",
   "id": "0c445640-e213-4047-8733-4e9ba562fddf",
   "metadata": {
    "tags": []
   },
   "source": [
    "### Loss functions"
   ]
  },
  {
   "cell_type": "code",
   "execution_count": 2,
   "id": "bf717da8-48d6-4c66-9fca-f69b71b93eeb",
   "metadata": {},
   "outputs": [],
   "source": [
    "def pixel_weighted_cross_entropy(y_true, y_pred):\n",
    "    y_bin_true = tf.cast(y_true > 0, y_true.dtype)\n",
    "    loss_val = keras.losses.binary_crossentropy(y_bin_true, y_pred)\n",
    "    weights = tf.where(y_true > 0, y_true, 1.)\n",
    "    loss_val = tf.convert_to_tensor(tf.squeeze(weights), np.float32)*loss_val\n",
    "    return K.mean(loss_val)"
   ]
  },
  {
   "cell_type": "markdown",
   "id": "57bbc77d-77ad-44a7-9b58-5f9e32fd55f0",
   "metadata": {
    "tags": []
   },
   "source": [
    "### Data generation"
   ]
  },
  {
   "cell_type": "code",
   "execution_count": 3,
   "id": "19c7b1b4-6ddd-45a5-ae63-233a26b6a584",
   "metadata": {},
   "outputs": [],
   "source": [
    "# general param\n",
    "N_img = 10_000\n",
    "Ny = 32\n",
    "Nx = 32\n",
    "y, x = np.indices((Ny,Nx))\n",
    "\n",
    "# data\n",
    "magni = np.random.uniform(0.2, 3, N_img).reshape(1,1,-1)\n",
    "center_Y = np.random.uniform(0,Ny, N_img).reshape(1,1,-1)\n",
    "center_X = np.random.uniform(0,Nx, N_img).reshape(1,1,-1)\n",
    "var_Y = np.random.uniform(0,20, N_img).reshape(1,1,-1)\n",
    "var_X = np.random.uniform(0,20, N_img).reshape(1,1,-1)\n",
    "\n",
    "data = magni * np.exp(-0.5*((np.expand_dims(x, axis=-1)-center_X)**2/var_X \n",
    "                            + (np.expand_dims(y, axis=-1)-center_Y)**2/var_Y))\n",
    "data = np.where(data>0, data, 0)\n",
    "# noise\n",
    "noise = np.random.normal(0, 1, size=(N_img, Ny,Nx))\n",
    "\n",
    "\n",
    "# datasets\n",
    "data = np.transpose(data, (2,0,1))\n",
    "data_X = (data + noise).reshape(N_img,Ny,Nx,1).astype(np.float32)\n",
    "data_X = np.where(data_X>0, data_X, 0)\n",
    "\n",
    "bin_data_Y = np.where(data.reshape(N_img,Ny,Nx,1)>0.1, 1., 0.).astype(np.float32)\n",
    "reg_data_Y = np.where(data.reshape(N_img,Ny,Nx,1)>0.1, data.reshape(N_img,Ny,Nx,1), 0.).astype(np.float32)\n",
    "\n",
    "data_Y = reg_data_Y\n",
    "\n",
    "ratio_train = 0.8\n",
    "train_X = data_X[:int(ratio_train*N_img)]\n",
    "train_Y = data_Y[:int(ratio_train*N_img)]\n",
    "test_X = data_X[int(ratio_train*N_img):]\n",
    "test_Y = data_Y[int(ratio_train*N_img):]\n"
   ]
  },
  {
   "cell_type": "code",
   "execution_count": 4,
   "id": "28798e23-c7bd-43bd-a6ff-01e152b0db69",
   "metadata": {},
   "outputs": [
    {
     "data": {
      "text/plain": [
       "(2000, 32, 32, 1)"
      ]
     },
     "execution_count": 4,
     "metadata": {},
     "output_type": "execute_result"
    }
   ],
   "source": [
    "test_Y.shape"
   ]
  },
  {
   "cell_type": "markdown",
   "id": "cb2bece4-8b7f-47f3-b0c6-b67ccd7724ec",
   "metadata": {
    "tags": []
   },
   "source": [
    "### Model def"
   ]
  },
  {
   "cell_type": "code",
   "execution_count": 5,
   "id": "f852adca-5153-4566-83f0-ee3769a87b1f",
   "metadata": {},
   "outputs": [
    {
     "name": "stderr",
     "output_type": "stream",
     "text": [
      "2022-06-21 17:18:01.601963: I tensorflow/core/platform/cpu_feature_guard.cc:151] This TensorFlow binary is optimized with oneAPI Deep Neural Network Library (oneDNN) to use the following CPU instructions in performance-critical operations:  AVX2 AVX512F FMA\n",
      "To enable them in other operations, rebuild TensorFlow with the appropriate compiler flags.\n",
      "2022-06-21 17:18:02.095699: I tensorflow/core/common_runtime/gpu/gpu_device.cc:1525] Created device /job:localhost/replica:0/task:0/device:GPU:0 with 13797 MB memory:  -> device: 0, name: Tesla T4, pci bus id: 0000:3b:00.0, compute capability: 7.5\n"
     ]
    }
   ],
   "source": [
    "model = sm.Unet_2([Ny, Nx, 1], 1)\n",
    "model.compile('adam', loss=pixel_weighted_cross_entropy)\n",
    "#model.compile(\"adam\", loss=tf.keras.losses.binary_crossentropy)"
   ]
  },
  {
   "cell_type": "markdown",
   "id": "4e6b7980-70e1-4344-b63c-3de352e5339a",
   "metadata": {},
   "source": [
    "### Training"
   ]
  },
  {
   "cell_type": "code",
   "execution_count": 6,
   "id": "96de3ee1-99a3-4dd7-ac1a-bcbda9a07f77",
   "metadata": {},
   "outputs": [
    {
     "name": "stdout",
     "output_type": "stream",
     "text": [
      "Epoch 1/15\n"
     ]
    },
    {
     "name": "stderr",
     "output_type": "stream",
     "text": [
      "2022-06-21 17:18:04.310969: I tensorflow/stream_executor/cuda/cuda_dnn.cc:368] Loaded cuDNN version 8202\n",
      "2022-06-21 17:18:04.845297: I tensorflow/core/platform/default/subprocess.cc:304] Start cannot spawn child process: No such file or directory\n"
     ]
    },
    {
     "name": "stdout",
     "output_type": "stream",
     "text": [
      "250/250 [==============================] - 9s 22ms/step - loss: 0.0658 - val_loss: 0.0454\n",
      "Epoch 2/15\n",
      "250/250 [==============================] - 5s 19ms/step - loss: 0.0444 - val_loss: 0.0434\n",
      "Epoch 3/15\n",
      "250/250 [==============================] - 5s 18ms/step - loss: 0.0413 - val_loss: 0.0398\n",
      "Epoch 4/15\n",
      "250/250 [==============================] - 5s 19ms/step - loss: 0.0392 - val_loss: 0.0378\n",
      "Epoch 5/15\n",
      "250/250 [==============================] - 5s 18ms/step - loss: 0.0385 - val_loss: 0.0373\n",
      "Epoch 6/15\n",
      "250/250 [==============================] - 5s 19ms/step - loss: 0.0380 - val_loss: 0.0394\n",
      "Epoch 7/15\n",
      "250/250 [==============================] - 5s 19ms/step - loss: 0.0371 - val_loss: 0.0365\n",
      "Epoch 8/15\n",
      "250/250 [==============================] - 5s 19ms/step - loss: 0.0366 - val_loss: 0.0373\n",
      "Epoch 9/15\n",
      "250/250 [==============================] - 5s 20ms/step - loss: 0.0362 - val_loss: 0.0377\n",
      "Epoch 10/15\n",
      "250/250 [==============================] - 5s 19ms/step - loss: 0.0360 - val_loss: 0.0371\n",
      "Epoch 11/15\n",
      "250/250 [==============================] - 5s 18ms/step - loss: 0.0354 - val_loss: 0.0361\n",
      "Epoch 12/15\n",
      "250/250 [==============================] - 5s 19ms/step - loss: 0.0350 - val_loss: 0.0361\n",
      "Epoch 13/15\n",
      "250/250 [==============================] - 4s 18ms/step - loss: 0.0345 - val_loss: 0.0376\n",
      "Epoch 14/15\n",
      "250/250 [==============================] - 5s 19ms/step - loss: 0.0342 - val_loss: 0.0361\n",
      "Epoch 15/15\n",
      "250/250 [==============================] - 4s 17ms/step - loss: 0.0339 - val_loss: 0.0370\n"
     ]
    },
    {
     "data": {
      "text/plain": [
       "<keras.callbacks.History at 0x7f478c1c6940>"
      ]
     },
     "execution_count": 6,
     "metadata": {},
     "output_type": "execute_result"
    }
   ],
   "source": [
    "model.fit(x=train_X, y=train_Y, epochs=15, validation_data=(test_X, test_Y))"
   ]
  },
  {
   "cell_type": "markdown",
   "id": "6e9c4535-ac78-4437-896a-43ec83db9fdf",
   "metadata": {},
   "source": [
    "### Evaluation"
   ]
  },
  {
   "cell_type": "code",
   "execution_count": 14,
   "id": "98249cee-518c-456e-88f4-69a97dfd4e38",
   "metadata": {},
   "outputs": [
    {
     "data": {
      "text/plain": [
       "(32, 32)"
      ]
     },
     "execution_count": 14,
     "metadata": {},
     "output_type": "execute_result"
    }
   ],
   "source": [
    "np.squeeze(model(tf.expand_dims(test_X[idx], 0))[0]).shape"
   ]
  },
  {
   "cell_type": "code",
   "execution_count": 15,
   "id": "f69d402c-0599-4277-bd23-d5851a58c00e",
   "metadata": {},
   "outputs": [
    {
     "data": {
      "text/plain": [
       "Text(0.5, 1.0, 'image')"
      ]
     },
     "execution_count": 15,
     "metadata": {},
     "output_type": "execute_result"
    },
    {
     "data": {
      "image/png": "[encoded data removed]",
      "text/plain": [
       "<Figure size 432x288 with 2 Axes>"
      ]
     },
     "metadata": {
      "needs_background": "light"
     },
     "output_type": "display_data"
    },
    {
     "data": {
      "image/png": "[encoded data removed]",
      "text/plain": [
       "<Figure size 432x288 with 2 Axes>"
      ]
     },
     "metadata": {
      "needs_background": "light"
     },
     "output_type": "display_data"
    },
    {
     "data": {
      "image/png": "[encoded data removed]",
      "text/plain": [
       "<Figure size 432x288 with 2 Axes>"
      ]
     },
     "metadata": {
      "needs_background": "light"
     },
     "output_type": "display_data"
    }
   ],
   "source": [
    "idx = int(np.random.uniform(0,N_img*0.2))\n",
    "plt.figure()\n",
    "plt.imshow(np.squeeze(test_Y[idx]))\n",
    "plt.colorbar()\n",
    "plt.title(\"truth\")\n",
    "plt.figure()\n",
    "plt.imshow(np.squeeze(model(tf.expand_dims(test_X[idx], 0))))\n",
    "plt.colorbar()\n",
    "plt.title(\"pred\")\n",
    "plt.figure()\n",
    "plt.imshow(np.squeeze(test_X[idx]))\n",
    "plt.colorbar()\n",
    "plt.title(\"image\")"
   ]
  },
  {
   "cell_type": "code",
   "execution_count": null,
   "id": "b607a532-b7f6-43f8-9ef7-386e7812aa1e",
   "metadata": {},
   "outputs": [],
   "source": []
  },
  {
   "cell_type": "code",
   "execution_count": null,
   "id": "39d27684-fc66-4779-8b74-2410a329b297",
   "metadata": {},
   "outputs": [],
   "source": []
  }
 ],
 "metadata": {
  "kernelspec": {
   "display_name": "Python 3 (ipykernel)",
   "language": "python",
   "name": "python3"
  },
  "language_info": {
   "codemirror_mode": {
    "name": "ipython",
    "version": 3
   },
   "file_extension": ".py",
   "mimetype": "text/x-python",
   "name": "python",
   "nbconvert_exporter": "python",
   "pygments_lexer": "ipython3",
   "version": "3.8.13"
  }
 },
 "nbformat": 4,
 "nbformat_minor": 5
}
