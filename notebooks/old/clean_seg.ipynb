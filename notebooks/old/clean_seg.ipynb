{
 "cells": [
  {
   "cell_type": "code",
   "execution_count": 1,
   "id": "21ec3325-6198-4aa9-9e90-5bb9f91e1560",
   "metadata": {},
   "outputs": [],
   "source": [
    "%load_ext lab_black"
   ]
  },
  {
   "cell_type": "code",
   "execution_count": 2,
   "id": "56b0c668-fc60-4e02-970f-c0832921e5b8",
   "metadata": {},
   "outputs": [
    {
     "name": "stderr",
     "output_type": "stream",
     "text": [
      "2023-02-07 15:25:05.033770: I tensorflow/core/platform/cpu_feature_guard.cc:193] This TensorFlow binary is optimized with oneAPI Deep Neural Network Library (oneDNN) to use the following CPU instructions in performance-critical operations:  SSE4.1 SSE4.2 AVX AVX2 AVX512F FMA\n",
      "To enable them in other operations, rebuild TensorFlow with the appropriate compiler flags.\n"
     ]
    },
    {
     "name": "stdout",
     "output_type": "stream",
     "text": [
      "/cerea_raid/users/dumontj/dev/coco2/dl\n"
     ]
    }
   ],
   "source": [
    "import os\n",
    "\n",
    "os.chdir(\"/cerea_raid/users/dumontj/dev/coco2/dl\")\n",
    "import numpy as np\n",
    "import sys\n",
    "import pandas as pd\n",
    "import xarray as xr\n",
    "import tensorflow as tf\n",
    "from tensorflow import keras\n",
    "import keras.backend as K\n",
    "import matplotlib.pyplot as plt\n",
    "import seaborn as sns\n",
    "import joblib\n",
    "import models.seg as sm\n",
    "from Data import Data_train, Data_eval\n",
    "from include.loss import pixel_weighted_cross_entropy\n",
    "from saver import Saver\n",
    "from include.generators import Generator\n",
    "\n",
    "import model_eval\n",
    "import wandb\n",
    "from wandb.keras import WandbCallback"
   ]
  },
  {
   "cell_type": "markdown",
   "id": "f3a84760-63e2-4542-b37a-2729ac21d98a",
   "metadata": {
    "tags": []
   },
   "source": [
    "### Data download"
   ]
  },
  {
   "cell_type": "code",
   "execution_count": 3,
   "id": "30bb85ca-3a73-4c5b-9ecf-736f97f8a0d7",
   "metadata": {},
   "outputs": [],
   "source": [
    "path_train_nc = \"/libre/dumontj/coco2/dl-input/2km_forLip/2d_train_dataset.nc\"\n",
    "path_valid_nc = \"/libre/dumontj/coco2/dl-input/2km_Lip/2d_valid_dataset.nc\"\n",
    "path_eval_nc = path_valid_nc\n",
    "\n",
    "save_dir = \"/cerea_raid/users/dumontj/dev/coco2/dl/nb_train/sim/test\""
   ]
  },
  {
   "cell_type": "code",
   "execution_count": 4,
   "id": "e020b5af-a57a-4fc6-954a-62460bdd8576",
   "metadata": {},
   "outputs": [],
   "source": [
    "chan_1 = \"xco2\"\n",
    "chan_2 = \"no2\"\n",
    "chan_3 = \"u_wind\"\n",
    "chan_4 = \"v_wind\""
   ]
  },
  {
   "cell_type": "code",
   "execution_count": 5,
   "id": "ef1c0b6e-a4c5-41f4-b506-3bcd61ead2b4",
   "metadata": {},
   "outputs": [
    {
     "name": "stdout",
     "output_type": "stream",
     "text": [
      "data.x.eval.shape (1152, 64, 64, 4)\n",
      "data.y.train.shape (1152, 64, 64, 1)\n"
     ]
    },
    {
     "name": "stderr",
     "output_type": "stream",
     "text": [
      "2023-02-07 15:25:12.685156: I tensorflow/core/platform/cpu_feature_guard.cc:193] This TensorFlow binary is optimized with oneAPI Deep Neural Network Library (oneDNN) to use the following CPU instructions in performance-critical operations:  SSE4.1 SSE4.2 AVX AVX2 AVX512F FMA\n",
      "To enable them in other operations, rebuild TensorFlow with the appropriate compiler flags.\n",
      "2023-02-07 15:25:13.198898: I tensorflow/core/common_runtime/gpu/gpu_device.cc:1613] Created device /job:localhost/replica:0/task:0/device:GPU:0 with 14516 MB memory:  -> device: 0, name: Quadro RTX 5000, pci bus id: 0000:65:00.0, compute capability: 7.5\n"
     ]
    }
   ],
   "source": [
    "data = Data_eval(path_eval_nc)\n",
    "data.prepare_input(model_eval.get_scaler(save_dir), chan_1, chan_2, chan_3, chan_4)\n",
    "data.prepare_output_segmentation(max_w=1)\n",
    "model = model_eval.get_segmentation_model(os.path.join(save_dir), name_w=\"best_w.h5\")"
   ]
  },
  {
   "cell_type": "markdown",
   "id": "ee989de1-d672-4331-b1e0-53f3ee04034a",
   "metadata": {},
   "source": [
    "## cv2"
   ]
  },
  {
   "cell_type": "code",
   "execution_count": 6,
   "id": "782eccc6-d7e0-4c28-8da2-f664f0026664",
   "metadata": {},
   "outputs": [],
   "source": [
    "from sklearn.preprocessing import StandardScaler\n",
    "import cv2"
   ]
  },
  {
   "cell_type": "code",
   "execution_count": 7,
   "id": "eec78250-ba13-4fb3-b349-94d9deaaf7ca",
   "metadata": {},
   "outputs": [
    {
     "name": "stderr",
     "output_type": "stream",
     "text": [
      "2023-02-07 15:25:19.533146: I tensorflow/compiler/xla/stream_executor/cuda/cuda_dnn.cc:428] Loaded cuDNN version 8401\n",
      "2023-02-07 15:25:20.092921: I tensorflow/tsl/platform/default/subprocess.cc:304] Start cannot spawn child process: No such file or directory\n"
     ]
    },
    {
     "name": "stdout",
     "output_type": "stream",
     "text": [
      "36/36 [==============================] - 4s 14ms/step\n"
     ]
    }
   ],
   "source": [
    "x = tf.convert_to_tensor(data.x.eval, np.float32)\n",
    "pred = tf.convert_to_tensor(model.predict(x), np.float32)"
   ]
  },
  {
   "cell_type": "code",
   "execution_count": 25,
   "id": "f6c301a6-a5a0-4f5c-b94a-30f4a9b034f9",
   "metadata": {},
   "outputs": [],
   "source": [
    "idx = int(np.random.uniform(0, data.x.eval.shape[0]))\n",
    "X = np.squeeze(pred[idx].numpy())\n",
    "X = X > 0.4\n",
    "arr = X.copy()\n",
    "\n",
    "x1 = np.repeat(np.arange(X.shape[0]), len(X.flatten()) / len(np.arange(X.shape[0])))\n",
    "x2 = np.tile(np.arange(X.shape[1]), int(len(X.flatten()) / len(np.arange(X.shape[1]))))\n",
    "x3 = X.flatten()\n",
    "\n",
    "# X = np.array([x1, x2, x3]).T\n",
    "# scaler = StandardScaler()\n",
    "# X = scaler.fit_transform(X)"
   ]
  },
  {
   "cell_type": "code",
   "execution_count": 26,
   "id": "0a76c237-0721-4122-b9c1-bee5c56c3f3a",
   "metadata": {},
   "outputs": [
    {
     "data": {
      "image/png": "[encoded data removed]",
      "text/plain": [
       "<Figure size 640x480 with 2 Axes>"
      ]
     },
     "metadata": {},
     "output_type": "display_data"
    }
   ],
   "source": [
    "f, (ax1, ax2) = plt.subplots(1, 2)\n",
    "ax1.imshow(np.squeeze(pred[idx].numpy()))\n",
    "ax2.imshow(arr)\n",
    "plt.show()"
   ]
  },
  {
   "cell_type": "code",
   "execution_count": 27,
   "id": "c35fce08-e8d4-4926-9880-c9a8332f9fc1",
   "metadata": {},
   "outputs": [],
   "source": [
    "r_centre = 3"
   ]
  },
  {
   "cell_type": "code",
   "execution_count": 28,
   "id": "6af544eb-fa14-4bef-8dc9-f32053c5def8",
   "metadata": {},
   "outputs": [],
   "source": [
    "img = np.array(arr, dtype=np.uint8)\n",
    "img[\n",
    "    int(img.shape[0] / 2 - r_centre) : int(img.shape[0] / 2 + r_centre),\n",
    "    int(img.shape[1] / 2 - r_centre) : int(img.shape[1] / 2 + r_centre),\n",
    "] = 1\n",
    "\n",
    "num_labels, labels_im = cv2.connectedComponents(img)"
   ]
  },
  {
   "cell_type": "code",
   "execution_count": 29,
   "id": "b04d057c-5f03-463e-87fa-ff2e4b83786e",
   "metadata": {},
   "outputs": [],
   "source": [
    "labels_im[labels_im != labels_im[int(img.shape[0] / 2), int(img.shape[1] / 2)]] = 0"
   ]
  },
  {
   "cell_type": "code",
   "execution_count": 30,
   "id": "b23e7e91-90cd-4266-b7ff-55bab032f371",
   "metadata": {},
   "outputs": [
    {
     "data": {
      "text/plain": [
       "<matplotlib.image.AxesImage at 0x7f133087f730>"
      ]
     },
     "execution_count": 30,
     "metadata": {},
     "output_type": "execute_result"
    },
    {
     "data": {
      "image/png": "[encoded data removed]",
      "text/plain": [
       "<Figure size 640x480 with 1 Axes>"
      ]
     },
     "metadata": {},
     "output_type": "display_data"
    }
   ],
   "source": [
    "plt.imshow(labels_im)"
   ]
  },
  {
   "cell_type": "code",
   "execution_count": null,
   "id": "d88a0765-2504-4bd0-944c-1fb3b57c6478",
   "metadata": {},
   "outputs": [],
   "source": []
  }
 ],
 "metadata": {
  "kernelspec": {
   "display_name": "Python 3 (ipykernel)",
   "language": "python",
   "name": "python3"
  },
  "language_info": {
   "codemirror_mode": {
    "name": "ipython",
    "version": 3
   },
   "file_extension": ".py",
   "mimetype": "text/x-python",
   "name": "python",
   "nbconvert_exporter": "python",
   "pygments_lexer": "ipython3",
   "version": "3.9.15"
  }
 },
 "nbformat": 4,
 "nbformat_minor": 5
}
